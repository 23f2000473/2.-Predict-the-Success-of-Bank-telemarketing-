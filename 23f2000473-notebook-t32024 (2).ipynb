{
 "cells": [
  {
   "cell_type": "code",
   "execution_count": 1,
   "id": "8e03a8a1",
   "metadata": {
    "_cell_guid": "b1076dfc-b9ad-4769-8c92-a6c4dae69d19",
    "_uuid": "8f2839f25d086af736a60e9eeb907d3b93b6e0e5",
    "execution": {
     "iopub.execute_input": "2024-12-07T13:50:05.576998Z",
     "iopub.status.busy": "2024-12-07T13:50:05.576437Z",
     "iopub.status.idle": "2024-12-07T13:50:06.482902Z",
     "shell.execute_reply": "2024-12-07T13:50:06.481792Z"
    },
    "papermill": {
     "duration": 0.927566,
     "end_time": "2024-12-07T13:50:06.485242",
     "exception": false,
     "start_time": "2024-12-07T13:50:05.557676",
     "status": "completed"
    },
    "tags": []
   },
   "outputs": [
    {
     "name": "stdout",
     "output_type": "stream",
     "text": [
      "/kaggle/input/predict-the-success-of-bank-telemarketing/sample_submission.csv\n",
      "/kaggle/input/predict-the-success-of-bank-telemarketing/train.csv\n",
      "/kaggle/input/predict-the-success-of-bank-telemarketing/test.csv\n"
     ]
    }
   ],
   "source": [
    "# This Python 3 environment comes with many helpful analytics libraries installed\n",
    "# It is defined by the kaggle/python Docker image: https://github.com/kaggle/docker-python\n",
    "# For example, here's several helpful packages to load\n",
    "\n",
    "import numpy as np # linear algebra\n",
    "import pandas as pd # data processing, CSV file I/O (e.g. pd.read_csv)\n",
    "\n",
    "# Input data files are available in the read-only \"../input/\" directory\n",
    "# For example, running this (by clicking run or pressing Shift+Enter) will list all files under the input directory\n",
    "\n",
    "import os\n",
    "for dirname, _, filenames in os.walk('/kaggle/input'):\n",
    "    for filename in filenames:\n",
    "        print(os.path.join(dirname, filename))\n",
    "\n",
    "# You can write up to 20GB to the current directory (/kaggle/working/) that gets preserved as output when you create a version using \"Save & Run All\" \n",
    "# You can also write temporary files to /kaggle/temp/, but they won't be saved outside of the current session"
   ]
  },
  {
   "cell_type": "markdown",
   "id": "0bba2dc6",
   "metadata": {
    "papermill": {
     "duration": 0.014324,
     "end_time": "2024-12-07T13:50:06.514713",
     "exception": false,
     "start_time": "2024-12-07T13:50:06.500389",
     "status": "completed"
    },
    "tags": []
   },
   "source": [
    "# Importing Libraries"
   ]
  },
  {
   "cell_type": "code",
   "execution_count": 2,
   "id": "4d6651bb",
   "metadata": {
    "execution": {
     "iopub.execute_input": "2024-12-07T13:50:06.545844Z",
     "iopub.status.busy": "2024-12-07T13:50:06.545291Z",
     "iopub.status.idle": "2024-12-07T13:50:09.243722Z",
     "shell.execute_reply": "2024-12-07T13:50:09.242633Z"
    },
    "papermill": {
     "duration": 2.717143,
     "end_time": "2024-12-07T13:50:09.246205",
     "exception": false,
     "start_time": "2024-12-07T13:50:06.529062",
     "status": "completed"
    },
    "tags": []
   },
   "outputs": [],
   "source": [
    "from sklearn.impute import SimpleImputer\n",
    "from sklearn.preprocessing import OneHotEncoder, OrdinalEncoder\n",
    "from sklearn.pipeline import Pipeline\n",
    "import seaborn as sns\n",
    "import matplotlib.pyplot as plt\n",
    "from sklearn.model_selection import train_test_split, RandomizedSearchCV\n",
    "from imblearn.combine import SMOTEENN\n",
    "import xgboost as xgb\n",
    "from sklearn.ensemble import RandomForestClassifier\n",
    "from sklearn.tree import DecisionTreeClassifier\n",
    "from sklearn.linear_model import LogisticRegression\n",
    "from sklearn.metrics import classification_report, accuracy_score, recall_score, precision_score, f1_score, roc_auc_score, confusion_matrix\n",
    "from sklearn.compose import ColumnTransformer\n",
    "from sklearn.preprocessing import OneHotEncoder, StandardScaler, MinMaxScaler\n",
    "from sklearn.feature_selection import RFE"
   ]
  },
  {
   "cell_type": "markdown",
   "id": "854f1ea8",
   "metadata": {
    "papermill": {
     "duration": 0.014098,
     "end_time": "2024-12-07T13:50:09.275047",
     "exception": false,
     "start_time": "2024-12-07T13:50:09.260949",
     "status": "completed"
    },
    "tags": []
   },
   "source": [
    "# Loading Dataset"
   ]
  },
  {
   "cell_type": "code",
   "execution_count": 3,
   "id": "ee30141d",
   "metadata": {
    "execution": {
     "iopub.execute_input": "2024-12-07T13:50:09.306759Z",
     "iopub.status.busy": "2024-12-07T13:50:09.306152Z",
     "iopub.status.idle": "2024-12-07T13:50:09.455448Z",
     "shell.execute_reply": "2024-12-07T13:50:09.454329Z"
    },
    "papermill": {
     "duration": 0.168338,
     "end_time": "2024-12-07T13:50:09.458119",
     "exception": false,
     "start_time": "2024-12-07T13:50:09.289781",
     "status": "completed"
    },
    "tags": []
   },
   "outputs": [],
   "source": [
    "train_data=pd.read_csv(\"/kaggle/input/predict-the-success-of-bank-telemarketing/train.csv\")  #Loading train dataset"
   ]
  },
  {
   "cell_type": "code",
   "execution_count": 4,
   "id": "128b2b15",
   "metadata": {
    "execution": {
     "iopub.execute_input": "2024-12-07T13:50:09.491259Z",
     "iopub.status.busy": "2024-12-07T13:50:09.490870Z",
     "iopub.status.idle": "2024-12-07T13:50:09.497500Z",
     "shell.execute_reply": "2024-12-07T13:50:09.496435Z"
    },
    "papermill": {
     "duration": 0.025229,
     "end_time": "2024-12-07T13:50:09.499730",
     "exception": false,
     "start_time": "2024-12-07T13:50:09.474501",
     "status": "completed"
    },
    "tags": []
   },
   "outputs": [],
   "source": [
    "df=train_data.copy()        # copying dataset into df variable"
   ]
  },
  {
   "cell_type": "code",
   "execution_count": 5,
   "id": "bc90a949",
   "metadata": {
    "execution": {
     "iopub.execute_input": "2024-12-07T13:50:09.530509Z",
     "iopub.status.busy": "2024-12-07T13:50:09.529575Z",
     "iopub.status.idle": "2024-12-07T13:50:09.553634Z",
     "shell.execute_reply": "2024-12-07T13:50:09.552581Z"
    },
    "papermill": {
     "duration": 0.041606,
     "end_time": "2024-12-07T13:50:09.555760",
     "exception": false,
     "start_time": "2024-12-07T13:50:09.514154",
     "status": "completed"
    },
    "tags": []
   },
   "outputs": [
    {
     "data": {
      "text/html": [
       "<div>\n",
       "<style scoped>\n",
       "    .dataframe tbody tr th:only-of-type {\n",
       "        vertical-align: middle;\n",
       "    }\n",
       "\n",
       "    .dataframe tbody tr th {\n",
       "        vertical-align: top;\n",
       "    }\n",
       "\n",
       "    .dataframe thead th {\n",
       "        text-align: right;\n",
       "    }\n",
       "</style>\n",
       "<table border=\"1\" class=\"dataframe\">\n",
       "  <thead>\n",
       "    <tr style=\"text-align: right;\">\n",
       "      <th></th>\n",
       "      <th>last contact date</th>\n",
       "      <th>age</th>\n",
       "      <th>job</th>\n",
       "      <th>marital</th>\n",
       "      <th>education</th>\n",
       "      <th>default</th>\n",
       "      <th>balance</th>\n",
       "      <th>housing</th>\n",
       "      <th>loan</th>\n",
       "      <th>contact</th>\n",
       "      <th>duration</th>\n",
       "      <th>campaign</th>\n",
       "      <th>pdays</th>\n",
       "      <th>previous</th>\n",
       "      <th>poutcome</th>\n",
       "      <th>target</th>\n",
       "    </tr>\n",
       "  </thead>\n",
       "  <tbody>\n",
       "    <tr>\n",
       "      <th>0</th>\n",
       "      <td>2009-04-17</td>\n",
       "      <td>26</td>\n",
       "      <td>blue-collar</td>\n",
       "      <td>married</td>\n",
       "      <td>secondary</td>\n",
       "      <td>no</td>\n",
       "      <td>647</td>\n",
       "      <td>yes</td>\n",
       "      <td>no</td>\n",
       "      <td>cellular</td>\n",
       "      <td>357</td>\n",
       "      <td>2</td>\n",
       "      <td>331</td>\n",
       "      <td>1</td>\n",
       "      <td>other</td>\n",
       "      <td>no</td>\n",
       "    </tr>\n",
       "    <tr>\n",
       "      <th>1</th>\n",
       "      <td>2009-10-11</td>\n",
       "      <td>52</td>\n",
       "      <td>technician</td>\n",
       "      <td>married</td>\n",
       "      <td>secondary</td>\n",
       "      <td>no</td>\n",
       "      <td>553</td>\n",
       "      <td>yes</td>\n",
       "      <td>no</td>\n",
       "      <td>telephone</td>\n",
       "      <td>160</td>\n",
       "      <td>1</td>\n",
       "      <td>-1</td>\n",
       "      <td>0</td>\n",
       "      <td>NaN</td>\n",
       "      <td>no</td>\n",
       "    </tr>\n",
       "    <tr>\n",
       "      <th>2</th>\n",
       "      <td>2010-11-20</td>\n",
       "      <td>44</td>\n",
       "      <td>blue-collar</td>\n",
       "      <td>married</td>\n",
       "      <td>secondary</td>\n",
       "      <td>no</td>\n",
       "      <td>1397</td>\n",
       "      <td>no</td>\n",
       "      <td>no</td>\n",
       "      <td>cellular</td>\n",
       "      <td>326</td>\n",
       "      <td>1</td>\n",
       "      <td>-1</td>\n",
       "      <td>0</td>\n",
       "      <td>NaN</td>\n",
       "      <td>no</td>\n",
       "    </tr>\n",
       "    <tr>\n",
       "      <th>3</th>\n",
       "      <td>2009-09-01</td>\n",
       "      <td>33</td>\n",
       "      <td>admin.</td>\n",
       "      <td>married</td>\n",
       "      <td>secondary</td>\n",
       "      <td>no</td>\n",
       "      <td>394</td>\n",
       "      <td>yes</td>\n",
       "      <td>no</td>\n",
       "      <td>telephone</td>\n",
       "      <td>104</td>\n",
       "      <td>3</td>\n",
       "      <td>-1</td>\n",
       "      <td>0</td>\n",
       "      <td>NaN</td>\n",
       "      <td>no</td>\n",
       "    </tr>\n",
       "    <tr>\n",
       "      <th>4</th>\n",
       "      <td>2008-01-29</td>\n",
       "      <td>31</td>\n",
       "      <td>entrepreneur</td>\n",
       "      <td>single</td>\n",
       "      <td>tertiary</td>\n",
       "      <td>no</td>\n",
       "      <td>137</td>\n",
       "      <td>no</td>\n",
       "      <td>no</td>\n",
       "      <td>cellular</td>\n",
       "      <td>445</td>\n",
       "      <td>2</td>\n",
       "      <td>-1</td>\n",
       "      <td>0</td>\n",
       "      <td>NaN</td>\n",
       "      <td>no</td>\n",
       "    </tr>\n",
       "  </tbody>\n",
       "</table>\n",
       "</div>"
      ],
      "text/plain": [
       "  last contact date  age           job  marital  education default  balance  \\\n",
       "0        2009-04-17   26   blue-collar  married  secondary      no      647   \n",
       "1        2009-10-11   52    technician  married  secondary      no      553   \n",
       "2        2010-11-20   44   blue-collar  married  secondary      no     1397   \n",
       "3        2009-09-01   33        admin.  married  secondary      no      394   \n",
       "4        2008-01-29   31  entrepreneur   single   tertiary      no      137   \n",
       "\n",
       "  housing loan    contact  duration  campaign  pdays  previous poutcome target  \n",
       "0     yes   no   cellular       357         2    331         1    other     no  \n",
       "1     yes   no  telephone       160         1     -1         0      NaN     no  \n",
       "2      no   no   cellular       326         1     -1         0      NaN     no  \n",
       "3     yes   no  telephone       104         3     -1         0      NaN     no  \n",
       "4      no   no   cellular       445         2     -1         0      NaN     no  "
      ]
     },
     "execution_count": 5,
     "metadata": {},
     "output_type": "execute_result"
    }
   ],
   "source": [
    "df.head()                   # checking the Dataset"
   ]
  },
  {
   "cell_type": "markdown",
   "id": "bbce17f9",
   "metadata": {
    "papermill": {
     "duration": 0.01447,
     "end_time": "2024-12-07T13:50:09.585116",
     "exception": false,
     "start_time": "2024-12-07T13:50:09.570646",
     "status": "completed"
    },
    "tags": []
   },
   "source": [
    "# EDA "
   ]
  },
  {
   "cell_type": "code",
   "execution_count": 6,
   "id": "f7a4d9e5",
   "metadata": {
    "execution": {
     "iopub.execute_input": "2024-12-07T13:50:09.616740Z",
     "iopub.status.busy": "2024-12-07T13:50:09.616328Z",
     "iopub.status.idle": "2024-12-07T13:50:09.645797Z",
     "shell.execute_reply": "2024-12-07T13:50:09.644688Z"
    },
    "papermill": {
     "duration": 0.048159,
     "end_time": "2024-12-07T13:50:09.648162",
     "exception": false,
     "start_time": "2024-12-07T13:50:09.600003",
     "status": "completed"
    },
    "tags": []
   },
   "outputs": [
    {
     "data": {
      "text/plain": [
       "last contact date        0\n",
       "age                      0\n",
       "job                    229\n",
       "marital                  0\n",
       "education             1467\n",
       "default                  0\n",
       "balance                  0\n",
       "housing                  0\n",
       "loan                     0\n",
       "contact              10336\n",
       "duration                 0\n",
       "campaign                 0\n",
       "pdays                    0\n",
       "previous                 0\n",
       "poutcome             29451\n",
       "target                   0\n",
       "dtype: int64"
      ]
     },
     "execution_count": 6,
     "metadata": {},
     "output_type": "execute_result"
    }
   ],
   "source": [
    "df.isnull().sum()"
   ]
  },
  {
   "cell_type": "code",
   "execution_count": 7,
   "id": "74ad1eb1",
   "metadata": {
    "execution": {
     "iopub.execute_input": "2024-12-07T13:50:09.679811Z",
     "iopub.status.busy": "2024-12-07T13:50:09.679399Z",
     "iopub.status.idle": "2024-12-07T13:50:09.727792Z",
     "shell.execute_reply": "2024-12-07T13:50:09.726742Z"
    },
    "papermill": {
     "duration": 0.066679,
     "end_time": "2024-12-07T13:50:09.730005",
     "exception": false,
     "start_time": "2024-12-07T13:50:09.663326",
     "status": "completed"
    },
    "tags": []
   },
   "outputs": [
    {
     "data": {
      "text/plain": [
       "last contact date     0.000000\n",
       "age                   0.000000\n",
       "job                   0.552033\n",
       "marital               0.000000\n",
       "education             3.536388\n",
       "default               0.000000\n",
       "balance               0.000000\n",
       "housing               0.000000\n",
       "loan                  0.000000\n",
       "contact              24.916231\n",
       "duration              0.000000\n",
       "campaign              0.000000\n",
       "pdays                 0.000000\n",
       "previous              0.000000\n",
       "poutcome             70.995347\n",
       "target                0.000000\n",
       "dtype: float64"
      ]
     },
     "execution_count": 7,
     "metadata": {},
     "output_type": "execute_result"
    }
   ],
   "source": [
    "df.isnull().sum()/df.isnull().sum().sum()*100"
   ]
  },
  {
   "cell_type": "markdown",
   "id": "e685bbc2",
   "metadata": {
    "papermill": {
     "duration": 0.015506,
     "end_time": "2024-12-07T13:50:09.760632",
     "exception": false,
     "start_time": "2024-12-07T13:50:09.745126",
     "status": "completed"
    },
    "tags": []
   },
   "source": [
    "1. **we can set there are missing values in categorical columns. since all the missing columns are categorical we can try imputing with most frequent value.**\n",
    "2. poutcome has almost 75 percent missing entries."
   ]
  },
  {
   "cell_type": "code",
   "execution_count": 8,
   "id": "1878634f",
   "metadata": {
    "execution": {
     "iopub.execute_input": "2024-12-07T13:50:09.793320Z",
     "iopub.status.busy": "2024-12-07T13:50:09.792806Z",
     "iopub.status.idle": "2024-12-07T13:50:09.841832Z",
     "shell.execute_reply": "2024-12-07T13:50:09.840513Z"
    },
    "papermill": {
     "duration": 0.067987,
     "end_time": "2024-12-07T13:50:09.844315",
     "exception": false,
     "start_time": "2024-12-07T13:50:09.776328",
     "status": "completed"
    },
    "tags": []
   },
   "outputs": [
    {
     "data": {
      "text/html": [
       "<div>\n",
       "<style scoped>\n",
       "    .dataframe tbody tr th:only-of-type {\n",
       "        vertical-align: middle;\n",
       "    }\n",
       "\n",
       "    .dataframe tbody tr th {\n",
       "        vertical-align: top;\n",
       "    }\n",
       "\n",
       "    .dataframe thead th {\n",
       "        text-align: right;\n",
       "    }\n",
       "</style>\n",
       "<table border=\"1\" class=\"dataframe\">\n",
       "  <thead>\n",
       "    <tr style=\"text-align: right;\">\n",
       "      <th></th>\n",
       "      <th>count</th>\n",
       "      <th>mean</th>\n",
       "      <th>std</th>\n",
       "      <th>min</th>\n",
       "      <th>25%</th>\n",
       "      <th>50%</th>\n",
       "      <th>75%</th>\n",
       "      <th>max</th>\n",
       "    </tr>\n",
       "  </thead>\n",
       "  <tbody>\n",
       "    <tr>\n",
       "      <th>age</th>\n",
       "      <td>39211.0</td>\n",
       "      <td>42.120247</td>\n",
       "      <td>12.709352</td>\n",
       "      <td>18.0</td>\n",
       "      <td>33.0</td>\n",
       "      <td>40.0</td>\n",
       "      <td>50.0</td>\n",
       "      <td>95.0</td>\n",
       "    </tr>\n",
       "    <tr>\n",
       "      <th>balance</th>\n",
       "      <td>39211.0</td>\n",
       "      <td>5441.781719</td>\n",
       "      <td>16365.292065</td>\n",
       "      <td>-8019.0</td>\n",
       "      <td>98.0</td>\n",
       "      <td>549.0</td>\n",
       "      <td>2030.0</td>\n",
       "      <td>102127.0</td>\n",
       "    </tr>\n",
       "    <tr>\n",
       "      <th>duration</th>\n",
       "      <td>39211.0</td>\n",
       "      <td>439.062789</td>\n",
       "      <td>769.096291</td>\n",
       "      <td>0.0</td>\n",
       "      <td>109.0</td>\n",
       "      <td>197.0</td>\n",
       "      <td>380.0</td>\n",
       "      <td>4918.0</td>\n",
       "    </tr>\n",
       "    <tr>\n",
       "      <th>campaign</th>\n",
       "      <td>39211.0</td>\n",
       "      <td>5.108770</td>\n",
       "      <td>9.890153</td>\n",
       "      <td>1.0</td>\n",
       "      <td>1.0</td>\n",
       "      <td>2.0</td>\n",
       "      <td>4.0</td>\n",
       "      <td>63.0</td>\n",
       "    </tr>\n",
       "    <tr>\n",
       "      <th>pdays</th>\n",
       "      <td>39211.0</td>\n",
       "      <td>72.256051</td>\n",
       "      <td>160.942593</td>\n",
       "      <td>-1.0</td>\n",
       "      <td>-1.0</td>\n",
       "      <td>-1.0</td>\n",
       "      <td>-1.0</td>\n",
       "      <td>871.0</td>\n",
       "    </tr>\n",
       "    <tr>\n",
       "      <th>previous</th>\n",
       "      <td>39211.0</td>\n",
       "      <td>11.826171</td>\n",
       "      <td>44.140259</td>\n",
       "      <td>0.0</td>\n",
       "      <td>0.0</td>\n",
       "      <td>0.0</td>\n",
       "      <td>0.0</td>\n",
       "      <td>275.0</td>\n",
       "    </tr>\n",
       "  </tbody>\n",
       "</table>\n",
       "</div>"
      ],
      "text/plain": [
       "            count         mean           std     min    25%    50%     75%  \\\n",
       "age       39211.0    42.120247     12.709352    18.0   33.0   40.0    50.0   \n",
       "balance   39211.0  5441.781719  16365.292065 -8019.0   98.0  549.0  2030.0   \n",
       "duration  39211.0   439.062789    769.096291     0.0  109.0  197.0   380.0   \n",
       "campaign  39211.0     5.108770      9.890153     1.0    1.0    2.0     4.0   \n",
       "pdays     39211.0    72.256051    160.942593    -1.0   -1.0   -1.0    -1.0   \n",
       "previous  39211.0    11.826171     44.140259     0.0    0.0    0.0     0.0   \n",
       "\n",
       "               max  \n",
       "age           95.0  \n",
       "balance   102127.0  \n",
       "duration    4918.0  \n",
       "campaign      63.0  \n",
       "pdays        871.0  \n",
       "previous     275.0  "
      ]
     },
     "execution_count": 8,
     "metadata": {},
     "output_type": "execute_result"
    }
   ],
   "source": [
    "df.describe().T"
   ]
  },
  {
   "cell_type": "markdown",
   "id": "998d5144",
   "metadata": {
    "papermill": {
     "duration": 0.024741,
     "end_time": "2024-12-07T13:50:09.884834",
     "exception": false,
     "start_time": "2024-12-07T13:50:09.860093",
     "status": "completed"
    },
    "tags": []
   },
   "source": [
    "Age:\n",
    "\n",
    "1. we can see that minimum age is age maximum upto 95.and  interesting fact is that almost 75 percent of the candidates is below age of 50.\n",
    "2. median of the age is 40 which means most of the candidates ages around 40.\n",
    "\n",
    "Balance:\n",
    "\n",
    "1. there are candidates whose balance are negative. which may indicate they are in debt.\n",
    "2. balance has a higher variance may help with generalization\n",
    "3. on average candidates has 5441 in their account.\n",
    "\n",
    "Duration:\n",
    "\n",
    "1. higher in variance\n",
    "2. on average 440 seconds duration of the call during contact.\n",
    "\n",
    "campgaign:\n",
    "\n",
    "1. most people attempted campaign around 5\n",
    "\n",
    "pdays:\n",
    "\n",
    "1. most people have never contacted before.\n",
    "2. maximum p days is 871\n",
    "\n",
    "\n",
    "previous:\n",
    "\n",
    "1. 75 percent of the candidated is previously contacted 0 times. maximum of 275.\n",
    "\n",
    "\n"
   ]
  },
  {
   "cell_type": "code",
   "execution_count": 9,
   "id": "d961c45f",
   "metadata": {
    "execution": {
     "iopub.execute_input": "2024-12-07T13:50:09.926106Z",
     "iopub.status.busy": "2024-12-07T13:50:09.925670Z",
     "iopub.status.idle": "2024-12-07T13:50:09.936497Z",
     "shell.execute_reply": "2024-12-07T13:50:09.934611Z"
    },
    "papermill": {
     "duration": 0.034833,
     "end_time": "2024-12-07T13:50:09.941204",
     "exception": false,
     "start_time": "2024-12-07T13:50:09.906371",
     "status": "completed"
    },
    "tags": []
   },
   "outputs": [
    {
     "data": {
      "text/plain": [
       "40.0"
      ]
     },
     "execution_count": 9,
     "metadata": {},
     "output_type": "execute_result"
    }
   ],
   "source": [
    "df.age.median()"
   ]
  },
  {
   "cell_type": "code",
   "execution_count": 10,
   "id": "e55657db",
   "metadata": {
    "execution": {
     "iopub.execute_input": "2024-12-07T13:50:09.977521Z",
     "iopub.status.busy": "2024-12-07T13:50:09.977071Z",
     "iopub.status.idle": "2024-12-07T13:50:11.589631Z",
     "shell.execute_reply": "2024-12-07T13:50:11.588482Z"
    },
    "papermill": {
     "duration": 1.632793,
     "end_time": "2024-12-07T13:50:11.592904",
     "exception": false,
     "start_time": "2024-12-07T13:50:09.960111",
     "status": "completed"
    },
    "tags": []
   },
   "outputs": [
    {
     "data": {
      "image/png": "[encoded data removed]",
      "text/plain": [
       "<Figure size 1200x1200 with 6 Axes>"
      ]
     },
     "metadata": {},
     "output_type": "display_data"
    }
   ],
   "source": [
    "# draw an histogram\n",
    "df.hist(figsize=(12, 12), color='blue', edgecolor='black')\n",
    "plt.tight_layout()\n",
    "plt.show()"
   ]
  },
  {
   "cell_type": "markdown",
   "id": "8cff40cd",
   "metadata": {
    "papermill": {
     "duration": 0.016434,
     "end_time": "2024-12-07T13:50:11.626324",
     "exception": false,
     "start_time": "2024-12-07T13:50:11.609890",
     "status": "completed"
    },
    "tags": []
   },
   "source": [
    "Distributions:\n",
    "\n",
    "**From the histograms we can see that age is normally distributed and all other numerical columns are exponentially distributted.**"
   ]
  },
  {
   "cell_type": "code",
   "execution_count": 11,
   "id": "cb953d45",
   "metadata": {
    "execution": {
     "iopub.execute_input": "2024-12-07T13:50:11.661505Z",
     "iopub.status.busy": "2024-12-07T13:50:11.661113Z",
     "iopub.status.idle": "2024-12-07T13:50:12.106764Z",
     "shell.execute_reply": "2024-12-07T13:50:12.105240Z"
    },
    "papermill": {
     "duration": 0.466327,
     "end_time": "2024-12-07T13:50:12.109219",
     "exception": false,
     "start_time": "2024-12-07T13:50:11.642892",
     "status": "completed"
    },
    "tags": []
   },
   "outputs": [
    {
     "data": {
      "image/png": "[encoded data removed]",
      "text/plain": [
       "<Figure size 640x480 with 1 Axes>"
      ]
     },
     "metadata": {},
     "output_type": "display_data"
    }
   ],
   "source": [
    "#Draw boxplot for numerical columns\n",
    "sns.boxplot(data=df, orient='h', color='blue')\n",
    "plt.tight_layout()\n",
    "plt.show()"
   ]
  },
  {
   "cell_type": "markdown",
   "id": "39785a20",
   "metadata": {
    "papermill": {
     "duration": 0.017285,
     "end_time": "2024-12-07T13:50:12.144142",
     "exception": false,
     "start_time": "2024-12-07T13:50:12.126857",
     "status": "completed"
    },
    "tags": []
   },
   "source": [
    "Outliers:\n",
    "\n",
    "From that boxplot we can conclude that there is higher outlier in balance column. so it is recommended to remove the outlier."
   ]
  },
  {
   "cell_type": "markdown",
   "id": "b474dc23",
   "metadata": {
    "papermill": {
     "duration": 0.017672,
     "end_time": "2024-12-07T13:50:12.178760",
     "exception": false,
     "start_time": "2024-12-07T13:50:12.161088",
     "status": "completed"
    },
    "tags": []
   },
   "source": [
    "Note: We need to understand the dependancy between input features . It can be done by creating correlation matrix between Feature Variablres."
   ]
  },
  {
   "cell_type": "code",
   "execution_count": 12,
   "id": "d73e2891",
   "metadata": {
    "execution": {
     "iopub.execute_input": "2024-12-07T13:50:12.214665Z",
     "iopub.status.busy": "2024-12-07T13:50:12.214245Z",
     "iopub.status.idle": "2024-12-07T13:50:12.630499Z",
     "shell.execute_reply": "2024-12-07T13:50:12.629342Z"
    },
    "papermill": {
     "duration": 0.436424,
     "end_time": "2024-12-07T13:50:12.632784",
     "exception": false,
     "start_time": "2024-12-07T13:50:12.196360",
     "status": "completed"
    },
    "tags": []
   },
   "outputs": [
    {
     "data": {
      "image/png": "[encoded data removed]",
      "text/plain": [
       "<Figure size 1000x800 with 2 Axes>"
      ]
     },
     "metadata": {},
     "output_type": "display_data"
    }
   ],
   "source": [
    "numerical_columns = ['age','balance', 'duration', 'campaign', 'pdays', 'previous']  # create a list of numerical feature names\n",
    "plt.figure(figsize=(10, 8))                                                         # define size of the heatmap\n",
    "corr_matrix = df[numerical_columns].corr()                                          # create correlation matrix\n",
    "sns.heatmap(corr_matrix, annot=True, fmt='.2f', cmap='coolwarm')                    # create heatmap\n",
    "plt.title('Correlation Matrix for Numerical Features')                              # define title of the heatmap\n",
    "plt.show() "
   ]
  },
  {
   "cell_type": "markdown",
   "id": "e040c57b",
   "metadata": {
    "papermill": {
     "duration": 0.017843,
     "end_time": "2024-12-07T13:50:12.668706",
     "exception": false,
     "start_time": "2024-12-07T13:50:12.650863",
     "status": "completed"
    },
    "tags": []
   },
   "source": [
    "correlations:\n",
    "1. age is not correlated with other features\n",
    "2. balance is strogly correlated with duration, coampaign, pdays ,and previous\n",
    "   \n",
    "note: other than age all other featues are strogly correlated with each other columns."
   ]
  },
  {
   "cell_type": "markdown",
   "id": "9c0bffa8",
   "metadata": {
    "papermill": {
     "duration": 0.017558,
     "end_time": "2024-12-07T13:50:12.704355",
     "exception": false,
     "start_time": "2024-12-07T13:50:12.686797",
     "status": "completed"
    },
    "tags": []
   },
   "source": [
    "# Preprocessing"
   ]
  },
  {
   "cell_type": "markdown",
   "id": "368f930c",
   "metadata": {
    "papermill": {
     "duration": 0.01768,
     "end_time": "2024-12-07T13:50:12.739923",
     "exception": false,
     "start_time": "2024-12-07T13:50:12.722243",
     "status": "completed"
    },
    "tags": []
   },
   "source": [
    "## 1. Removing Outliers"
   ]
  },
  {
   "cell_type": "code",
   "execution_count": 13,
   "id": "a32553a7",
   "metadata": {
    "execution": {
     "iopub.execute_input": "2024-12-07T13:50:12.777731Z",
     "iopub.status.busy": "2024-12-07T13:50:12.777311Z",
     "iopub.status.idle": "2024-12-07T13:50:12.792371Z",
     "shell.execute_reply": "2024-12-07T13:50:12.791240Z"
    },
    "papermill": {
     "duration": 0.037057,
     "end_time": "2024-12-07T13:50:12.795000",
     "exception": false,
     "start_time": "2024-12-07T13:50:12.757943",
     "status": "completed"
    },
    "tags": []
   },
   "outputs": [],
   "source": [
    "        Q1 = df['balance'].quantile(0.10) # 10 percentile for q1 \n",
    "        Q3 = df['balance'].quantile(0.90) # 90 percentile for q2\n",
    "\n",
    "\n",
    "        factor=1.5\n",
    "        IQR = Q3 - Q1\n",
    "\n",
    "\n",
    "        lower_bound = Q1 - factor * IQR    # defining lower bound\n",
    "        upper_bound = Q3 + factor * IQR    # defining upper bound\n",
    "\n",
    "                                                                                    \n",
    "        df = df[( df['balance'] >= lower_bound) & ( df['balance'] <= upper_bound)]     # Filter rows within bounds"
   ]
  },
  {
   "cell_type": "markdown",
   "id": "00201e83",
   "metadata": {
    "papermill": {
     "duration": 0.018117,
     "end_time": "2024-12-07T13:50:12.831470",
     "exception": false,
     "start_time": "2024-12-07T13:50:12.813353",
     "status": "completed"
    },
    "tags": []
   },
   "source": [
    "## 2. Handling Missing Values"
   ]
  },
  {
   "cell_type": "code",
   "execution_count": 14,
   "id": "ec44477b",
   "metadata": {
    "execution": {
     "iopub.execute_input": "2024-12-07T13:50:12.870213Z",
     "iopub.status.busy": "2024-12-07T13:50:12.869653Z",
     "iopub.status.idle": "2024-12-07T13:50:12.875124Z",
     "shell.execute_reply": "2024-12-07T13:50:12.873962Z"
    },
    "papermill": {
     "duration": 0.027091,
     "end_time": "2024-12-07T13:50:12.877241",
     "exception": false,
     "start_time": "2024-12-07T13:50:12.850150",
     "status": "completed"
    },
    "tags": []
   },
   "outputs": [],
   "source": [
    "si=SimpleImputer(strategy=\"most_frequent\")                                                     # imputing missing values with most frequent category"
   ]
  },
  {
   "cell_type": "code",
   "execution_count": 15,
   "id": "00763c6d",
   "metadata": {
    "execution": {
     "iopub.execute_input": "2024-12-07T13:50:12.917654Z",
     "iopub.status.busy": "2024-12-07T13:50:12.916869Z",
     "iopub.status.idle": "2024-12-07T13:50:12.945044Z",
     "shell.execute_reply": "2024-12-07T13:50:12.944050Z"
    },
    "papermill": {
     "duration": 0.051945,
     "end_time": "2024-12-07T13:50:12.947358",
     "exception": false,
     "start_time": "2024-12-07T13:50:12.895413",
     "status": "completed"
    },
    "tags": []
   },
   "outputs": [],
   "source": [
    "df[['job','education', 'contact']]=si.fit_transform(df[['job','education', 'contact']])        # imputing missing values with most frequent category "
   ]
  },
  {
   "cell_type": "code",
   "execution_count": 16,
   "id": "c88e00de",
   "metadata": {
    "execution": {
     "iopub.execute_input": "2024-12-07T13:50:12.985131Z",
     "iopub.status.busy": "2024-12-07T13:50:12.984724Z",
     "iopub.status.idle": "2024-12-07T13:50:12.994136Z",
     "shell.execute_reply": "2024-12-07T13:50:12.992961Z"
    },
    "papermill": {
     "duration": 0.03173,
     "end_time": "2024-12-07T13:50:12.997270",
     "exception": false,
     "start_time": "2024-12-07T13:50:12.965540",
     "status": "completed"
    },
    "tags": []
   },
   "outputs": [],
   "source": [
    "df[\"poutcome\"] = df[\"poutcome\"].fillna(\"No contact\")                                           # filling missing values with \"No contact\" by using p days features"
   ]
  },
  {
   "cell_type": "markdown",
   "id": "adf88509",
   "metadata": {
    "papermill": {
     "duration": 0.019537,
     "end_time": "2024-12-07T13:50:13.036731",
     "exception": false,
     "start_time": "2024-12-07T13:50:13.017194",
     "status": "completed"
    },
    "tags": []
   },
   "source": [
    "## 3. Encoding the Dataset"
   ]
  },
  {
   "cell_type": "code",
   "execution_count": 17,
   "id": "b1b757b9",
   "metadata": {
    "execution": {
     "iopub.execute_input": "2024-12-07T13:50:13.074713Z",
     "iopub.status.busy": "2024-12-07T13:50:13.074265Z",
     "iopub.status.idle": "2024-12-07T13:50:13.079178Z",
     "shell.execute_reply": "2024-12-07T13:50:13.078028Z"
    },
    "papermill": {
     "duration": 0.026839,
     "end_time": "2024-12-07T13:50:13.081460",
     "exception": false,
     "start_time": "2024-12-07T13:50:13.054621",
     "status": "completed"
    },
    "tags": []
   },
   "outputs": [],
   "source": [
    "encoder=OrdinalEncoder()                                                                                        # Initialising Encoder"
   ]
  },
  {
   "cell_type": "code",
   "execution_count": 18,
   "id": "7ddd4bbe",
   "metadata": {
    "execution": {
     "iopub.execute_input": "2024-12-07T13:50:13.122320Z",
     "iopub.status.busy": "2024-12-07T13:50:13.121901Z",
     "iopub.status.idle": "2024-12-07T13:50:13.162764Z",
     "shell.execute_reply": "2024-12-07T13:50:13.161772Z"
    },
    "papermill": {
     "duration": 0.064919,
     "end_time": "2024-12-07T13:50:13.165298",
     "exception": false,
     "start_time": "2024-12-07T13:50:13.100379",
     "status": "completed"
    },
    "tags": []
   },
   "outputs": [],
   "source": [
    "df[['loan','housing', 'default', 'target']]=encoder.fit_transform(df[['loan','housing', 'default', 'target']])  # Encoding selcted Columns"
   ]
  },
  {
   "cell_type": "code",
   "execution_count": 19,
   "id": "7bfadc49",
   "metadata": {
    "execution": {
     "iopub.execute_input": "2024-12-07T13:50:13.207123Z",
     "iopub.status.busy": "2024-12-07T13:50:13.206734Z",
     "iopub.status.idle": "2024-12-07T13:50:13.224194Z",
     "shell.execute_reply": "2024-12-07T13:50:13.223079Z"
    },
    "papermill": {
     "duration": 0.041495,
     "end_time": "2024-12-07T13:50:13.226568",
     "exception": false,
     "start_time": "2024-12-07T13:50:13.185073",
     "status": "completed"
    },
    "tags": []
   },
   "outputs": [
    {
     "data": {
      "text/html": [
       "<div>\n",
       "<style scoped>\n",
       "    .dataframe tbody tr th:only-of-type {\n",
       "        vertical-align: middle;\n",
       "    }\n",
       "\n",
       "    .dataframe tbody tr th {\n",
       "        vertical-align: top;\n",
       "    }\n",
       "\n",
       "    .dataframe thead th {\n",
       "        text-align: right;\n",
       "    }\n",
       "</style>\n",
       "<table border=\"1\" class=\"dataframe\">\n",
       "  <thead>\n",
       "    <tr style=\"text-align: right;\">\n",
       "      <th></th>\n",
       "      <th>last contact date</th>\n",
       "      <th>age</th>\n",
       "      <th>job</th>\n",
       "      <th>marital</th>\n",
       "      <th>education</th>\n",
       "      <th>default</th>\n",
       "      <th>balance</th>\n",
       "      <th>housing</th>\n",
       "      <th>loan</th>\n",
       "      <th>contact</th>\n",
       "      <th>duration</th>\n",
       "      <th>campaign</th>\n",
       "      <th>pdays</th>\n",
       "      <th>previous</th>\n",
       "      <th>poutcome</th>\n",
       "      <th>target</th>\n",
       "    </tr>\n",
       "  </thead>\n",
       "  <tbody>\n",
       "    <tr>\n",
       "      <th>0</th>\n",
       "      <td>2009-04-17</td>\n",
       "      <td>26</td>\n",
       "      <td>blue-collar</td>\n",
       "      <td>married</td>\n",
       "      <td>secondary</td>\n",
       "      <td>0.0</td>\n",
       "      <td>647</td>\n",
       "      <td>1.0</td>\n",
       "      <td>0.0</td>\n",
       "      <td>cellular</td>\n",
       "      <td>357</td>\n",
       "      <td>2</td>\n",
       "      <td>331</td>\n",
       "      <td>1</td>\n",
       "      <td>other</td>\n",
       "      <td>0.0</td>\n",
       "    </tr>\n",
       "    <tr>\n",
       "      <th>1</th>\n",
       "      <td>2009-10-11</td>\n",
       "      <td>52</td>\n",
       "      <td>technician</td>\n",
       "      <td>married</td>\n",
       "      <td>secondary</td>\n",
       "      <td>0.0</td>\n",
       "      <td>553</td>\n",
       "      <td>1.0</td>\n",
       "      <td>0.0</td>\n",
       "      <td>telephone</td>\n",
       "      <td>160</td>\n",
       "      <td>1</td>\n",
       "      <td>-1</td>\n",
       "      <td>0</td>\n",
       "      <td>No contact</td>\n",
       "      <td>0.0</td>\n",
       "    </tr>\n",
       "    <tr>\n",
       "      <th>2</th>\n",
       "      <td>2010-11-20</td>\n",
       "      <td>44</td>\n",
       "      <td>blue-collar</td>\n",
       "      <td>married</td>\n",
       "      <td>secondary</td>\n",
       "      <td>0.0</td>\n",
       "      <td>1397</td>\n",
       "      <td>0.0</td>\n",
       "      <td>0.0</td>\n",
       "      <td>cellular</td>\n",
       "      <td>326</td>\n",
       "      <td>1</td>\n",
       "      <td>-1</td>\n",
       "      <td>0</td>\n",
       "      <td>No contact</td>\n",
       "      <td>0.0</td>\n",
       "    </tr>\n",
       "    <tr>\n",
       "      <th>3</th>\n",
       "      <td>2009-09-01</td>\n",
       "      <td>33</td>\n",
       "      <td>admin.</td>\n",
       "      <td>married</td>\n",
       "      <td>secondary</td>\n",
       "      <td>0.0</td>\n",
       "      <td>394</td>\n",
       "      <td>1.0</td>\n",
       "      <td>0.0</td>\n",
       "      <td>telephone</td>\n",
       "      <td>104</td>\n",
       "      <td>3</td>\n",
       "      <td>-1</td>\n",
       "      <td>0</td>\n",
       "      <td>No contact</td>\n",
       "      <td>0.0</td>\n",
       "    </tr>\n",
       "    <tr>\n",
       "      <th>4</th>\n",
       "      <td>2008-01-29</td>\n",
       "      <td>31</td>\n",
       "      <td>entrepreneur</td>\n",
       "      <td>single</td>\n",
       "      <td>tertiary</td>\n",
       "      <td>0.0</td>\n",
       "      <td>137</td>\n",
       "      <td>0.0</td>\n",
       "      <td>0.0</td>\n",
       "      <td>cellular</td>\n",
       "      <td>445</td>\n",
       "      <td>2</td>\n",
       "      <td>-1</td>\n",
       "      <td>0</td>\n",
       "      <td>No contact</td>\n",
       "      <td>0.0</td>\n",
       "    </tr>\n",
       "  </tbody>\n",
       "</table>\n",
       "</div>"
      ],
      "text/plain": [
       "  last contact date  age           job  marital  education  default  balance  \\\n",
       "0        2009-04-17   26   blue-collar  married  secondary      0.0      647   \n",
       "1        2009-10-11   52    technician  married  secondary      0.0      553   \n",
       "2        2010-11-20   44   blue-collar  married  secondary      0.0     1397   \n",
       "3        2009-09-01   33        admin.  married  secondary      0.0      394   \n",
       "4        2008-01-29   31  entrepreneur   single   tertiary      0.0      137   \n",
       "\n",
       "   housing  loan    contact  duration  campaign  pdays  previous    poutcome  \\\n",
       "0      1.0   0.0   cellular       357         2    331         1       other   \n",
       "1      1.0   0.0  telephone       160         1     -1         0  No contact   \n",
       "2      0.0   0.0   cellular       326         1     -1         0  No contact   \n",
       "3      1.0   0.0  telephone       104         3     -1         0  No contact   \n",
       "4      0.0   0.0   cellular       445         2     -1         0  No contact   \n",
       "\n",
       "   target  \n",
       "0     0.0  \n",
       "1     0.0  \n",
       "2     0.0  \n",
       "3     0.0  \n",
       "4     0.0  "
      ]
     },
     "execution_count": 19,
     "metadata": {},
     "output_type": "execute_result"
    }
   ],
   "source": [
    "df.head()                                                                                                        #Checking the dataset"
   ]
  },
  {
   "cell_type": "code",
   "execution_count": 20,
   "id": "f1a38233",
   "metadata": {
    "execution": {
     "iopub.execute_input": "2024-12-07T13:50:13.266134Z",
     "iopub.status.busy": "2024-12-07T13:50:13.265739Z",
     "iopub.status.idle": "2024-12-07T13:50:13.276987Z",
     "shell.execute_reply": "2024-12-07T13:50:13.275797Z"
    },
    "papermill": {
     "duration": 0.033785,
     "end_time": "2024-12-07T13:50:13.279308",
     "exception": false,
     "start_time": "2024-12-07T13:50:13.245523",
     "status": "completed"
    },
    "tags": []
   },
   "outputs": [],
   "source": [
    "x=df.loc[:,:'poutcome']                                   # seperating features from dataset and stored as a x variable\n",
    "y=df.target                                               # seperating target from dataset and stored as a y variable                  "
   ]
  },
  {
   "cell_type": "markdown",
   "id": "bb9884f7",
   "metadata": {
    "papermill": {
     "duration": 0.019283,
     "end_time": "2024-12-07T13:50:13.318387",
     "exception": false,
     "start_time": "2024-12-07T13:50:13.299104",
     "status": "completed"
    },
    "tags": []
   },
   "source": [
    "# Feature Engineering"
   ]
  },
  {
   "cell_type": "markdown",
   "id": "9cf77674",
   "metadata": {
    "papermill": {
     "duration": 0.017911,
     "end_time": "2024-12-07T13:50:13.355429",
     "exception": false,
     "start_time": "2024-12-07T13:50:13.337518",
     "status": "completed"
    },
    "tags": []
   },
   "source": [
    "I am going to create a new features called days since last contact. i am fixing  \"2020-12-31\" the date as  a a refernce and subtract from last contact date. "
   ]
  },
  {
   "cell_type": "code",
   "execution_count": 21,
   "id": "886a5501",
   "metadata": {
    "execution": {
     "iopub.execute_input": "2024-12-07T13:50:13.395582Z",
     "iopub.status.busy": "2024-12-07T13:50:13.395169Z",
     "iopub.status.idle": "2024-12-07T13:50:13.420763Z",
     "shell.execute_reply": "2024-12-07T13:50:13.419137Z"
    },
    "papermill": {
     "duration": 0.050223,
     "end_time": "2024-12-07T13:50:13.424072",
     "exception": false,
     "start_time": "2024-12-07T13:50:13.373849",
     "status": "completed"
    },
    "tags": []
   },
   "outputs": [],
   "source": [
    "x['last contact date'] = pd.to_datetime(x['last contact date'])                            # convert data to Datetime\n",
    "reference_date = pd.to_datetime(\"2010-12-31\")                                              # Assigning reference date\n",
    "x['days_since_last_contact'] = (reference_date - x['last contact date']).dt.days           # create new feature for last contact"
   ]
  },
  {
   "cell_type": "markdown",
   "id": "b5422185",
   "metadata": {
    "papermill": {
     "duration": 0.018158,
     "end_time": "2024-12-07T13:50:13.462106",
     "exception": false,
     "start_time": "2024-12-07T13:50:13.443948",
     "status": "completed"
    },
    "tags": []
   },
   "source": [
    "Create seperate columns for date month and weekday. And remove last contact date feature."
   ]
  },
  {
   "cell_type": "code",
   "execution_count": 22,
   "id": "e46d3f75",
   "metadata": {
    "execution": {
     "iopub.execute_input": "2024-12-07T13:50:13.500877Z",
     "iopub.status.busy": "2024-12-07T13:50:13.500475Z",
     "iopub.status.idle": "2024-12-07T13:50:13.549168Z",
     "shell.execute_reply": "2024-12-07T13:50:13.547859Z"
    },
    "papermill": {
     "duration": 0.070441,
     "end_time": "2024-12-07T13:50:13.551473",
     "exception": false,
     "start_time": "2024-12-07T13:50:13.481032",
     "status": "completed"
    },
    "tags": []
   },
   "outputs": [
    {
     "data": {
      "text/html": [
       "<div>\n",
       "<style scoped>\n",
       "    .dataframe tbody tr th:only-of-type {\n",
       "        vertical-align: middle;\n",
       "    }\n",
       "\n",
       "    .dataframe tbody tr th {\n",
       "        vertical-align: top;\n",
       "    }\n",
       "\n",
       "    .dataframe thead th {\n",
       "        text-align: right;\n",
       "    }\n",
       "</style>\n",
       "<table border=\"1\" class=\"dataframe\">\n",
       "  <thead>\n",
       "    <tr style=\"text-align: right;\">\n",
       "      <th></th>\n",
       "      <th>age</th>\n",
       "      <th>job</th>\n",
       "      <th>marital</th>\n",
       "      <th>education</th>\n",
       "      <th>default</th>\n",
       "      <th>balance</th>\n",
       "      <th>housing</th>\n",
       "      <th>loan</th>\n",
       "      <th>contact</th>\n",
       "      <th>duration</th>\n",
       "      <th>campaign</th>\n",
       "      <th>pdays</th>\n",
       "      <th>previous</th>\n",
       "      <th>poutcome</th>\n",
       "      <th>days_since_last_contact</th>\n",
       "      <th>day</th>\n",
       "      <th>month</th>\n",
       "      <th>year</th>\n",
       "      <th>weekday</th>\n",
       "    </tr>\n",
       "  </thead>\n",
       "  <tbody>\n",
       "    <tr>\n",
       "      <th>0</th>\n",
       "      <td>26</td>\n",
       "      <td>blue-collar</td>\n",
       "      <td>married</td>\n",
       "      <td>secondary</td>\n",
       "      <td>0.0</td>\n",
       "      <td>647</td>\n",
       "      <td>1.0</td>\n",
       "      <td>0.0</td>\n",
       "      <td>cellular</td>\n",
       "      <td>357</td>\n",
       "      <td>2</td>\n",
       "      <td>331</td>\n",
       "      <td>1</td>\n",
       "      <td>other</td>\n",
       "      <td>623</td>\n",
       "      <td>17</td>\n",
       "      <td>4</td>\n",
       "      <td>2009</td>\n",
       "      <td>Friday</td>\n",
       "    </tr>\n",
       "    <tr>\n",
       "      <th>1</th>\n",
       "      <td>52</td>\n",
       "      <td>technician</td>\n",
       "      <td>married</td>\n",
       "      <td>secondary</td>\n",
       "      <td>0.0</td>\n",
       "      <td>553</td>\n",
       "      <td>1.0</td>\n",
       "      <td>0.0</td>\n",
       "      <td>telephone</td>\n",
       "      <td>160</td>\n",
       "      <td>1</td>\n",
       "      <td>-1</td>\n",
       "      <td>0</td>\n",
       "      <td>No contact</td>\n",
       "      <td>446</td>\n",
       "      <td>11</td>\n",
       "      <td>10</td>\n",
       "      <td>2009</td>\n",
       "      <td>Sunday</td>\n",
       "    </tr>\n",
       "    <tr>\n",
       "      <th>2</th>\n",
       "      <td>44</td>\n",
       "      <td>blue-collar</td>\n",
       "      <td>married</td>\n",
       "      <td>secondary</td>\n",
       "      <td>0.0</td>\n",
       "      <td>1397</td>\n",
       "      <td>0.0</td>\n",
       "      <td>0.0</td>\n",
       "      <td>cellular</td>\n",
       "      <td>326</td>\n",
       "      <td>1</td>\n",
       "      <td>-1</td>\n",
       "      <td>0</td>\n",
       "      <td>No contact</td>\n",
       "      <td>41</td>\n",
       "      <td>20</td>\n",
       "      <td>11</td>\n",
       "      <td>2010</td>\n",
       "      <td>Saturday</td>\n",
       "    </tr>\n",
       "    <tr>\n",
       "      <th>3</th>\n",
       "      <td>33</td>\n",
       "      <td>admin.</td>\n",
       "      <td>married</td>\n",
       "      <td>secondary</td>\n",
       "      <td>0.0</td>\n",
       "      <td>394</td>\n",
       "      <td>1.0</td>\n",
       "      <td>0.0</td>\n",
       "      <td>telephone</td>\n",
       "      <td>104</td>\n",
       "      <td>3</td>\n",
       "      <td>-1</td>\n",
       "      <td>0</td>\n",
       "      <td>No contact</td>\n",
       "      <td>486</td>\n",
       "      <td>1</td>\n",
       "      <td>9</td>\n",
       "      <td>2009</td>\n",
       "      <td>Tuesday</td>\n",
       "    </tr>\n",
       "    <tr>\n",
       "      <th>4</th>\n",
       "      <td>31</td>\n",
       "      <td>entrepreneur</td>\n",
       "      <td>single</td>\n",
       "      <td>tertiary</td>\n",
       "      <td>0.0</td>\n",
       "      <td>137</td>\n",
       "      <td>0.0</td>\n",
       "      <td>0.0</td>\n",
       "      <td>cellular</td>\n",
       "      <td>445</td>\n",
       "      <td>2</td>\n",
       "      <td>-1</td>\n",
       "      <td>0</td>\n",
       "      <td>No contact</td>\n",
       "      <td>1067</td>\n",
       "      <td>29</td>\n",
       "      <td>1</td>\n",
       "      <td>2008</td>\n",
       "      <td>Tuesday</td>\n",
       "    </tr>\n",
       "  </tbody>\n",
       "</table>\n",
       "</div>"
      ],
      "text/plain": [
       "   age           job  marital  education  default  balance  housing  loan  \\\n",
       "0   26   blue-collar  married  secondary      0.0      647      1.0   0.0   \n",
       "1   52    technician  married  secondary      0.0      553      1.0   0.0   \n",
       "2   44   blue-collar  married  secondary      0.0     1397      0.0   0.0   \n",
       "3   33        admin.  married  secondary      0.0      394      1.0   0.0   \n",
       "4   31  entrepreneur   single   tertiary      0.0      137      0.0   0.0   \n",
       "\n",
       "     contact  duration  campaign  pdays  previous    poutcome  \\\n",
       "0   cellular       357         2    331         1       other   \n",
       "1  telephone       160         1     -1         0  No contact   \n",
       "2   cellular       326         1     -1         0  No contact   \n",
       "3  telephone       104         3     -1         0  No contact   \n",
       "4   cellular       445         2     -1         0  No contact   \n",
       "\n",
       "   days_since_last_contact  day  month  year   weekday  \n",
       "0                      623   17      4  2009    Friday  \n",
       "1                      446   11     10  2009    Sunday  \n",
       "2                       41   20     11  2010  Saturday  \n",
       "3                      486    1      9  2009   Tuesday  \n",
       "4                     1067   29      1  2008   Tuesday  "
      ]
     },
     "execution_count": 22,
     "metadata": {},
     "output_type": "execute_result"
    }
   ],
   "source": [
    "x['day'] = x['last contact date'].dt.day                     # convert data to Day\n",
    "x['month'] = x['last contact date'].dt.month                 # convert data to month\n",
    "x['year'] =x['last contact date'].dt.year                    # convert data to year\n",
    "x['weekday'] =x['last contact date'].dt.day_name()           # convert data to week day\n",
    "x = x.drop(columns=['last contact date'])                    # last contact date is dropped.\n",
    "x.head()"
   ]
  },
  {
   "cell_type": "markdown",
   "id": "aac49551",
   "metadata": {
    "papermill": {
     "duration": 0.018148,
     "end_time": "2024-12-07T13:50:13.588793",
     "exception": false,
     "start_time": "2024-12-07T13:50:13.570645",
     "status": "completed"
    },
    "tags": []
   },
   "source": [
    "By looking at histograms , tthe data is grouped for few featues. so i will create bins for age , days_since_last_contact, balance features it may helpful for generalisation."
   ]
  },
  {
   "cell_type": "markdown",
   "id": "b0bf44f8",
   "metadata": {
    "papermill": {
     "duration": 0.019681,
     "end_time": "2024-12-07T13:50:13.626911",
     "exception": false,
     "start_time": "2024-12-07T13:50:13.607230",
     "status": "completed"
    },
    "tags": []
   },
   "source": [
    "BINS FOR \"days_since_last_contact\""
   ]
  },
  {
   "cell_type": "code",
   "execution_count": 23,
   "id": "357cb94d",
   "metadata": {
    "execution": {
     "iopub.execute_input": "2024-12-07T13:50:13.666126Z",
     "iopub.status.busy": "2024-12-07T13:50:13.665709Z",
     "iopub.status.idle": "2024-12-07T13:50:13.678679Z",
     "shell.execute_reply": "2024-12-07T13:50:13.677096Z"
    },
    "papermill": {
     "duration": 0.036432,
     "end_time": "2024-12-07T13:50:13.681724",
     "exception": false,
     "start_time": "2024-12-07T13:50:13.645292",
     "status": "completed"
    },
    "tags": []
   },
   "outputs": [],
   "source": [
    "age_bin = [18, 30, 45, 60, x['age'].max()]                                                                #create bins for age  \n",
    "labels_age = ['Young', 'Adult', 'Middle-aged', 'old']                                                     #create labels for age \n",
    "x['age_bin'] = pd.cut(x['age'], bins=age_bin, labels=labels_age, right=True)                              #create new column and apply bins for age "
   ]
  },
  {
   "cell_type": "code",
   "execution_count": 24,
   "id": "c542494a",
   "metadata": {
    "execution": {
     "iopub.execute_input": "2024-12-07T13:50:13.725292Z",
     "iopub.status.busy": "2024-12-07T13:50:13.724449Z",
     "iopub.status.idle": "2024-12-07T13:50:13.733803Z",
     "shell.execute_reply": "2024-12-07T13:50:13.732527Z"
    },
    "papermill": {
     "duration": 0.034879,
     "end_time": "2024-12-07T13:50:13.736434",
     "exception": false,
     "start_time": "2024-12-07T13:50:13.701555",
     "status": "completed"
    },
    "tags": []
   },
   "outputs": [],
   "source": [
    "bins_recency = [0, 30, 90, 180, x['days_since_last_contact'].max()]                                                      #create bins for last contact date\n",
    "labels_recency = ['Very Recent', 'Recent', 'Moderate', 'Old']                                                            #create labels for last contact date\n",
    "x['recency_bin'] = pd.cut(x['days_since_last_contact'], bins=bins_recency, labels=labels_recency, right=True)            #create new column and apply bins for last contact date  "
   ]
  },
  {
   "cell_type": "code",
   "execution_count": 25,
   "id": "78732f47",
   "metadata": {
    "execution": {
     "iopub.execute_input": "2024-12-07T13:50:13.837133Z",
     "iopub.status.busy": "2024-12-07T13:50:13.836779Z",
     "iopub.status.idle": "2024-12-07T13:50:13.845429Z",
     "shell.execute_reply": "2024-12-07T13:50:13.844439Z"
    },
    "papermill": {
     "duration": 0.092509,
     "end_time": "2024-12-07T13:50:13.847637",
     "exception": false,
     "start_time": "2024-12-07T13:50:13.755128",
     "status": "completed"
    },
    "tags": []
   },
   "outputs": [],
   "source": [
    "bins_duration = [0, 120, 300, x.duration.max()]                                                           #create bins for duration\n",
    "labels_duration = ['Short', 'Medium', 'Long']                                                             #create labels for duration\n",
    "x['duration_bin'] = pd.cut(x['duration'], bins=bins_duration, labels=labels_duration, right=True)         #create new column for bin"
   ]
  },
  {
   "cell_type": "code",
   "execution_count": 26,
   "id": "32775420",
   "metadata": {
    "execution": {
     "iopub.execute_input": "2024-12-07T13:50:13.887015Z",
     "iopub.status.busy": "2024-12-07T13:50:13.886641Z",
     "iopub.status.idle": "2024-12-07T13:50:13.897124Z",
     "shell.execute_reply": "2024-12-07T13:50:13.895936Z"
    },
    "papermill": {
     "duration": 0.032937,
     "end_time": "2024-12-07T13:50:13.899549",
     "exception": false,
     "start_time": "2024-12-07T13:50:13.866612",
     "status": "completed"
    },
    "tags": []
   },
   "outputs": [],
   "source": [
    "# create bins for balance\n",
    "balance_quantiles = x['balance'].quantile([0.25, 0.75]).values\n",
    "bins_balance = [-float('inf'), balance_quantiles[0], balance_quantiles[1], float('inf')]\n",
    "labels_balance = ['Low', 'Medium', 'High']\n",
    "x['balance_bin'] = pd.cut(x['balance'], bins=bins_balance, labels=labels_balance)"
   ]
  },
  {
   "cell_type": "code",
   "execution_count": 27,
   "id": "8daee5b5",
   "metadata": {
    "execution": {
     "iopub.execute_input": "2024-12-07T13:50:13.942730Z",
     "iopub.status.busy": "2024-12-07T13:50:13.942222Z",
     "iopub.status.idle": "2024-12-07T13:50:13.957360Z",
     "shell.execute_reply": "2024-12-07T13:50:13.955915Z"
    },
    "papermill": {
     "duration": 0.037954,
     "end_time": "2024-12-07T13:50:13.959778",
     "exception": false,
     "start_time": "2024-12-07T13:50:13.921824",
     "status": "completed"
    },
    "tags": []
   },
   "outputs": [],
   "source": [
    "#create new column if the candidate has a single contact or multiple times\n",
    "\n",
    "x['contact_type'] = x['campaign'].apply(lambda x: 'Single Contact' if x == 1 else 'Multiple Contacts')   "
   ]
  },
  {
   "cell_type": "code",
   "execution_count": 28,
   "id": "29c49d70",
   "metadata": {
    "execution": {
     "iopub.execute_input": "2024-12-07T13:50:14.000920Z",
     "iopub.status.busy": "2024-12-07T13:50:13.999703Z",
     "iopub.status.idle": "2024-12-07T13:50:14.025996Z",
     "shell.execute_reply": "2024-12-07T13:50:14.024939Z"
    },
    "papermill": {
     "duration": 0.049068,
     "end_time": "2024-12-07T13:50:14.028140",
     "exception": false,
     "start_time": "2024-12-07T13:50:13.979072",
     "status": "completed"
    },
    "tags": []
   },
   "outputs": [
    {
     "data": {
      "text/html": [
       "<div>\n",
       "<style scoped>\n",
       "    .dataframe tbody tr th:only-of-type {\n",
       "        vertical-align: middle;\n",
       "    }\n",
       "\n",
       "    .dataframe tbody tr th {\n",
       "        vertical-align: top;\n",
       "    }\n",
       "\n",
       "    .dataframe thead th {\n",
       "        text-align: right;\n",
       "    }\n",
       "</style>\n",
       "<table border=\"1\" class=\"dataframe\">\n",
       "  <thead>\n",
       "    <tr style=\"text-align: right;\">\n",
       "      <th></th>\n",
       "      <th>age</th>\n",
       "      <th>job</th>\n",
       "      <th>marital</th>\n",
       "      <th>education</th>\n",
       "      <th>default</th>\n",
       "      <th>balance</th>\n",
       "      <th>housing</th>\n",
       "      <th>loan</th>\n",
       "      <th>contact</th>\n",
       "      <th>duration</th>\n",
       "      <th>...</th>\n",
       "      <th>days_since_last_contact</th>\n",
       "      <th>day</th>\n",
       "      <th>month</th>\n",
       "      <th>year</th>\n",
       "      <th>weekday</th>\n",
       "      <th>age_bin</th>\n",
       "      <th>recency_bin</th>\n",
       "      <th>duration_bin</th>\n",
       "      <th>balance_bin</th>\n",
       "      <th>contact_type</th>\n",
       "    </tr>\n",
       "  </thead>\n",
       "  <tbody>\n",
       "    <tr>\n",
       "      <th>0</th>\n",
       "      <td>26</td>\n",
       "      <td>blue-collar</td>\n",
       "      <td>married</td>\n",
       "      <td>secondary</td>\n",
       "      <td>0.0</td>\n",
       "      <td>647</td>\n",
       "      <td>1.0</td>\n",
       "      <td>0.0</td>\n",
       "      <td>cellular</td>\n",
       "      <td>357</td>\n",
       "      <td>...</td>\n",
       "      <td>623</td>\n",
       "      <td>17</td>\n",
       "      <td>4</td>\n",
       "      <td>2009</td>\n",
       "      <td>Friday</td>\n",
       "      <td>Young</td>\n",
       "      <td>Old</td>\n",
       "      <td>Long</td>\n",
       "      <td>Medium</td>\n",
       "      <td>Multiple Contacts</td>\n",
       "    </tr>\n",
       "    <tr>\n",
       "      <th>1</th>\n",
       "      <td>52</td>\n",
       "      <td>technician</td>\n",
       "      <td>married</td>\n",
       "      <td>secondary</td>\n",
       "      <td>0.0</td>\n",
       "      <td>553</td>\n",
       "      <td>1.0</td>\n",
       "      <td>0.0</td>\n",
       "      <td>telephone</td>\n",
       "      <td>160</td>\n",
       "      <td>...</td>\n",
       "      <td>446</td>\n",
       "      <td>11</td>\n",
       "      <td>10</td>\n",
       "      <td>2009</td>\n",
       "      <td>Sunday</td>\n",
       "      <td>Middle-aged</td>\n",
       "      <td>Old</td>\n",
       "      <td>Medium</td>\n",
       "      <td>Medium</td>\n",
       "      <td>Single Contact</td>\n",
       "    </tr>\n",
       "    <tr>\n",
       "      <th>2</th>\n",
       "      <td>44</td>\n",
       "      <td>blue-collar</td>\n",
       "      <td>married</td>\n",
       "      <td>secondary</td>\n",
       "      <td>0.0</td>\n",
       "      <td>1397</td>\n",
       "      <td>0.0</td>\n",
       "      <td>0.0</td>\n",
       "      <td>cellular</td>\n",
       "      <td>326</td>\n",
       "      <td>...</td>\n",
       "      <td>41</td>\n",
       "      <td>20</td>\n",
       "      <td>11</td>\n",
       "      <td>2010</td>\n",
       "      <td>Saturday</td>\n",
       "      <td>Adult</td>\n",
       "      <td>Recent</td>\n",
       "      <td>Long</td>\n",
       "      <td>Medium</td>\n",
       "      <td>Single Contact</td>\n",
       "    </tr>\n",
       "    <tr>\n",
       "      <th>3</th>\n",
       "      <td>33</td>\n",
       "      <td>admin.</td>\n",
       "      <td>married</td>\n",
       "      <td>secondary</td>\n",
       "      <td>0.0</td>\n",
       "      <td>394</td>\n",
       "      <td>1.0</td>\n",
       "      <td>0.0</td>\n",
       "      <td>telephone</td>\n",
       "      <td>104</td>\n",
       "      <td>...</td>\n",
       "      <td>486</td>\n",
       "      <td>1</td>\n",
       "      <td>9</td>\n",
       "      <td>2009</td>\n",
       "      <td>Tuesday</td>\n",
       "      <td>Adult</td>\n",
       "      <td>Old</td>\n",
       "      <td>Short</td>\n",
       "      <td>Medium</td>\n",
       "      <td>Multiple Contacts</td>\n",
       "    </tr>\n",
       "    <tr>\n",
       "      <th>4</th>\n",
       "      <td>31</td>\n",
       "      <td>entrepreneur</td>\n",
       "      <td>single</td>\n",
       "      <td>tertiary</td>\n",
       "      <td>0.0</td>\n",
       "      <td>137</td>\n",
       "      <td>0.0</td>\n",
       "      <td>0.0</td>\n",
       "      <td>cellular</td>\n",
       "      <td>445</td>\n",
       "      <td>...</td>\n",
       "      <td>1067</td>\n",
       "      <td>29</td>\n",
       "      <td>1</td>\n",
       "      <td>2008</td>\n",
       "      <td>Tuesday</td>\n",
       "      <td>Adult</td>\n",
       "      <td>Old</td>\n",
       "      <td>Long</td>\n",
       "      <td>Medium</td>\n",
       "      <td>Multiple Contacts</td>\n",
       "    </tr>\n",
       "  </tbody>\n",
       "</table>\n",
       "<p>5 rows × 24 columns</p>\n",
       "</div>"
      ],
      "text/plain": [
       "   age           job  marital  education  default  balance  housing  loan  \\\n",
       "0   26   blue-collar  married  secondary      0.0      647      1.0   0.0   \n",
       "1   52    technician  married  secondary      0.0      553      1.0   0.0   \n",
       "2   44   blue-collar  married  secondary      0.0     1397      0.0   0.0   \n",
       "3   33        admin.  married  secondary      0.0      394      1.0   0.0   \n",
       "4   31  entrepreneur   single   tertiary      0.0      137      0.0   0.0   \n",
       "\n",
       "     contact  duration  ...  days_since_last_contact  day  month  year  \\\n",
       "0   cellular       357  ...                      623   17      4  2009   \n",
       "1  telephone       160  ...                      446   11     10  2009   \n",
       "2   cellular       326  ...                       41   20     11  2010   \n",
       "3  telephone       104  ...                      486    1      9  2009   \n",
       "4   cellular       445  ...                     1067   29      1  2008   \n",
       "\n",
       "    weekday      age_bin  recency_bin  duration_bin balance_bin  \\\n",
       "0    Friday        Young          Old          Long      Medium   \n",
       "1    Sunday  Middle-aged          Old        Medium      Medium   \n",
       "2  Saturday        Adult       Recent          Long      Medium   \n",
       "3   Tuesday        Adult          Old         Short      Medium   \n",
       "4   Tuesday        Adult          Old          Long      Medium   \n",
       "\n",
       "        contact_type  \n",
       "0  Multiple Contacts  \n",
       "1     Single Contact  \n",
       "2     Single Contact  \n",
       "3  Multiple Contacts  \n",
       "4  Multiple Contacts  \n",
       "\n",
       "[5 rows x 24 columns]"
      ]
     },
     "execution_count": 28,
     "metadata": {},
     "output_type": "execute_result"
    }
   ],
   "source": [
    "x.head(5)"
   ]
  },
  {
   "cell_type": "code",
   "execution_count": 29,
   "id": "476587d4",
   "metadata": {
    "execution": {
     "iopub.execute_input": "2024-12-07T13:50:14.069069Z",
     "iopub.status.busy": "2024-12-07T13:50:14.068662Z",
     "iopub.status.idle": "2024-12-07T13:50:14.537662Z",
     "shell.execute_reply": "2024-12-07T13:50:14.536483Z"
    },
    "papermill": {
     "duration": 0.492686,
     "end_time": "2024-12-07T13:50:14.540123",
     "exception": false,
     "start_time": "2024-12-07T13:50:14.047437",
     "status": "completed"
    },
    "tags": []
   },
   "outputs": [
    {
     "data": {
      "text/html": [
       "<div>\n",
       "<style scoped>\n",
       "    .dataframe tbody tr th:only-of-type {\n",
       "        vertical-align: middle;\n",
       "    }\n",
       "\n",
       "    .dataframe tbody tr th {\n",
       "        vertical-align: top;\n",
       "    }\n",
       "\n",
       "    .dataframe thead th {\n",
       "        text-align: right;\n",
       "    }\n",
       "</style>\n",
       "<table border=\"1\" class=\"dataframe\">\n",
       "  <thead>\n",
       "    <tr style=\"text-align: right;\">\n",
       "      <th></th>\n",
       "      <th>loan_combination</th>\n",
       "      <th>customer_profile</th>\n",
       "      <th>interaction_campaign_previous</th>\n",
       "      <th>balance_contact_combo</th>\n",
       "    </tr>\n",
       "  </thead>\n",
       "  <tbody>\n",
       "    <tr>\n",
       "      <th>0</th>\n",
       "      <td>No Loans</td>\n",
       "      <td>Young_blue-collar</td>\n",
       "      <td>2</td>\n",
       "      <td>Medium_Multiple Contacts</td>\n",
       "    </tr>\n",
       "    <tr>\n",
       "      <th>1</th>\n",
       "      <td>No Loans</td>\n",
       "      <td>Middle-aged_technician</td>\n",
       "      <td>0</td>\n",
       "      <td>Medium_Single Contact</td>\n",
       "    </tr>\n",
       "    <tr>\n",
       "      <th>2</th>\n",
       "      <td>No Loans</td>\n",
       "      <td>Adult_blue-collar</td>\n",
       "      <td>0</td>\n",
       "      <td>Medium_Single Contact</td>\n",
       "    </tr>\n",
       "    <tr>\n",
       "      <th>3</th>\n",
       "      <td>No Loans</td>\n",
       "      <td>Adult_admin.</td>\n",
       "      <td>0</td>\n",
       "      <td>Medium_Multiple Contacts</td>\n",
       "    </tr>\n",
       "    <tr>\n",
       "      <th>4</th>\n",
       "      <td>No Loans</td>\n",
       "      <td>Adult_entrepreneur</td>\n",
       "      <td>0</td>\n",
       "      <td>Medium_Multiple Contacts</td>\n",
       "    </tr>\n",
       "  </tbody>\n",
       "</table>\n",
       "</div>"
      ],
      "text/plain": [
       "  loan_combination        customer_profile  interaction_campaign_previous  \\\n",
       "0         No Loans       Young_blue-collar                              2   \n",
       "1         No Loans  Middle-aged_technician                              0   \n",
       "2         No Loans       Adult_blue-collar                              0   \n",
       "3         No Loans            Adult_admin.                              0   \n",
       "4         No Loans      Adult_entrepreneur                              0   \n",
       "\n",
       "      balance_contact_combo  \n",
       "0  Medium_Multiple Contacts  \n",
       "1     Medium_Single Contact  \n",
       "2     Medium_Single Contact  \n",
       "3  Medium_Multiple Contacts  \n",
       "4  Medium_Multiple Contacts  "
      ]
     },
     "execution_count": 29,
     "metadata": {},
     "output_type": "execute_result"
    }
   ],
   "source": [
    "# Function to combbine housing and loan\n",
    "def housing_loan_combination(row):\n",
    "    if row['housing'] == 'yes' and row['loan'] == 'yes':\n",
    "        return 'Both Loans'\n",
    "    elif row['housing'] == 'yes' and row['loan'] == 'no':\n",
    "        return 'Housing Loan Only'\n",
    "    elif row['housing'] == 'no' and row['loan'] == 'yes':\n",
    "        return 'Personal Loan Only'\n",
    "    else:\n",
    "        return 'No Loans'\n",
    "# applying function on the dataset\n",
    "x['loan_combination'] = x.apply(housing_loan_combination, axis=1)\n",
    "\n",
    "\n",
    "# combining job and age  \n",
    "x['customer_profile'] = x['age_bin'].astype(str) + \"_\" + x['job']\n",
    "\n",
    "\n",
    "# combining campaign and previous\n",
    "x['interaction_campaign_previous'] = x['campaign'] * x['previous']\n",
    "\n",
    "\n",
    "#combining balance and contact\n",
    "x['balance_contact_combo'] = x['balance_bin'].astype(str) + \"_\" +x['contact_type']\n",
    "\n",
    "\n",
    "x[['loan_combination', 'customer_profile', 'interaction_campaign_previous', 'balance_contact_combo']].head()"
   ]
  },
  {
   "cell_type": "code",
   "execution_count": 30,
   "id": "c569b6fe",
   "metadata": {
    "execution": {
     "iopub.execute_input": "2024-12-07T13:50:14.583374Z",
     "iopub.status.busy": "2024-12-07T13:50:14.582998Z",
     "iopub.status.idle": "2024-12-07T13:50:14.588496Z",
     "shell.execute_reply": "2024-12-07T13:50:14.587346Z"
    },
    "papermill": {
     "duration": 0.029847,
     "end_time": "2024-12-07T13:50:14.590917",
     "exception": false,
     "start_time": "2024-12-07T13:50:14.561070",
     "status": "completed"
    },
    "tags": []
   },
   "outputs": [],
   "source": [
    "def pbool(x):          # function to conmvert pdays to binary\n",
    "    if x<=0:\n",
    "        return 0\n",
    "    if x>0:\n",
    "        return 1\n",
    "def rmneg(x):         # function to conmvert balance to binary\n",
    "    if x<=0:\n",
    "        return 0\n",
    "    else:\n",
    "        return x"
   ]
  },
  {
   "cell_type": "code",
   "execution_count": 31,
   "id": "a963227b",
   "metadata": {
    "execution": {
     "iopub.execute_input": "2024-12-07T13:50:14.633185Z",
     "iopub.status.busy": "2024-12-07T13:50:14.632775Z",
     "iopub.status.idle": "2024-12-07T13:50:14.671402Z",
     "shell.execute_reply": "2024-12-07T13:50:14.670183Z"
    },
    "papermill": {
     "duration": 0.062922,
     "end_time": "2024-12-07T13:50:14.674056",
     "exception": false,
     "start_time": "2024-12-07T13:50:14.611134",
     "status": "completed"
    },
    "tags": []
   },
   "outputs": [],
   "source": [
    "#Applying the above function to pdays and balance columns.\n",
    "x['pdays_bool']=x[\"pdays\"].apply(pbool)\n",
    "x['balance_bool']=x[\"balance\"].apply(pbool)"
   ]
  },
  {
   "cell_type": "code",
   "execution_count": 32,
   "id": "45d8f358",
   "metadata": {
    "execution": {
     "iopub.execute_input": "2024-12-07T13:50:14.716693Z",
     "iopub.status.busy": "2024-12-07T13:50:14.716257Z",
     "iopub.status.idle": "2024-12-07T13:50:14.752844Z",
     "shell.execute_reply": "2024-12-07T13:50:14.751647Z"
    },
    "papermill": {
     "duration": 0.06147,
     "end_time": "2024-12-07T13:50:14.755475",
     "exception": false,
     "start_time": "2024-12-07T13:50:14.694005",
     "status": "completed"
    },
    "tags": []
   },
   "outputs": [],
   "source": [
    "#Applying the above function to pdays and balance columns.\n",
    "x['pos_balance']=x['balance'].apply(rmneg)\n",
    "x['pos_pdays']=x['pdays'].apply(rmneg)"
   ]
  },
  {
   "cell_type": "code",
   "execution_count": 33,
   "id": "22f58748",
   "metadata": {
    "execution": {
     "iopub.execute_input": "2024-12-07T13:50:14.798722Z",
     "iopub.status.busy": "2024-12-07T13:50:14.797933Z",
     "iopub.status.idle": "2024-12-07T13:50:14.806988Z",
     "shell.execute_reply": "2024-12-07T13:50:14.805929Z"
    },
    "papermill": {
     "duration": 0.034577,
     "end_time": "2024-12-07T13:50:14.809878",
     "exception": false,
     "start_time": "2024-12-07T13:50:14.775301",
     "status": "completed"
    },
    "tags": []
   },
   "outputs": [
    {
     "data": {
      "text/plain": [
       "(36510, 32)"
      ]
     },
     "execution_count": 33,
     "metadata": {},
     "output_type": "execute_result"
    }
   ],
   "source": [
    "x.shape"
   ]
  },
  {
   "cell_type": "markdown",
   "id": "38470dd0",
   "metadata": {
    "papermill": {
     "duration": 0.019434,
     "end_time": "2024-12-07T13:50:14.851145",
     "exception": false,
     "start_time": "2024-12-07T13:50:14.831711",
     "status": "completed"
    },
    "tags": []
   },
   "source": [
    "## 1. Encoding Engineered Feature "
   ]
  },
  {
   "cell_type": "code",
   "execution_count": 34,
   "id": "9ca220d7",
   "metadata": {
    "execution": {
     "iopub.execute_input": "2024-12-07T13:50:14.892029Z",
     "iopub.status.busy": "2024-12-07T13:50:14.891622Z",
     "iopub.status.idle": "2024-12-07T13:50:14.928966Z",
     "shell.execute_reply": "2024-12-07T13:50:14.927938Z"
    },
    "papermill": {
     "duration": 0.0608,
     "end_time": "2024-12-07T13:50:14.931322",
     "exception": false,
     "start_time": "2024-12-07T13:50:14.870522",
     "status": "completed"
    },
    "tags": []
   },
   "outputs": [],
   "source": [
    "cat_=list(x.select_dtypes(exclude=\"int\").columns)\n",
    "num_=list(x.select_dtypes(include=\"int\").columns)"
   ]
  },
  {
   "cell_type": "code",
   "execution_count": 35,
   "id": "f4107b89",
   "metadata": {
    "execution": {
     "iopub.execute_input": "2024-12-07T13:50:14.975060Z",
     "iopub.status.busy": "2024-12-07T13:50:14.974681Z",
     "iopub.status.idle": "2024-12-07T13:50:14.981192Z",
     "shell.execute_reply": "2024-12-07T13:50:14.979675Z"
    },
    "papermill": {
     "duration": 0.032162,
     "end_time": "2024-12-07T13:50:14.984204",
     "exception": false,
     "start_time": "2024-12-07T13:50:14.952042",
     "status": "completed"
    },
    "tags": []
   },
   "outputs": [],
   "source": [
    "#pipeline for preprocessing\n",
    "preprocessor = ColumnTransformer(\n",
    "    transformers=[\n",
    "        ('ohe', OneHotEncoder(sparse=False, handle_unknown='ignore'), cat_),   # applying one got encoder for categorical columns\n",
    "        ('scaler', MinMaxScaler(), num_)                                       # scaling numerical columns\n",
    "    ],\n",
    "    remainder='passthrough' \n",
    ")"
   ]
  },
  {
   "cell_type": "code",
   "execution_count": 36,
   "id": "c373905e",
   "metadata": {
    "execution": {
     "iopub.execute_input": "2024-12-07T13:50:15.029901Z",
     "iopub.status.busy": "2024-12-07T13:50:15.029463Z",
     "iopub.status.idle": "2024-12-07T13:50:15.034516Z",
     "shell.execute_reply": "2024-12-07T13:50:15.033351Z"
    },
    "papermill": {
     "duration": 0.030128,
     "end_time": "2024-12-07T13:50:15.036650",
     "exception": false,
     "start_time": "2024-12-07T13:50:15.006522",
     "status": "completed"
    },
    "tags": []
   },
   "outputs": [],
   "source": [
    "pre_pipeline = Pipeline(steps=[\n",
    "    ('preprocessor', preprocessor),\n",
    "   \n",
    "])"
   ]
  },
  {
   "cell_type": "code",
   "execution_count": 37,
   "id": "f0174798",
   "metadata": {
    "execution": {
     "iopub.execute_input": "2024-12-07T13:50:15.078538Z",
     "iopub.status.busy": "2024-12-07T13:50:15.077674Z",
     "iopub.status.idle": "2024-12-07T13:50:15.383066Z",
     "shell.execute_reply": "2024-12-07T13:50:15.381247Z"
    },
    "papermill": {
     "duration": 0.329638,
     "end_time": "2024-12-07T13:50:15.385616",
     "exception": false,
     "start_time": "2024-12-07T13:50:15.055978",
     "status": "completed"
    },
    "tags": []
   },
   "outputs": [
    {
     "name": "stderr",
     "output_type": "stream",
     "text": [
      "/opt/conda/lib/python3.10/site-packages/sklearn/preprocessing/_encoders.py:868: FutureWarning: `sparse` was renamed to `sparse_output` in version 1.2 and will be removed in 1.4. `sparse_output` is ignored unless you leave `sparse` to its default value.\n",
      "  warnings.warn(\n"
     ]
    },
    {
     "data": {
      "text/html": [
       "<style>#sk-container-id-1 {color: black;background-color: white;}#sk-container-id-1 pre{padding: 0;}#sk-container-id-1 div.sk-toggleable {background-color: white;}#sk-container-id-1 label.sk-toggleable__label {cursor: pointer;display: block;width: 100%;margin-bottom: 0;padding: 0.3em;box-sizing: border-box;text-align: center;}#sk-container-id-1 label.sk-toggleable__label-arrow:before {content: \"▸\";float: left;margin-right: 0.25em;color: #696969;}#sk-container-id-1 label.sk-toggleable__label-arrow:hover:before {color: black;}#sk-container-id-1 div.sk-estimator:hover label.sk-toggleable__label-arrow:before {color: black;}#sk-container-id-1 div.sk-toggleable__content {max-height: 0;max-width: 0;overflow: hidden;text-align: left;background-color: #f0f8ff;}#sk-container-id-1 div.sk-toggleable__content pre {margin: 0.2em;color: black;border-radius: 0.25em;background-color: #f0f8ff;}#sk-container-id-1 input.sk-toggleable__control:checked~div.sk-toggleable__content {max-height: 200px;max-width: 100%;overflow: auto;}#sk-container-id-1 input.sk-toggleable__control:checked~label.sk-toggleable__label-arrow:before {content: \"▾\";}#sk-container-id-1 div.sk-estimator input.sk-toggleable__control:checked~label.sk-toggleable__label {background-color: #d4ebff;}#sk-container-id-1 div.sk-label input.sk-toggleable__control:checked~label.sk-toggleable__label {background-color: #d4ebff;}#sk-container-id-1 input.sk-hidden--visually {border: 0;clip: rect(1px 1px 1px 1px);clip: rect(1px, 1px, 1px, 1px);height: 1px;margin: -1px;overflow: hidden;padding: 0;position: absolute;width: 1px;}#sk-container-id-1 div.sk-estimator {font-family: monospace;background-color: #f0f8ff;border: 1px dotted black;border-radius: 0.25em;box-sizing: border-box;margin-bottom: 0.5em;}#sk-container-id-1 div.sk-estimator:hover {background-color: #d4ebff;}#sk-container-id-1 div.sk-parallel-item::after {content: \"\";width: 100%;border-bottom: 1px solid gray;flex-grow: 1;}#sk-container-id-1 div.sk-label:hover label.sk-toggleable__label {background-color: #d4ebff;}#sk-container-id-1 div.sk-serial::before {content: \"\";position: absolute;border-left: 1px solid gray;box-sizing: border-box;top: 0;bottom: 0;left: 50%;z-index: 0;}#sk-container-id-1 div.sk-serial {display: flex;flex-direction: column;align-items: center;background-color: white;padding-right: 0.2em;padding-left: 0.2em;position: relative;}#sk-container-id-1 div.sk-item {position: relative;z-index: 1;}#sk-container-id-1 div.sk-parallel {display: flex;align-items: stretch;justify-content: center;background-color: white;position: relative;}#sk-container-id-1 div.sk-item::before, #sk-container-id-1 div.sk-parallel-item::before {content: \"\";position: absolute;border-left: 1px solid gray;box-sizing: border-box;top: 0;bottom: 0;left: 50%;z-index: -1;}#sk-container-id-1 div.sk-parallel-item {display: flex;flex-direction: column;z-index: 1;position: relative;background-color: white;}#sk-container-id-1 div.sk-parallel-item:first-child::after {align-self: flex-end;width: 50%;}#sk-container-id-1 div.sk-parallel-item:last-child::after {align-self: flex-start;width: 50%;}#sk-container-id-1 div.sk-parallel-item:only-child::after {width: 0;}#sk-container-id-1 div.sk-dashed-wrapped {border: 1px dashed gray;margin: 0 0.4em 0.5em 0.4em;box-sizing: border-box;padding-bottom: 0.4em;background-color: white;}#sk-container-id-1 div.sk-label label {font-family: monospace;font-weight: bold;display: inline-block;line-height: 1.2em;}#sk-container-id-1 div.sk-label-container {text-align: center;}#sk-container-id-1 div.sk-container {/* jupyter's `normalize.less` sets `[hidden] { display: none; }` but bootstrap.min.css set `[hidden] { display: none !important; }` so we also need the `!important` here to be able to override the default hidden behavior on the sphinx rendered scikit-learn.org. See: https://github.com/scikit-learn/scikit-learn/issues/21755 */display: inline-block !important;position: relative;}#sk-container-id-1 div.sk-text-repr-fallback {display: none;}</style><div id=\"sk-container-id-1\" class=\"sk-top-container\"><div class=\"sk-text-repr-fallback\"><pre>Pipeline(steps=[(&#x27;preprocessor&#x27;,\n",
       "                 ColumnTransformer(remainder=&#x27;passthrough&#x27;,\n",
       "                                   transformers=[(&#x27;ohe&#x27;,\n",
       "                                                  OneHotEncoder(handle_unknown=&#x27;ignore&#x27;,\n",
       "                                                                sparse=False),\n",
       "                                                  [&#x27;job&#x27;, &#x27;marital&#x27;,\n",
       "                                                   &#x27;education&#x27;, &#x27;default&#x27;,\n",
       "                                                   &#x27;housing&#x27;, &#x27;loan&#x27;, &#x27;contact&#x27;,\n",
       "                                                   &#x27;poutcome&#x27;, &#x27;weekday&#x27;,\n",
       "                                                   &#x27;age_bin&#x27;, &#x27;recency_bin&#x27;,\n",
       "                                                   &#x27;duration_bin&#x27;,\n",
       "                                                   &#x27;balance_bin&#x27;,\n",
       "                                                   &#x27;contact_type&#x27;,\n",
       "                                                   &#x27;loan_combination&#x27;,\n",
       "                                                   &#x27;customer_profile&#x27;,\n",
       "                                                   &#x27;balance_contact_combo&#x27;]),\n",
       "                                                 (&#x27;scaler&#x27;, MinMaxScaler(),\n",
       "                                                  [&#x27;age&#x27;, &#x27;balance&#x27;, &#x27;duration&#x27;,\n",
       "                                                   &#x27;campaign&#x27;, &#x27;pdays&#x27;,\n",
       "                                                   &#x27;previous&#x27;,\n",
       "                                                   &#x27;days_since_last_contact&#x27;,\n",
       "                                                   &#x27;day&#x27;, &#x27;month&#x27;, &#x27;year&#x27;,\n",
       "                                                   &#x27;interaction_campaign_previous&#x27;,\n",
       "                                                   &#x27;pdays_bool&#x27;, &#x27;balance_bool&#x27;,\n",
       "                                                   &#x27;pos_balance&#x27;,\n",
       "                                                   &#x27;pos_pdays&#x27;])]))])</pre><b>In a Jupyter environment, please rerun this cell to show the HTML representation or trust the notebook. <br />On GitHub, the HTML representation is unable to render, please try loading this page with nbviewer.org.</b></div><div class=\"sk-container\" hidden><div class=\"sk-item sk-dashed-wrapped\"><div class=\"sk-label-container\"><div class=\"sk-label sk-toggleable\"><input class=\"sk-toggleable__control sk-hidden--visually\" id=\"sk-estimator-id-1\" type=\"checkbox\" ><label for=\"sk-estimator-id-1\" class=\"sk-toggleable__label sk-toggleable__label-arrow\">Pipeline</label><div class=\"sk-toggleable__content\"><pre>Pipeline(steps=[(&#x27;preprocessor&#x27;,\n",
       "                 ColumnTransformer(remainder=&#x27;passthrough&#x27;,\n",
       "                                   transformers=[(&#x27;ohe&#x27;,\n",
       "                                                  OneHotEncoder(handle_unknown=&#x27;ignore&#x27;,\n",
       "                                                                sparse=False),\n",
       "                                                  [&#x27;job&#x27;, &#x27;marital&#x27;,\n",
       "                                                   &#x27;education&#x27;, &#x27;default&#x27;,\n",
       "                                                   &#x27;housing&#x27;, &#x27;loan&#x27;, &#x27;contact&#x27;,\n",
       "                                                   &#x27;poutcome&#x27;, &#x27;weekday&#x27;,\n",
       "                                                   &#x27;age_bin&#x27;, &#x27;recency_bin&#x27;,\n",
       "                                                   &#x27;duration_bin&#x27;,\n",
       "                                                   &#x27;balance_bin&#x27;,\n",
       "                                                   &#x27;contact_type&#x27;,\n",
       "                                                   &#x27;loan_combination&#x27;,\n",
       "                                                   &#x27;customer_profile&#x27;,\n",
       "                                                   &#x27;balance_contact_combo&#x27;]),\n",
       "                                                 (&#x27;scaler&#x27;, MinMaxScaler(),\n",
       "                                                  [&#x27;age&#x27;, &#x27;balance&#x27;, &#x27;duration&#x27;,\n",
       "                                                   &#x27;campaign&#x27;, &#x27;pdays&#x27;,\n",
       "                                                   &#x27;previous&#x27;,\n",
       "                                                   &#x27;days_since_last_contact&#x27;,\n",
       "                                                   &#x27;day&#x27;, &#x27;month&#x27;, &#x27;year&#x27;,\n",
       "                                                   &#x27;interaction_campaign_previous&#x27;,\n",
       "                                                   &#x27;pdays_bool&#x27;, &#x27;balance_bool&#x27;,\n",
       "                                                   &#x27;pos_balance&#x27;,\n",
       "                                                   &#x27;pos_pdays&#x27;])]))])</pre></div></div></div><div class=\"sk-serial\"><div class=\"sk-item sk-dashed-wrapped\"><div class=\"sk-label-container\"><div class=\"sk-label sk-toggleable\"><input class=\"sk-toggleable__control sk-hidden--visually\" id=\"sk-estimator-id-2\" type=\"checkbox\" ><label for=\"sk-estimator-id-2\" class=\"sk-toggleable__label sk-toggleable__label-arrow\">preprocessor: ColumnTransformer</label><div class=\"sk-toggleable__content\"><pre>ColumnTransformer(remainder=&#x27;passthrough&#x27;,\n",
       "                  transformers=[(&#x27;ohe&#x27;,\n",
       "                                 OneHotEncoder(handle_unknown=&#x27;ignore&#x27;,\n",
       "                                               sparse=False),\n",
       "                                 [&#x27;job&#x27;, &#x27;marital&#x27;, &#x27;education&#x27;, &#x27;default&#x27;,\n",
       "                                  &#x27;housing&#x27;, &#x27;loan&#x27;, &#x27;contact&#x27;, &#x27;poutcome&#x27;,\n",
       "                                  &#x27;weekday&#x27;, &#x27;age_bin&#x27;, &#x27;recency_bin&#x27;,\n",
       "                                  &#x27;duration_bin&#x27;, &#x27;balance_bin&#x27;, &#x27;contact_type&#x27;,\n",
       "                                  &#x27;loan_combination&#x27;, &#x27;customer_profile&#x27;,\n",
       "                                  &#x27;balance_contact_combo&#x27;]),\n",
       "                                (&#x27;scaler&#x27;, MinMaxScaler(),\n",
       "                                 [&#x27;age&#x27;, &#x27;balance&#x27;, &#x27;duration&#x27;, &#x27;campaign&#x27;,\n",
       "                                  &#x27;pdays&#x27;, &#x27;previous&#x27;,\n",
       "                                  &#x27;days_since_last_contact&#x27;, &#x27;day&#x27;, &#x27;month&#x27;,\n",
       "                                  &#x27;year&#x27;, &#x27;interaction_campaign_previous&#x27;,\n",
       "                                  &#x27;pdays_bool&#x27;, &#x27;balance_bool&#x27;, &#x27;pos_balance&#x27;,\n",
       "                                  &#x27;pos_pdays&#x27;])])</pre></div></div></div><div class=\"sk-parallel\"><div class=\"sk-parallel-item\"><div class=\"sk-item\"><div class=\"sk-label-container\"><div class=\"sk-label sk-toggleable\"><input class=\"sk-toggleable__control sk-hidden--visually\" id=\"sk-estimator-id-3\" type=\"checkbox\" ><label for=\"sk-estimator-id-3\" class=\"sk-toggleable__label sk-toggleable__label-arrow\">ohe</label><div class=\"sk-toggleable__content\"><pre>[&#x27;job&#x27;, &#x27;marital&#x27;, &#x27;education&#x27;, &#x27;default&#x27;, &#x27;housing&#x27;, &#x27;loan&#x27;, &#x27;contact&#x27;, &#x27;poutcome&#x27;, &#x27;weekday&#x27;, &#x27;age_bin&#x27;, &#x27;recency_bin&#x27;, &#x27;duration_bin&#x27;, &#x27;balance_bin&#x27;, &#x27;contact_type&#x27;, &#x27;loan_combination&#x27;, &#x27;customer_profile&#x27;, &#x27;balance_contact_combo&#x27;]</pre></div></div></div><div class=\"sk-serial\"><div class=\"sk-item\"><div class=\"sk-estimator sk-toggleable\"><input class=\"sk-toggleable__control sk-hidden--visually\" id=\"sk-estimator-id-4\" type=\"checkbox\" ><label for=\"sk-estimator-id-4\" class=\"sk-toggleable__label sk-toggleable__label-arrow\">OneHotEncoder</label><div class=\"sk-toggleable__content\"><pre>OneHotEncoder(handle_unknown=&#x27;ignore&#x27;, sparse=False)</pre></div></div></div></div></div></div><div class=\"sk-parallel-item\"><div class=\"sk-item\"><div class=\"sk-label-container\"><div class=\"sk-label sk-toggleable\"><input class=\"sk-toggleable__control sk-hidden--visually\" id=\"sk-estimator-id-5\" type=\"checkbox\" ><label for=\"sk-estimator-id-5\" class=\"sk-toggleable__label sk-toggleable__label-arrow\">scaler</label><div class=\"sk-toggleable__content\"><pre>[&#x27;age&#x27;, &#x27;balance&#x27;, &#x27;duration&#x27;, &#x27;campaign&#x27;, &#x27;pdays&#x27;, &#x27;previous&#x27;, &#x27;days_since_last_contact&#x27;, &#x27;day&#x27;, &#x27;month&#x27;, &#x27;year&#x27;, &#x27;interaction_campaign_previous&#x27;, &#x27;pdays_bool&#x27;, &#x27;balance_bool&#x27;, &#x27;pos_balance&#x27;, &#x27;pos_pdays&#x27;]</pre></div></div></div><div class=\"sk-serial\"><div class=\"sk-item\"><div class=\"sk-estimator sk-toggleable\"><input class=\"sk-toggleable__control sk-hidden--visually\" id=\"sk-estimator-id-6\" type=\"checkbox\" ><label for=\"sk-estimator-id-6\" class=\"sk-toggleable__label sk-toggleable__label-arrow\">MinMaxScaler</label><div class=\"sk-toggleable__content\"><pre>MinMaxScaler()</pre></div></div></div></div></div></div><div class=\"sk-parallel-item\"><div class=\"sk-item\"><div class=\"sk-label-container\"><div class=\"sk-label sk-toggleable\"><input class=\"sk-toggleable__control sk-hidden--visually\" id=\"sk-estimator-id-7\" type=\"checkbox\" ><label for=\"sk-estimator-id-7\" class=\"sk-toggleable__label sk-toggleable__label-arrow\">remainder</label><div class=\"sk-toggleable__content\"><pre>[]</pre></div></div></div><div class=\"sk-serial\"><div class=\"sk-item\"><div class=\"sk-estimator sk-toggleable\"><input class=\"sk-toggleable__control sk-hidden--visually\" id=\"sk-estimator-id-8\" type=\"checkbox\" ><label for=\"sk-estimator-id-8\" class=\"sk-toggleable__label sk-toggleable__label-arrow\">passthrough</label><div class=\"sk-toggleable__content\"><pre>passthrough</pre></div></div></div></div></div></div></div></div></div></div></div></div>"
      ],
      "text/plain": [
       "Pipeline(steps=[('preprocessor',\n",
       "                 ColumnTransformer(remainder='passthrough',\n",
       "                                   transformers=[('ohe',\n",
       "                                                  OneHotEncoder(handle_unknown='ignore',\n",
       "                                                                sparse=False),\n",
       "                                                  ['job', 'marital',\n",
       "                                                   'education', 'default',\n",
       "                                                   'housing', 'loan', 'contact',\n",
       "                                                   'poutcome', 'weekday',\n",
       "                                                   'age_bin', 'recency_bin',\n",
       "                                                   'duration_bin',\n",
       "                                                   'balance_bin',\n",
       "                                                   'contact_type',\n",
       "                                                   'loan_combination',\n",
       "                                                   'customer_profile',\n",
       "                                                   'balance_contact_combo']),\n",
       "                                                 ('scaler', MinMaxScaler(),\n",
       "                                                  ['age', 'balance', 'duration',\n",
       "                                                   'campaign', 'pdays',\n",
       "                                                   'previous',\n",
       "                                                   'days_since_last_contact',\n",
       "                                                   'day', 'month', 'year',\n",
       "                                                   'interaction_campaign_previous',\n",
       "                                                   'pdays_bool', 'balance_bool',\n",
       "                                                   'pos_balance',\n",
       "                                                   'pos_pdays'])]))])"
      ]
     },
     "execution_count": 37,
     "metadata": {},
     "output_type": "execute_result"
    }
   ],
   "source": [
    "pre_pipeline.fit(x)                                                               # fitting the pipeline"
   ]
  },
  {
   "cell_type": "code",
   "execution_count": 38,
   "id": "86825168",
   "metadata": {
    "execution": {
     "iopub.execute_input": "2024-12-07T13:50:15.430931Z",
     "iopub.status.busy": "2024-12-07T13:50:15.429682Z",
     "iopub.status.idle": "2024-12-07T13:50:15.668653Z",
     "shell.execute_reply": "2024-12-07T13:50:15.667513Z"
    },
    "papermill": {
     "duration": 0.264449,
     "end_time": "2024-12-07T13:50:15.671200",
     "exception": false,
     "start_time": "2024-12-07T13:50:15.406751",
     "status": "completed"
    },
    "tags": []
   },
   "outputs": [
    {
     "data": {
      "text/html": [
       "<div>\n",
       "<style scoped>\n",
       "    .dataframe tbody tr th:only-of-type {\n",
       "        vertical-align: middle;\n",
       "    }\n",
       "\n",
       "    .dataframe tbody tr th {\n",
       "        vertical-align: top;\n",
       "    }\n",
       "\n",
       "    .dataframe thead th {\n",
       "        text-align: right;\n",
       "    }\n",
       "</style>\n",
       "<table border=\"1\" class=\"dataframe\">\n",
       "  <thead>\n",
       "    <tr style=\"text-align: right;\">\n",
       "      <th></th>\n",
       "      <th>ohe__job_admin.</th>\n",
       "      <th>ohe__job_blue-collar</th>\n",
       "      <th>ohe__job_entrepreneur</th>\n",
       "      <th>ohe__job_housemaid</th>\n",
       "      <th>ohe__job_management</th>\n",
       "      <th>ohe__job_retired</th>\n",
       "      <th>ohe__job_self-employed</th>\n",
       "      <th>ohe__job_services</th>\n",
       "      <th>ohe__job_student</th>\n",
       "      <th>ohe__job_technician</th>\n",
       "      <th>...</th>\n",
       "      <th>scaler__previous</th>\n",
       "      <th>scaler__days_since_last_contact</th>\n",
       "      <th>scaler__day</th>\n",
       "      <th>scaler__month</th>\n",
       "      <th>scaler__year</th>\n",
       "      <th>scaler__interaction_campaign_previous</th>\n",
       "      <th>scaler__pdays_bool</th>\n",
       "      <th>scaler__balance_bool</th>\n",
       "      <th>scaler__pos_balance</th>\n",
       "      <th>scaler__pos_pdays</th>\n",
       "    </tr>\n",
       "  </thead>\n",
       "  <tbody>\n",
       "    <tr>\n",
       "      <th>0</th>\n",
       "      <td>0.0</td>\n",
       "      <td>1.0</td>\n",
       "      <td>0.0</td>\n",
       "      <td>0.0</td>\n",
       "      <td>0.0</td>\n",
       "      <td>0.0</td>\n",
       "      <td>0.0</td>\n",
       "      <td>0.0</td>\n",
       "      <td>0.0</td>\n",
       "      <td>0.0</td>\n",
       "      <td>...</td>\n",
       "      <td>0.003636</td>\n",
       "      <td>0.569597</td>\n",
       "      <td>0.533333</td>\n",
       "      <td>0.272727</td>\n",
       "      <td>0.5</td>\n",
       "      <td>0.000118</td>\n",
       "      <td>1.0</td>\n",
       "      <td>1.0</td>\n",
       "      <td>0.031897</td>\n",
       "      <td>0.380023</td>\n",
       "    </tr>\n",
       "    <tr>\n",
       "      <th>1</th>\n",
       "      <td>0.0</td>\n",
       "      <td>0.0</td>\n",
       "      <td>0.0</td>\n",
       "      <td>0.0</td>\n",
       "      <td>0.0</td>\n",
       "      <td>0.0</td>\n",
       "      <td>0.0</td>\n",
       "      <td>0.0</td>\n",
       "      <td>0.0</td>\n",
       "      <td>1.0</td>\n",
       "      <td>...</td>\n",
       "      <td>0.000000</td>\n",
       "      <td>0.407509</td>\n",
       "      <td>0.333333</td>\n",
       "      <td>0.818182</td>\n",
       "      <td>0.5</td>\n",
       "      <td>0.000000</td>\n",
       "      <td>0.0</td>\n",
       "      <td>1.0</td>\n",
       "      <td>0.027263</td>\n",
       "      <td>0.000000</td>\n",
       "    </tr>\n",
       "    <tr>\n",
       "      <th>2</th>\n",
       "      <td>0.0</td>\n",
       "      <td>1.0</td>\n",
       "      <td>0.0</td>\n",
       "      <td>0.0</td>\n",
       "      <td>0.0</td>\n",
       "      <td>0.0</td>\n",
       "      <td>0.0</td>\n",
       "      <td>0.0</td>\n",
       "      <td>0.0</td>\n",
       "      <td>0.0</td>\n",
       "      <td>...</td>\n",
       "      <td>0.000000</td>\n",
       "      <td>0.036630</td>\n",
       "      <td>0.633333</td>\n",
       "      <td>0.909091</td>\n",
       "      <td>1.0</td>\n",
       "      <td>0.000000</td>\n",
       "      <td>0.0</td>\n",
       "      <td>1.0</td>\n",
       "      <td>0.068872</td>\n",
       "      <td>0.000000</td>\n",
       "    </tr>\n",
       "    <tr>\n",
       "      <th>3</th>\n",
       "      <td>1.0</td>\n",
       "      <td>0.0</td>\n",
       "      <td>0.0</td>\n",
       "      <td>0.0</td>\n",
       "      <td>0.0</td>\n",
       "      <td>0.0</td>\n",
       "      <td>0.0</td>\n",
       "      <td>0.0</td>\n",
       "      <td>0.0</td>\n",
       "      <td>0.0</td>\n",
       "      <td>...</td>\n",
       "      <td>0.000000</td>\n",
       "      <td>0.444139</td>\n",
       "      <td>0.000000</td>\n",
       "      <td>0.727273</td>\n",
       "      <td>0.5</td>\n",
       "      <td>0.000000</td>\n",
       "      <td>0.0</td>\n",
       "      <td>1.0</td>\n",
       "      <td>0.019424</td>\n",
       "      <td>0.000000</td>\n",
       "    </tr>\n",
       "    <tr>\n",
       "      <th>4</th>\n",
       "      <td>0.0</td>\n",
       "      <td>0.0</td>\n",
       "      <td>1.0</td>\n",
       "      <td>0.0</td>\n",
       "      <td>0.0</td>\n",
       "      <td>0.0</td>\n",
       "      <td>0.0</td>\n",
       "      <td>0.0</td>\n",
       "      <td>0.0</td>\n",
       "      <td>0.0</td>\n",
       "      <td>...</td>\n",
       "      <td>0.000000</td>\n",
       "      <td>0.976190</td>\n",
       "      <td>0.933333</td>\n",
       "      <td>0.000000</td>\n",
       "      <td>0.0</td>\n",
       "      <td>0.000000</td>\n",
       "      <td>0.0</td>\n",
       "      <td>1.0</td>\n",
       "      <td>0.006754</td>\n",
       "      <td>0.000000</td>\n",
       "    </tr>\n",
       "  </tbody>\n",
       "</table>\n",
       "<p>5 rows × 124 columns</p>\n",
       "</div>"
      ],
      "text/plain": [
       "   ohe__job_admin.  ohe__job_blue-collar  ohe__job_entrepreneur  \\\n",
       "0              0.0                   1.0                    0.0   \n",
       "1              0.0                   0.0                    0.0   \n",
       "2              0.0                   1.0                    0.0   \n",
       "3              1.0                   0.0                    0.0   \n",
       "4              0.0                   0.0                    1.0   \n",
       "\n",
       "   ohe__job_housemaid  ohe__job_management  ohe__job_retired  \\\n",
       "0                 0.0                  0.0               0.0   \n",
       "1                 0.0                  0.0               0.0   \n",
       "2                 0.0                  0.0               0.0   \n",
       "3                 0.0                  0.0               0.0   \n",
       "4                 0.0                  0.0               0.0   \n",
       "\n",
       "   ohe__job_self-employed  ohe__job_services  ohe__job_student  \\\n",
       "0                     0.0                0.0               0.0   \n",
       "1                     0.0                0.0               0.0   \n",
       "2                     0.0                0.0               0.0   \n",
       "3                     0.0                0.0               0.0   \n",
       "4                     0.0                0.0               0.0   \n",
       "\n",
       "   ohe__job_technician  ...  scaler__previous  \\\n",
       "0                  0.0  ...          0.003636   \n",
       "1                  1.0  ...          0.000000   \n",
       "2                  0.0  ...          0.000000   \n",
       "3                  0.0  ...          0.000000   \n",
       "4                  0.0  ...          0.000000   \n",
       "\n",
       "   scaler__days_since_last_contact  scaler__day  scaler__month  scaler__year  \\\n",
       "0                         0.569597     0.533333       0.272727           0.5   \n",
       "1                         0.407509     0.333333       0.818182           0.5   \n",
       "2                         0.036630     0.633333       0.909091           1.0   \n",
       "3                         0.444139     0.000000       0.727273           0.5   \n",
       "4                         0.976190     0.933333       0.000000           0.0   \n",
       "\n",
       "   scaler__interaction_campaign_previous  scaler__pdays_bool  \\\n",
       "0                               0.000118                 1.0   \n",
       "1                               0.000000                 0.0   \n",
       "2                               0.000000                 0.0   \n",
       "3                               0.000000                 0.0   \n",
       "4                               0.000000                 0.0   \n",
       "\n",
       "   scaler__balance_bool  scaler__pos_balance  scaler__pos_pdays  \n",
       "0                   1.0             0.031897           0.380023  \n",
       "1                   1.0             0.027263           0.000000  \n",
       "2                   1.0             0.068872           0.000000  \n",
       "3                   1.0             0.019424           0.000000  \n",
       "4                   1.0             0.006754           0.000000  \n",
       "\n",
       "[5 rows x 124 columns]"
      ]
     },
     "execution_count": 38,
     "metadata": {},
     "output_type": "execute_result"
    }
   ],
   "source": [
    "#transform the feature columns according to column transformer\n",
    "X_transformed = pre_pipeline.transform(x)\n",
    "\n",
    "X_transformed_df = pd.DataFrame(X_transformed, columns=pre_pipeline.get_feature_names_out())\n",
    "\n",
    "X_transformed_df.head()"
   ]
  },
  {
   "cell_type": "markdown",
   "id": "052601f8",
   "metadata": {
    "papermill": {
     "duration": 0.019932,
     "end_time": "2024-12-07T13:50:15.711999",
     "exception": false,
     "start_time": "2024-12-07T13:50:15.692067",
     "status": "completed"
    },
    "tags": []
   },
   "source": [
    "# Splitting  Dataset for validation "
   ]
  },
  {
   "cell_type": "code",
   "execution_count": 39,
   "id": "e41bc2dc",
   "metadata": {
    "execution": {
     "iopub.execute_input": "2024-12-07T13:50:15.754044Z",
     "iopub.status.busy": "2024-12-07T13:50:15.753652Z",
     "iopub.status.idle": "2024-12-07T13:50:15.773680Z",
     "shell.execute_reply": "2024-12-07T13:50:15.772549Z"
    },
    "papermill": {
     "duration": 0.043819,
     "end_time": "2024-12-07T13:50:15.775988",
     "exception": false,
     "start_time": "2024-12-07T13:50:15.732169",
     "status": "completed"
    },
    "tags": []
   },
   "outputs": [],
   "source": [
    "#Dataset splitted for training and testing( 80 percent for training 20 percent testing)\n",
    "X_train,X_test,Y_train,Y_test=train_test_split(X_transformed_df,y, test_size=0.20,random_state=42)"
   ]
  },
  {
   "cell_type": "markdown",
   "id": "1853b1e9",
   "metadata": {
    "papermill": {
     "duration": 0.019971,
     "end_time": "2024-12-07T13:50:15.816545",
     "exception": false,
     "start_time": "2024-12-07T13:50:15.796574",
     "status": "completed"
    },
    "tags": []
   },
   "source": [
    "# Handling Unbalanced Data"
   ]
  },
  {
   "cell_type": "code",
   "execution_count": 40,
   "id": "54624f3d",
   "metadata": {
    "execution": {
     "iopub.execute_input": "2024-12-07T13:50:15.863139Z",
     "iopub.status.busy": "2024-12-07T13:50:15.862705Z",
     "iopub.status.idle": "2024-12-07T13:50:30.483681Z",
     "shell.execute_reply": "2024-12-07T13:50:30.482668Z"
    },
    "papermill": {
     "duration": 14.646391,
     "end_time": "2024-12-07T13:50:30.486174",
     "exception": false,
     "start_time": "2024-12-07T13:50:15.839783",
     "status": "completed"
    },
    "tags": []
   },
   "outputs": [],
   "source": [
    "# using smote to resample the dataset\n",
    "smote = SMOTEENN(sampling_strategy='minority',random_state=42)\n",
    "X_train_resampled, y_train_resampled = smote.fit_resample(X_train, Y_train)"
   ]
  },
  {
   "cell_type": "markdown",
   "id": "3daa736c",
   "metadata": {
    "papermill": {
     "duration": 0.019693,
     "end_time": "2024-12-07T13:50:30.526244",
     "exception": false,
     "start_time": "2024-12-07T13:50:30.506551",
     "status": "completed"
    },
    "tags": []
   },
   "source": [
    "# Model Buliding"
   ]
  },
  {
   "cell_type": "markdown",
   "id": "78492ddf",
   "metadata": {
    "papermill": {
     "duration": 0.019903,
     "end_time": "2024-12-07T13:50:30.566224",
     "exception": false,
     "start_time": "2024-12-07T13:50:30.546321",
     "status": "completed"
    },
    "tags": []
   },
   "source": [
    "## 1. **XGB MODEL**"
   ]
  },
  {
   "cell_type": "code",
   "execution_count": 41,
   "id": "0e7bc095",
   "metadata": {
    "execution": {
     "iopub.execute_input": "2024-12-07T13:50:30.611228Z",
     "iopub.status.busy": "2024-12-07T13:50:30.610821Z",
     "iopub.status.idle": "2024-12-07T13:50:33.247170Z",
     "shell.execute_reply": "2024-12-07T13:50:33.246347Z"
    },
    "papermill": {
     "duration": 2.662604,
     "end_time": "2024-12-07T13:50:33.249315",
     "exception": false,
     "start_time": "2024-12-07T13:50:30.586711",
     "status": "completed"
    },
    "tags": []
   },
   "outputs": [
    {
     "data": {
      "text/html": [
       "<style>#sk-container-id-2 {color: black;background-color: white;}#sk-container-id-2 pre{padding: 0;}#sk-container-id-2 div.sk-toggleable {background-color: white;}#sk-container-id-2 label.sk-toggleable__label {cursor: pointer;display: block;width: 100%;margin-bottom: 0;padding: 0.3em;box-sizing: border-box;text-align: center;}#sk-container-id-2 label.sk-toggleable__label-arrow:before {content: \"▸\";float: left;margin-right: 0.25em;color: #696969;}#sk-container-id-2 label.sk-toggleable__label-arrow:hover:before {color: black;}#sk-container-id-2 div.sk-estimator:hover label.sk-toggleable__label-arrow:before {color: black;}#sk-container-id-2 div.sk-toggleable__content {max-height: 0;max-width: 0;overflow: hidden;text-align: left;background-color: #f0f8ff;}#sk-container-id-2 div.sk-toggleable__content pre {margin: 0.2em;color: black;border-radius: 0.25em;background-color: #f0f8ff;}#sk-container-id-2 input.sk-toggleable__control:checked~div.sk-toggleable__content {max-height: 200px;max-width: 100%;overflow: auto;}#sk-container-id-2 input.sk-toggleable__control:checked~label.sk-toggleable__label-arrow:before {content: \"▾\";}#sk-container-id-2 div.sk-estimator input.sk-toggleable__control:checked~label.sk-toggleable__label {background-color: #d4ebff;}#sk-container-id-2 div.sk-label input.sk-toggleable__control:checked~label.sk-toggleable__label {background-color: #d4ebff;}#sk-container-id-2 input.sk-hidden--visually {border: 0;clip: rect(1px 1px 1px 1px);clip: rect(1px, 1px, 1px, 1px);height: 1px;margin: -1px;overflow: hidden;padding: 0;position: absolute;width: 1px;}#sk-container-id-2 div.sk-estimator {font-family: monospace;background-color: #f0f8ff;border: 1px dotted black;border-radius: 0.25em;box-sizing: border-box;margin-bottom: 0.5em;}#sk-container-id-2 div.sk-estimator:hover {background-color: #d4ebff;}#sk-container-id-2 div.sk-parallel-item::after {content: \"\";width: 100%;border-bottom: 1px solid gray;flex-grow: 1;}#sk-container-id-2 div.sk-label:hover label.sk-toggleable__label {background-color: #d4ebff;}#sk-container-id-2 div.sk-serial::before {content: \"\";position: absolute;border-left: 1px solid gray;box-sizing: border-box;top: 0;bottom: 0;left: 50%;z-index: 0;}#sk-container-id-2 div.sk-serial {display: flex;flex-direction: column;align-items: center;background-color: white;padding-right: 0.2em;padding-left: 0.2em;position: relative;}#sk-container-id-2 div.sk-item {position: relative;z-index: 1;}#sk-container-id-2 div.sk-parallel {display: flex;align-items: stretch;justify-content: center;background-color: white;position: relative;}#sk-container-id-2 div.sk-item::before, #sk-container-id-2 div.sk-parallel-item::before {content: \"\";position: absolute;border-left: 1px solid gray;box-sizing: border-box;top: 0;bottom: 0;left: 50%;z-index: -1;}#sk-container-id-2 div.sk-parallel-item {display: flex;flex-direction: column;z-index: 1;position: relative;background-color: white;}#sk-container-id-2 div.sk-parallel-item:first-child::after {align-self: flex-end;width: 50%;}#sk-container-id-2 div.sk-parallel-item:last-child::after {align-self: flex-start;width: 50%;}#sk-container-id-2 div.sk-parallel-item:only-child::after {width: 0;}#sk-container-id-2 div.sk-dashed-wrapped {border: 1px dashed gray;margin: 0 0.4em 0.5em 0.4em;box-sizing: border-box;padding-bottom: 0.4em;background-color: white;}#sk-container-id-2 div.sk-label label {font-family: monospace;font-weight: bold;display: inline-block;line-height: 1.2em;}#sk-container-id-2 div.sk-label-container {text-align: center;}#sk-container-id-2 div.sk-container {/* jupyter's `normalize.less` sets `[hidden] { display: none; }` but bootstrap.min.css set `[hidden] { display: none !important; }` so we also need the `!important` here to be able to override the default hidden behavior on the sphinx rendered scikit-learn.org. See: https://github.com/scikit-learn/scikit-learn/issues/21755 */display: inline-block !important;position: relative;}#sk-container-id-2 div.sk-text-repr-fallback {display: none;}</style><div id=\"sk-container-id-2\" class=\"sk-top-container\"><div class=\"sk-text-repr-fallback\"><pre>XGBClassifier(base_score=None, booster=None, callbacks=None,\n",
       "              colsample_bylevel=None, colsample_bynode=None,\n",
       "              colsample_bytree=None, device=None, early_stopping_rounds=None,\n",
       "              enable_categorical=False, eval_metric=None, feature_types=None,\n",
       "              gamma=None, grow_policy=None, importance_type=None,\n",
       "              interaction_constraints=None, learning_rate=None, max_bin=None,\n",
       "              max_cat_threshold=None, max_cat_to_onehot=None,\n",
       "              max_delta_step=None, max_depth=None, max_leaves=None,\n",
       "              min_child_weight=None, missing=nan, monotone_constraints=None,\n",
       "              multi_strategy=None, n_estimators=None, n_jobs=None,\n",
       "              num_parallel_tree=None, random_state=42, ...)</pre><b>In a Jupyter environment, please rerun this cell to show the HTML representation or trust the notebook. <br />On GitHub, the HTML representation is unable to render, please try loading this page with nbviewer.org.</b></div><div class=\"sk-container\" hidden><div class=\"sk-item\"><div class=\"sk-estimator sk-toggleable\"><input class=\"sk-toggleable__control sk-hidden--visually\" id=\"sk-estimator-id-9\" type=\"checkbox\" checked><label for=\"sk-estimator-id-9\" class=\"sk-toggleable__label sk-toggleable__label-arrow\">XGBClassifier</label><div class=\"sk-toggleable__content\"><pre>XGBClassifier(base_score=None, booster=None, callbacks=None,\n",
       "              colsample_bylevel=None, colsample_bynode=None,\n",
       "              colsample_bytree=None, device=None, early_stopping_rounds=None,\n",
       "              enable_categorical=False, eval_metric=None, feature_types=None,\n",
       "              gamma=None, grow_policy=None, importance_type=None,\n",
       "              interaction_constraints=None, learning_rate=None, max_bin=None,\n",
       "              max_cat_threshold=None, max_cat_to_onehot=None,\n",
       "              max_delta_step=None, max_depth=None, max_leaves=None,\n",
       "              min_child_weight=None, missing=nan, monotone_constraints=None,\n",
       "              multi_strategy=None, n_estimators=None, n_jobs=None,\n",
       "              num_parallel_tree=None, random_state=42, ...)</pre></div></div></div></div></div>"
      ],
      "text/plain": [
       "XGBClassifier(base_score=None, booster=None, callbacks=None,\n",
       "              colsample_bylevel=None, colsample_bynode=None,\n",
       "              colsample_bytree=None, device=None, early_stopping_rounds=None,\n",
       "              enable_categorical=False, eval_metric=None, feature_types=None,\n",
       "              gamma=None, grow_policy=None, importance_type=None,\n",
       "              interaction_constraints=None, learning_rate=None, max_bin=None,\n",
       "              max_cat_threshold=None, max_cat_to_onehot=None,\n",
       "              max_delta_step=None, max_depth=None, max_leaves=None,\n",
       "              min_child_weight=None, missing=nan, monotone_constraints=None,\n",
       "              multi_strategy=None, n_estimators=None, n_jobs=None,\n",
       "              num_parallel_tree=None, random_state=42, ...)"
      ]
     },
     "execution_count": 41,
     "metadata": {},
     "output_type": "execute_result"
    }
   ],
   "source": [
    "#Model Fitting\n",
    "XGB = xgb.XGBClassifier(random_state=42)               \n",
    "XGB.fit(X_train_resampled, y_train_resampled)"
   ]
  },
  {
   "cell_type": "code",
   "execution_count": 42,
   "id": "88ee57d0",
   "metadata": {
    "execution": {
     "iopub.execute_input": "2024-12-07T13:50:33.293230Z",
     "iopub.status.busy": "2024-12-07T13:50:33.292839Z",
     "iopub.status.idle": "2024-12-07T13:50:33.347231Z",
     "shell.execute_reply": "2024-12-07T13:50:33.345942Z"
    },
    "papermill": {
     "duration": 0.078195,
     "end_time": "2024-12-07T13:50:33.349322",
     "exception": false,
     "start_time": "2024-12-07T13:50:33.271127",
     "status": "completed"
    },
    "tags": []
   },
   "outputs": [
    {
     "name": "stdout",
     "output_type": "stream",
     "text": [
      "              precision    recall  f1-score   support\n",
      "\n",
      "         0.0       0.96      0.88      0.92      6365\n",
      "         1.0       0.49      0.78      0.60       937\n",
      "\n",
      "    accuracy                           0.87      7302\n",
      "   macro avg       0.73      0.83      0.76      7302\n",
      "weighted avg       0.90      0.87      0.88      7302\n",
      "\n"
     ]
    }
   ],
   "source": [
    "#predicting on test data\n",
    "y_pred = XGB.predict(X_test)\n",
    "report = classification_report(Y_test, y_pred)       # to find f1 score for test dataset for XGB model\n",
    "print(report)"
   ]
  },
  {
   "cell_type": "code",
   "execution_count": 43,
   "id": "9b29e198",
   "metadata": {
    "execution": {
     "iopub.execute_input": "2024-12-07T13:50:33.395741Z",
     "iopub.status.busy": "2024-12-07T13:50:33.395252Z",
     "iopub.status.idle": "2024-12-07T13:50:33.410152Z",
     "shell.execute_reply": "2024-12-07T13:50:33.408894Z"
    },
    "papermill": {
     "duration": 0.040912,
     "end_time": "2024-12-07T13:50:33.412481",
     "exception": false,
     "start_time": "2024-12-07T13:50:33.371569",
     "status": "completed"
    },
    "tags": []
   },
   "outputs": [
    {
     "name": "stdout",
     "output_type": "stream",
     "text": [
      "[[5603  762]\n",
      " [ 209  728]]\n"
     ]
    }
   ],
   "source": [
    "print(confusion_matrix(Y_test, y_pred))"
   ]
  },
  {
   "cell_type": "markdown",
   "id": "3d519c9b",
   "metadata": {
    "papermill": {
     "duration": 0.021394,
     "end_time": "2024-12-07T13:50:33.454655",
     "exception": false,
     "start_time": "2024-12-07T13:50:33.433261",
     "status": "completed"
    },
    "tags": []
   },
   "source": [
    "## 2. **RANDOM  FOREST MODEL**"
   ]
  },
  {
   "cell_type": "code",
   "execution_count": 44,
   "id": "a75f0110",
   "metadata": {
    "execution": {
     "iopub.execute_input": "2024-12-07T13:50:33.498440Z",
     "iopub.status.busy": "2024-12-07T13:50:33.498037Z",
     "iopub.status.idle": "2024-12-07T13:50:42.636805Z",
     "shell.execute_reply": "2024-12-07T13:50:42.635670Z"
    },
    "papermill": {
     "duration": 9.163111,
     "end_time": "2024-12-07T13:50:42.639090",
     "exception": false,
     "start_time": "2024-12-07T13:50:33.475979",
     "status": "completed"
    },
    "tags": []
   },
   "outputs": [
    {
     "data": {
      "text/html": [
       "<style>#sk-container-id-3 {color: black;background-color: white;}#sk-container-id-3 pre{padding: 0;}#sk-container-id-3 div.sk-toggleable {background-color: white;}#sk-container-id-3 label.sk-toggleable__label {cursor: pointer;display: block;width: 100%;margin-bottom: 0;padding: 0.3em;box-sizing: border-box;text-align: center;}#sk-container-id-3 label.sk-toggleable__label-arrow:before {content: \"▸\";float: left;margin-right: 0.25em;color: #696969;}#sk-container-id-3 label.sk-toggleable__label-arrow:hover:before {color: black;}#sk-container-id-3 div.sk-estimator:hover label.sk-toggleable__label-arrow:before {color: black;}#sk-container-id-3 div.sk-toggleable__content {max-height: 0;max-width: 0;overflow: hidden;text-align: left;background-color: #f0f8ff;}#sk-container-id-3 div.sk-toggleable__content pre {margin: 0.2em;color: black;border-radius: 0.25em;background-color: #f0f8ff;}#sk-container-id-3 input.sk-toggleable__control:checked~div.sk-toggleable__content {max-height: 200px;max-width: 100%;overflow: auto;}#sk-container-id-3 input.sk-toggleable__control:checked~label.sk-toggleable__label-arrow:before {content: \"▾\";}#sk-container-id-3 div.sk-estimator input.sk-toggleable__control:checked~label.sk-toggleable__label {background-color: #d4ebff;}#sk-container-id-3 div.sk-label input.sk-toggleable__control:checked~label.sk-toggleable__label {background-color: #d4ebff;}#sk-container-id-3 input.sk-hidden--visually {border: 0;clip: rect(1px 1px 1px 1px);clip: rect(1px, 1px, 1px, 1px);height: 1px;margin: -1px;overflow: hidden;padding: 0;position: absolute;width: 1px;}#sk-container-id-3 div.sk-estimator {font-family: monospace;background-color: #f0f8ff;border: 1px dotted black;border-radius: 0.25em;box-sizing: border-box;margin-bottom: 0.5em;}#sk-container-id-3 div.sk-estimator:hover {background-color: #d4ebff;}#sk-container-id-3 div.sk-parallel-item::after {content: \"\";width: 100%;border-bottom: 1px solid gray;flex-grow: 1;}#sk-container-id-3 div.sk-label:hover label.sk-toggleable__label {background-color: #d4ebff;}#sk-container-id-3 div.sk-serial::before {content: \"\";position: absolute;border-left: 1px solid gray;box-sizing: border-box;top: 0;bottom: 0;left: 50%;z-index: 0;}#sk-container-id-3 div.sk-serial {display: flex;flex-direction: column;align-items: center;background-color: white;padding-right: 0.2em;padding-left: 0.2em;position: relative;}#sk-container-id-3 div.sk-item {position: relative;z-index: 1;}#sk-container-id-3 div.sk-parallel {display: flex;align-items: stretch;justify-content: center;background-color: white;position: relative;}#sk-container-id-3 div.sk-item::before, #sk-container-id-3 div.sk-parallel-item::before {content: \"\";position: absolute;border-left: 1px solid gray;box-sizing: border-box;top: 0;bottom: 0;left: 50%;z-index: -1;}#sk-container-id-3 div.sk-parallel-item {display: flex;flex-direction: column;z-index: 1;position: relative;background-color: white;}#sk-container-id-3 div.sk-parallel-item:first-child::after {align-self: flex-end;width: 50%;}#sk-container-id-3 div.sk-parallel-item:last-child::after {align-self: flex-start;width: 50%;}#sk-container-id-3 div.sk-parallel-item:only-child::after {width: 0;}#sk-container-id-3 div.sk-dashed-wrapped {border: 1px dashed gray;margin: 0 0.4em 0.5em 0.4em;box-sizing: border-box;padding-bottom: 0.4em;background-color: white;}#sk-container-id-3 div.sk-label label {font-family: monospace;font-weight: bold;display: inline-block;line-height: 1.2em;}#sk-container-id-3 div.sk-label-container {text-align: center;}#sk-container-id-3 div.sk-container {/* jupyter's `normalize.less` sets `[hidden] { display: none; }` but bootstrap.min.css set `[hidden] { display: none !important; }` so we also need the `!important` here to be able to override the default hidden behavior on the sphinx rendered scikit-learn.org. See: https://github.com/scikit-learn/scikit-learn/issues/21755 */display: inline-block !important;position: relative;}#sk-container-id-3 div.sk-text-repr-fallback {display: none;}</style><div id=\"sk-container-id-3\" class=\"sk-top-container\"><div class=\"sk-text-repr-fallback\"><pre>RandomForestClassifier(random_state=42)</pre><b>In a Jupyter environment, please rerun this cell to show the HTML representation or trust the notebook. <br />On GitHub, the HTML representation is unable to render, please try loading this page with nbviewer.org.</b></div><div class=\"sk-container\" hidden><div class=\"sk-item\"><div class=\"sk-estimator sk-toggleable\"><input class=\"sk-toggleable__control sk-hidden--visually\" id=\"sk-estimator-id-10\" type=\"checkbox\" checked><label for=\"sk-estimator-id-10\" class=\"sk-toggleable__label sk-toggleable__label-arrow\">RandomForestClassifier</label><div class=\"sk-toggleable__content\"><pre>RandomForestClassifier(random_state=42)</pre></div></div></div></div></div>"
      ],
      "text/plain": [
       "RandomForestClassifier(random_state=42)"
      ]
     },
     "execution_count": 44,
     "metadata": {},
     "output_type": "execute_result"
    }
   ],
   "source": [
    "#Model Fitting\n",
    "RFC=RandomForestClassifier(random_state=42)\n",
    "RFC.fit(X_train_resampled, y_train_resampled)"
   ]
  },
  {
   "cell_type": "code",
   "execution_count": 45,
   "id": "4a6f29c4",
   "metadata": {
    "execution": {
     "iopub.execute_input": "2024-12-07T13:50:42.685106Z",
     "iopub.status.busy": "2024-12-07T13:50:42.684750Z",
     "iopub.status.idle": "2024-12-07T13:50:42.869686Z",
     "shell.execute_reply": "2024-12-07T13:50:42.868559Z"
    },
    "papermill": {
     "duration": 0.2114,
     "end_time": "2024-12-07T13:50:42.871952",
     "exception": false,
     "start_time": "2024-12-07T13:50:42.660552",
     "status": "completed"
    },
    "tags": []
   },
   "outputs": [
    {
     "name": "stdout",
     "output_type": "stream",
     "text": [
      "              precision    recall  f1-score   support\n",
      "\n",
      "         0.0       0.96      0.84      0.90      6365\n",
      "         1.0       0.42      0.79      0.55       937\n",
      "\n",
      "    accuracy                           0.83      7302\n",
      "   macro avg       0.69      0.81      0.72      7302\n",
      "weighted avg       0.89      0.83      0.85      7302\n",
      "\n"
     ]
    }
   ],
   "source": [
    "#predicting on test data\n",
    "y_pred = RFC.predict(X_test)\n",
    "report = classification_report(Y_test, y_pred)      # to find f1 score for test dataset for Random Forest model   \n",
    "print(report)"
   ]
  },
  {
   "cell_type": "code",
   "execution_count": 46,
   "id": "4a465eaa",
   "metadata": {
    "execution": {
     "iopub.execute_input": "2024-12-07T13:50:42.914424Z",
     "iopub.status.busy": "2024-12-07T13:50:42.914048Z",
     "iopub.status.idle": "2024-12-07T13:50:42.926665Z",
     "shell.execute_reply": "2024-12-07T13:50:42.925550Z"
    },
    "papermill": {
     "duration": 0.036088,
     "end_time": "2024-12-07T13:50:42.928538",
     "exception": false,
     "start_time": "2024-12-07T13:50:42.892450",
     "status": "completed"
    },
    "tags": []
   },
   "outputs": [
    {
     "name": "stdout",
     "output_type": "stream",
     "text": [
      "[[5329 1036]\n",
      " [ 196  741]]\n"
     ]
    }
   ],
   "source": [
    "print(confusion_matrix(Y_test, y_pred))"
   ]
  },
  {
   "cell_type": "markdown",
   "id": "589bb4e7",
   "metadata": {
    "papermill": {
     "duration": 0.02097,
     "end_time": "2024-12-07T13:50:42.970155",
     "exception": false,
     "start_time": "2024-12-07T13:50:42.949185",
     "status": "completed"
    },
    "tags": []
   },
   "source": [
    "## 3. **LOGISTIC REGRESSION MODEL**"
   ]
  },
  {
   "cell_type": "code",
   "execution_count": 47,
   "id": "711cfe2e",
   "metadata": {
    "execution": {
     "iopub.execute_input": "2024-12-07T13:50:43.014057Z",
     "iopub.status.busy": "2024-12-07T13:50:43.013536Z",
     "iopub.status.idle": "2024-12-07T13:50:45.622271Z",
     "shell.execute_reply": "2024-12-07T13:50:45.620047Z"
    },
    "papermill": {
     "duration": 2.636257,
     "end_time": "2024-12-07T13:50:45.627014",
     "exception": false,
     "start_time": "2024-12-07T13:50:42.990757",
     "status": "completed"
    },
    "tags": []
   },
   "outputs": [
    {
     "data": {
      "text/html": [
       "<style>#sk-container-id-4 {color: black;background-color: white;}#sk-container-id-4 pre{padding: 0;}#sk-container-id-4 div.sk-toggleable {background-color: white;}#sk-container-id-4 label.sk-toggleable__label {cursor: pointer;display: block;width: 100%;margin-bottom: 0;padding: 0.3em;box-sizing: border-box;text-align: center;}#sk-container-id-4 label.sk-toggleable__label-arrow:before {content: \"▸\";float: left;margin-right: 0.25em;color: #696969;}#sk-container-id-4 label.sk-toggleable__label-arrow:hover:before {color: black;}#sk-container-id-4 div.sk-estimator:hover label.sk-toggleable__label-arrow:before {color: black;}#sk-container-id-4 div.sk-toggleable__content {max-height: 0;max-width: 0;overflow: hidden;text-align: left;background-color: #f0f8ff;}#sk-container-id-4 div.sk-toggleable__content pre {margin: 0.2em;color: black;border-radius: 0.25em;background-color: #f0f8ff;}#sk-container-id-4 input.sk-toggleable__control:checked~div.sk-toggleable__content {max-height: 200px;max-width: 100%;overflow: auto;}#sk-container-id-4 input.sk-toggleable__control:checked~label.sk-toggleable__label-arrow:before {content: \"▾\";}#sk-container-id-4 div.sk-estimator input.sk-toggleable__control:checked~label.sk-toggleable__label {background-color: #d4ebff;}#sk-container-id-4 div.sk-label input.sk-toggleable__control:checked~label.sk-toggleable__label {background-color: #d4ebff;}#sk-container-id-4 input.sk-hidden--visually {border: 0;clip: rect(1px 1px 1px 1px);clip: rect(1px, 1px, 1px, 1px);height: 1px;margin: -1px;overflow: hidden;padding: 0;position: absolute;width: 1px;}#sk-container-id-4 div.sk-estimator {font-family: monospace;background-color: #f0f8ff;border: 1px dotted black;border-radius: 0.25em;box-sizing: border-box;margin-bottom: 0.5em;}#sk-container-id-4 div.sk-estimator:hover {background-color: #d4ebff;}#sk-container-id-4 div.sk-parallel-item::after {content: \"\";width: 100%;border-bottom: 1px solid gray;flex-grow: 1;}#sk-container-id-4 div.sk-label:hover label.sk-toggleable__label {background-color: #d4ebff;}#sk-container-id-4 div.sk-serial::before {content: \"\";position: absolute;border-left: 1px solid gray;box-sizing: border-box;top: 0;bottom: 0;left: 50%;z-index: 0;}#sk-container-id-4 div.sk-serial {display: flex;flex-direction: column;align-items: center;background-color: white;padding-right: 0.2em;padding-left: 0.2em;position: relative;}#sk-container-id-4 div.sk-item {position: relative;z-index: 1;}#sk-container-id-4 div.sk-parallel {display: flex;align-items: stretch;justify-content: center;background-color: white;position: relative;}#sk-container-id-4 div.sk-item::before, #sk-container-id-4 div.sk-parallel-item::before {content: \"\";position: absolute;border-left: 1px solid gray;box-sizing: border-box;top: 0;bottom: 0;left: 50%;z-index: -1;}#sk-container-id-4 div.sk-parallel-item {display: flex;flex-direction: column;z-index: 1;position: relative;background-color: white;}#sk-container-id-4 div.sk-parallel-item:first-child::after {align-self: flex-end;width: 50%;}#sk-container-id-4 div.sk-parallel-item:last-child::after {align-self: flex-start;width: 50%;}#sk-container-id-4 div.sk-parallel-item:only-child::after {width: 0;}#sk-container-id-4 div.sk-dashed-wrapped {border: 1px dashed gray;margin: 0 0.4em 0.5em 0.4em;box-sizing: border-box;padding-bottom: 0.4em;background-color: white;}#sk-container-id-4 div.sk-label label {font-family: monospace;font-weight: bold;display: inline-block;line-height: 1.2em;}#sk-container-id-4 div.sk-label-container {text-align: center;}#sk-container-id-4 div.sk-container {/* jupyter's `normalize.less` sets `[hidden] { display: none; }` but bootstrap.min.css set `[hidden] { display: none !important; }` so we also need the `!important` here to be able to override the default hidden behavior on the sphinx rendered scikit-learn.org. See: https://github.com/scikit-learn/scikit-learn/issues/21755 */display: inline-block !important;position: relative;}#sk-container-id-4 div.sk-text-repr-fallback {display: none;}</style><div id=\"sk-container-id-4\" class=\"sk-top-container\"><div class=\"sk-text-repr-fallback\"><pre>LogisticRegression(max_iter=1000, random_state=42)</pre><b>In a Jupyter environment, please rerun this cell to show the HTML representation or trust the notebook. <br />On GitHub, the HTML representation is unable to render, please try loading this page with nbviewer.org.</b></div><div class=\"sk-container\" hidden><div class=\"sk-item\"><div class=\"sk-estimator sk-toggleable\"><input class=\"sk-toggleable__control sk-hidden--visually\" id=\"sk-estimator-id-11\" type=\"checkbox\" checked><label for=\"sk-estimator-id-11\" class=\"sk-toggleable__label sk-toggleable__label-arrow\">LogisticRegression</label><div class=\"sk-toggleable__content\"><pre>LogisticRegression(max_iter=1000, random_state=42)</pre></div></div></div></div></div>"
      ],
      "text/plain": [
       "LogisticRegression(max_iter=1000, random_state=42)"
      ]
     },
     "execution_count": 47,
     "metadata": {},
     "output_type": "execute_result"
    }
   ],
   "source": [
    "#Model Fitting\n",
    "log=LogisticRegression(random_state=42, max_iter=1000)       \n",
    "log.fit(X_train_resampled, y_train_resampled)"
   ]
  },
  {
   "cell_type": "code",
   "execution_count": 48,
   "id": "d8efc7e2",
   "metadata": {
    "execution": {
     "iopub.execute_input": "2024-12-07T13:50:45.742753Z",
     "iopub.status.busy": "2024-12-07T13:50:45.742327Z",
     "iopub.status.idle": "2024-12-07T13:50:45.800698Z",
     "shell.execute_reply": "2024-12-07T13:50:45.799172Z"
    },
    "papermill": {
     "duration": 0.120788,
     "end_time": "2024-12-07T13:50:45.809186",
     "exception": false,
     "start_time": "2024-12-07T13:50:45.688398",
     "status": "completed"
    },
    "tags": []
   },
   "outputs": [
    {
     "name": "stdout",
     "output_type": "stream",
     "text": [
      "              precision    recall  f1-score   support\n",
      "\n",
      "         0.0       0.98      0.74      0.84      6365\n",
      "         1.0       0.33      0.88      0.48       937\n",
      "\n",
      "    accuracy                           0.75      7302\n",
      "   macro avg       0.65      0.81      0.66      7302\n",
      "weighted avg       0.89      0.75      0.79      7302\n",
      "\n"
     ]
    }
   ],
   "source": [
    "#predicting on test data\n",
    "y_pred = log.predict(X_test)\n",
    "report = classification_report(Y_test, y_pred)       # to find f1 score for test dataset for Random Forest model\n",
    "print(report)"
   ]
  },
  {
   "cell_type": "code",
   "execution_count": 49,
   "id": "3d1f6bff",
   "metadata": {
    "execution": {
     "iopub.execute_input": "2024-12-07T13:50:45.897764Z",
     "iopub.status.busy": "2024-12-07T13:50:45.896577Z",
     "iopub.status.idle": "2024-12-07T13:50:45.912247Z",
     "shell.execute_reply": "2024-12-07T13:50:45.910484Z"
    },
    "papermill": {
     "duration": 0.043544,
     "end_time": "2024-12-07T13:50:45.915518",
     "exception": false,
     "start_time": "2024-12-07T13:50:45.871974",
     "status": "completed"
    },
    "tags": []
   },
   "outputs": [
    {
     "name": "stdout",
     "output_type": "stream",
     "text": [
      "[[4688 1677]\n",
      " [ 116  821]]\n"
     ]
    }
   ],
   "source": [
    "print(confusion_matrix(Y_test, y_pred))"
   ]
  },
  {
   "cell_type": "markdown",
   "id": "f74e63ed",
   "metadata": {
    "papermill": {
     "duration": 0.021831,
     "end_time": "2024-12-07T13:50:45.959326",
     "exception": false,
     "start_time": "2024-12-07T13:50:45.937495",
     "status": "completed"
    },
    "tags": []
   },
   "source": [
    "# Comparing Base Models"
   ]
  },
  {
   "cell_type": "code",
   "execution_count": 50,
   "id": "94fc9fda",
   "metadata": {
    "execution": {
     "iopub.execute_input": "2024-12-07T13:50:46.005923Z",
     "iopub.status.busy": "2024-12-07T13:50:46.005511Z",
     "iopub.status.idle": "2024-12-07T13:50:46.011582Z",
     "shell.execute_reply": "2024-12-07T13:50:46.010479Z"
    },
    "papermill": {
     "duration": 0.032536,
     "end_time": "2024-12-07T13:50:46.013713",
     "exception": false,
     "start_time": "2024-12-07T13:50:45.981177",
     "status": "completed"
    },
    "tags": []
   },
   "outputs": [],
   "source": [
    "results = {\"Model\": [], \"Accuracy\": [], \"Precision\": [], \"Recall\": [], \"F1\": [], \"ROC-AUC\": []}   # creating Dictionary to save scores."
   ]
  },
  {
   "cell_type": "code",
   "execution_count": 51,
   "id": "38155d2f",
   "metadata": {
    "execution": {
     "iopub.execute_input": "2024-12-07T13:50:46.061986Z",
     "iopub.status.busy": "2024-12-07T13:50:46.061515Z",
     "iopub.status.idle": "2024-12-07T13:50:46.592293Z",
     "shell.execute_reply": "2024-12-07T13:50:46.590995Z"
    },
    "papermill": {
     "duration": 0.557343,
     "end_time": "2024-12-07T13:50:46.595239",
     "exception": false,
     "start_time": "2024-12-07T13:50:46.037896",
     "status": "completed"
    },
    "tags": []
   },
   "outputs": [
    {
     "name": "stdout",
     "output_type": "stream",
     "text": [
      "                 Model  Accuracy  Precision    Recall        F1   ROC-AUC\n",
      "0        Random Forest  0.831279   0.416995  0.790822  0.546057  0.891971\n",
      "1  Logistic Regression  0.754451   0.328663  0.876201  0.478020  0.883736\n",
      "2              XGBoost  0.867023   0.488591  0.776948  0.599918  0.913960\n"
     ]
    }
   ],
   "source": [
    "for name, model in [(\"Random Forest\", RFC), \n",
    "                    (\"Logistic Regression\", log), \n",
    "                    (\"XGBoost\", XGB)]:\n",
    "    # Predictions\n",
    "    y_pred = model.predict(X_test)\n",
    "    y_prob = model.predict_proba(X_test)[:, 1]\n",
    "\n",
    "    # Metrics\n",
    "    results[\"Model\"].append(name)\n",
    "    results[\"Accuracy\"].append(accuracy_score(Y_test, y_pred))\n",
    "    results[\"Precision\"].append(precision_score(Y_test, y_pred))\n",
    "    results[\"Recall\"].append(recall_score(Y_test, y_pred))\n",
    "    results[\"F1\"].append(f1_score(Y_test, y_pred))\n",
    "    results[\"ROC-AUC\"].append(roc_auc_score(Y_test, y_prob))\n",
    "\n",
    "\n",
    "df_results = pd.DataFrame(results)\n",
    "\n",
    "\n",
    "print(df_results)\n"
   ]
  },
  {
   "cell_type": "markdown",
   "id": "a2d5dd8b",
   "metadata": {
    "papermill": {
     "duration": 0.021174,
     "end_time": "2024-12-07T13:50:46.638801",
     "exception": false,
     "start_time": "2024-12-07T13:50:46.617627",
     "status": "completed"
    },
    "tags": []
   },
   "source": [
    "# Parameter Tuning and Feature Elimination"
   ]
  },
  {
   "cell_type": "code",
   "execution_count": 52,
   "id": "5ee25dad",
   "metadata": {
    "execution": {
     "iopub.execute_input": "2024-12-07T13:50:46.683310Z",
     "iopub.status.busy": "2024-12-07T13:50:46.682879Z",
     "iopub.status.idle": "2024-12-07T13:50:46.689914Z",
     "shell.execute_reply": "2024-12-07T13:50:46.688826Z"
    },
    "papermill": {
     "duration": 0.032104,
     "end_time": "2024-12-07T13:50:46.692209",
     "exception": false,
     "start_time": "2024-12-07T13:50:46.660105",
     "status": "completed"
    },
    "tags": []
   },
   "outputs": [],
   "source": [
    "# defining parameters for XGB\n",
    "param_dist = {\n",
    "    'classification__n_estimators': [50, 100, 200],       # number of trees in xgb model \n",
    "    'classification__max_depth': [3, 5, 7],               # maximum depth of tree in the Xgb model\n",
    "    'classification__learning_rate': [0.01, 0.1, 0.2],    # step_size\n",
    "    'classification__subsample': [0.6, 0.8, 1.0],         # percentage of samples used for training\n",
    "    'classification__colsample_bytree': [0.6, 0.8, 1.0],  # feature selection\n",
    "    'classification__gamma': [0, 1, 5],                   # reduce overfitting\n",
    "    'classification__reg_lambda': [1, 10, 50],            # applying l2 regularization.\n",
    "}"
   ]
  },
  {
   "cell_type": "code",
   "execution_count": 53,
   "id": "2338c3da",
   "metadata": {
    "execution": {
     "iopub.execute_input": "2024-12-07T13:50:46.737107Z",
     "iopub.status.busy": "2024-12-07T13:50:46.736740Z",
     "iopub.status.idle": "2024-12-07T13:50:46.741805Z",
     "shell.execute_reply": "2024-12-07T13:50:46.740670Z"
    },
    "papermill": {
     "duration": 0.029708,
     "end_time": "2024-12-07T13:50:46.743909",
     "exception": false,
     "start_time": "2024-12-07T13:50:46.714201",
     "status": "completed"
    },
    "tags": []
   },
   "outputs": [],
   "source": [
    "#initiating Recursive Feature Elimimination\n",
    "rfe = RFE(estimator=XGB, n_features_to_select=40)"
   ]
  },
  {
   "cell_type": "code",
   "execution_count": 54,
   "id": "dc0c06c0",
   "metadata": {
    "execution": {
     "iopub.execute_input": "2024-12-07T13:50:46.788470Z",
     "iopub.status.busy": "2024-12-07T13:50:46.788115Z",
     "iopub.status.idle": "2024-12-07T13:50:46.793986Z",
     "shell.execute_reply": "2024-12-07T13:50:46.792833Z"
    },
    "papermill": {
     "duration": 0.030891,
     "end_time": "2024-12-07T13:50:46.796278",
     "exception": false,
     "start_time": "2024-12-07T13:50:46.765387",
     "status": "completed"
    },
    "tags": []
   },
   "outputs": [],
   "source": [
    "#pipeline for feature elimination and model \n",
    "pipeline = Pipeline([\n",
    "    ('feature_selection', rfe),\n",
    "    ('classification', XGB)\n",
    "])"
   ]
  },
  {
   "cell_type": "code",
   "execution_count": 55,
   "id": "d8dec912",
   "metadata": {
    "execution": {
     "iopub.execute_input": "2024-12-07T13:50:46.841295Z",
     "iopub.status.busy": "2024-12-07T13:50:46.840937Z",
     "iopub.status.idle": "2024-12-07T13:50:46.846528Z",
     "shell.execute_reply": "2024-12-07T13:50:46.845169Z"
    },
    "papermill": {
     "duration": 0.030892,
     "end_time": "2024-12-07T13:50:46.848833",
     "exception": false,
     "start_time": "2024-12-07T13:50:46.817941",
     "status": "completed"
    },
    "tags": []
   },
   "outputs": [],
   "source": [
    "#initiating RandomSearchCV\n",
    "random_search = RandomizedSearchCV(\n",
    "    estimator=pipeline,\n",
    "    param_distributions=param_dist,\n",
    "    scoring='f1',           # setting scoring as f1\n",
    "    n_iter=50,              # Number of combinations to try\n",
    "    cv=5,                   # 5-fold cross-validation\n",
    "    random_state=42,\n",
    "    verbose=2,              #to print process\n",
    "    n_jobs=-1\n",
    ")"
   ]
  },
  {
   "cell_type": "code",
   "execution_count": 56,
   "id": "731c832a",
   "metadata": {
    "execution": {
     "iopub.execute_input": "2024-12-07T13:50:46.893726Z",
     "iopub.status.busy": "2024-12-07T13:50:46.893308Z",
     "iopub.status.idle": "2024-12-07T21:28:12.316048Z",
     "shell.execute_reply": "2024-12-07T21:28:12.314105Z"
    },
    "papermill": {
     "duration": 27445.471482,
     "end_time": "2024-12-07T21:28:12.341828",
     "exception": false,
     "start_time": "2024-12-07T13:50:46.870346",
     "status": "completed"
    },
    "tags": []
   },
   "outputs": [
    {
     "name": "stdout",
     "output_type": "stream",
     "text": [
      "Fitting 5 folds for each of 50 candidates, totalling 250 fits\n",
      "[CV] END classification__colsample_bytree=1.0, classification__gamma=1, classification__learning_rate=0.1, classification__max_depth=7, classification__n_estimators=100, classification__reg_lambda=1, classification__subsample=0.8; total time= 6.9min\n",
      "[CV] END classification__colsample_bytree=1.0, classification__gamma=1, classification__learning_rate=0.1, classification__max_depth=7, classification__n_estimators=100, classification__reg_lambda=1, classification__subsample=0.8; total time= 7.6min\n",
      "[CV] END classification__colsample_bytree=0.8, classification__gamma=5, classification__learning_rate=0.1, classification__max_depth=3, classification__n_estimators=200, classification__reg_lambda=1, classification__subsample=1.0; total time= 7.5min\n",
      "[CV] END classification__colsample_bytree=0.8, classification__gamma=0, classification__learning_rate=0.01, classification__max_depth=5, classification__n_estimators=50, classification__reg_lambda=50, classification__subsample=1.0; total time= 7.3min\n",
      "[CV] END classification__colsample_bytree=1.0, classification__gamma=0, classification__learning_rate=0.1, classification__max_depth=3, classification__n_estimators=100, classification__reg_lambda=1, classification__subsample=1.0; total time= 7.3min\n",
      "[CV] END classification__colsample_bytree=0.8, classification__gamma=1, classification__learning_rate=0.01, classification__max_depth=3, classification__n_estimators=200, classification__reg_lambda=10, classification__subsample=0.6; total time= 6.6min\n",
      "[CV] END classification__colsample_bytree=0.8, classification__gamma=1, classification__learning_rate=0.01, classification__max_depth=3, classification__n_estimators=200, classification__reg_lambda=10, classification__subsample=0.6; total time= 7.4min\n",
      "[CV] END classification__colsample_bytree=1.0, classification__gamma=5, classification__learning_rate=0.2, classification__max_depth=5, classification__n_estimators=100, classification__reg_lambda=10, classification__subsample=0.6; total time= 7.2min\n",
      "[CV] END classification__colsample_bytree=1.0, classification__gamma=1, classification__learning_rate=0.01, classification__max_depth=5, classification__n_estimators=200, classification__reg_lambda=50, classification__subsample=0.6; total time= 7.5min\n",
      "[CV] END classification__colsample_bytree=0.8, classification__gamma=5, classification__learning_rate=0.01, classification__max_depth=5, classification__n_estimators=50, classification__reg_lambda=10, classification__subsample=1.0; total time= 7.2min\n",
      "[CV] END classification__colsample_bytree=1.0, classification__gamma=5, classification__learning_rate=0.2, classification__max_depth=5, classification__n_estimators=50, classification__reg_lambda=50, classification__subsample=1.0; total time= 6.5min\n",
      "[CV] END classification__colsample_bytree=1.0, classification__gamma=5, classification__learning_rate=0.2, classification__max_depth=5, classification__n_estimators=50, classification__reg_lambda=50, classification__subsample=1.0; total time= 7.4min\n",
      "[CV] END classification__colsample_bytree=1.0, classification__gamma=1, classification__learning_rate=0.01, classification__max_depth=7, classification__n_estimators=100, classification__reg_lambda=50, classification__subsample=0.8; total time= 7.3min\n",
      "[CV] END classification__colsample_bytree=1.0, classification__gamma=0, classification__learning_rate=0.2, classification__max_depth=5, classification__n_estimators=100, classification__reg_lambda=1, classification__subsample=0.8; total time= 7.4min\n",
      "[CV] END classification__colsample_bytree=1.0, classification__gamma=0, classification__learning_rate=0.01, classification__max_depth=3, classification__n_estimators=50, classification__reg_lambda=50, classification__subsample=1.0; total time= 7.3min\n",
      "[CV] END classification__colsample_bytree=1.0, classification__gamma=1, classification__learning_rate=0.1, classification__max_depth=3, classification__n_estimators=50, classification__reg_lambda=50, classification__subsample=0.8; total time= 6.6min\n",
      "[CV] END classification__colsample_bytree=1.0, classification__gamma=1, classification__learning_rate=0.1, classification__max_depth=3, classification__n_estimators=50, classification__reg_lambda=50, classification__subsample=0.8; total time= 7.3min\n",
      "[CV] END classification__colsample_bytree=0.8, classification__gamma=1, classification__learning_rate=0.1, classification__max_depth=3, classification__n_estimators=50, classification__reg_lambda=1, classification__subsample=0.6; total time= 7.4min\n",
      "[CV] END classification__colsample_bytree=0.6, classification__gamma=0, classification__learning_rate=0.1, classification__max_depth=5, classification__n_estimators=50, classification__reg_lambda=1, classification__subsample=0.8; total time= 7.4min\n",
      "[CV] END classification__colsample_bytree=0.6, classification__gamma=0, classification__learning_rate=0.2, classification__max_depth=5, classification__n_estimators=200, classification__reg_lambda=10, classification__subsample=0.8; total time= 7.4min\n",
      "[CV] END classification__colsample_bytree=0.6, classification__gamma=1, classification__learning_rate=0.2, classification__max_depth=3, classification__n_estimators=50, classification__reg_lambda=10, classification__subsample=0.8; total time= 6.6min\n",
      "[CV] END classification__colsample_bytree=0.6, classification__gamma=1, classification__learning_rate=0.2, classification__max_depth=3, classification__n_estimators=50, classification__reg_lambda=10, classification__subsample=0.8; total time= 7.4min\n",
      "[CV] END classification__colsample_bytree=1.0, classification__gamma=0, classification__learning_rate=0.1, classification__max_depth=5, classification__n_estimators=100, classification__reg_lambda=1, classification__subsample=0.6; total time= 7.4min\n",
      "[CV] END classification__colsample_bytree=0.6, classification__gamma=0, classification__learning_rate=0.01, classification__max_depth=5, classification__n_estimators=50, classification__reg_lambda=1, classification__subsample=1.0; total time= 7.6min\n",
      "[CV] END classification__colsample_bytree=0.6, classification__gamma=1, classification__learning_rate=0.2, classification__max_depth=3, classification__n_estimators=50, classification__reg_lambda=10, classification__subsample=1.0; total time= 7.5min\n",
      "[CV] END classification__colsample_bytree=0.8, classification__gamma=5, classification__learning_rate=0.01, classification__max_depth=3, classification__n_estimators=100, classification__reg_lambda=1, classification__subsample=1.0; total time= 6.7min\n",
      "[CV] END classification__colsample_bytree=0.8, classification__gamma=5, classification__learning_rate=0.01, classification__max_depth=3, classification__n_estimators=100, classification__reg_lambda=1, classification__subsample=1.0; total time= 7.4min\n",
      "[CV] END classification__colsample_bytree=0.8, classification__gamma=5, classification__learning_rate=0.01, classification__max_depth=5, classification__n_estimators=200, classification__reg_lambda=10, classification__subsample=0.6; total time= 7.4min\n",
      "[CV] END classification__colsample_bytree=0.6, classification__gamma=1, classification__learning_rate=0.01, classification__max_depth=3, classification__n_estimators=100, classification__reg_lambda=50, classification__subsample=0.8; total time= 7.4min\n",
      "[CV] END classification__colsample_bytree=1.0, classification__gamma=1, classification__learning_rate=0.1, classification__max_depth=7, classification__n_estimators=200, classification__reg_lambda=10, classification__subsample=0.6; total time= 7.4min\n",
      "[CV] END classification__colsample_bytree=0.8, classification__gamma=0, classification__learning_rate=0.1, classification__max_depth=5, classification__n_estimators=100, classification__reg_lambda=10, classification__subsample=0.6; total time= 6.6min\n",
      "[CV] END classification__colsample_bytree=0.8, classification__gamma=0, classification__learning_rate=0.1, classification__max_depth=5, classification__n_estimators=100, classification__reg_lambda=10, classification__subsample=0.6; total time= 7.4min\n",
      "[CV] END classification__colsample_bytree=1.0, classification__gamma=1, classification__learning_rate=0.1, classification__max_depth=7, classification__n_estimators=100, classification__reg_lambda=1, classification__subsample=0.8; total time= 7.6min\n",
      "[CV] END classification__colsample_bytree=0.8, classification__gamma=5, classification__learning_rate=0.1, classification__max_depth=3, classification__n_estimators=200, classification__reg_lambda=1, classification__subsample=1.0; total time= 6.9min\n",
      "[CV] END classification__colsample_bytree=0.8, classification__gamma=5, classification__learning_rate=0.1, classification__max_depth=3, classification__n_estimators=200, classification__reg_lambda=1, classification__subsample=1.0; total time= 7.5min\n",
      "[CV] END classification__colsample_bytree=0.8, classification__gamma=0, classification__learning_rate=0.01, classification__max_depth=5, classification__n_estimators=50, classification__reg_lambda=50, classification__subsample=1.0; total time= 7.5min\n",
      "[CV] END classification__colsample_bytree=1.0, classification__gamma=0, classification__learning_rate=0.1, classification__max_depth=3, classification__n_estimators=100, classification__reg_lambda=1, classification__subsample=1.0; total time= 7.5min\n",
      "[CV] END classification__colsample_bytree=0.8, classification__gamma=1, classification__learning_rate=0.01, classification__max_depth=3, classification__n_estimators=200, classification__reg_lambda=10, classification__subsample=0.6; total time= 7.3min\n",
      "[CV] END classification__colsample_bytree=1.0, classification__gamma=5, classification__learning_rate=0.2, classification__max_depth=5, classification__n_estimators=100, classification__reg_lambda=10, classification__subsample=0.6; total time= 6.6min\n",
      "[CV] END classification__colsample_bytree=1.0, classification__gamma=5, classification__learning_rate=0.2, classification__max_depth=5, classification__n_estimators=100, classification__reg_lambda=10, classification__subsample=0.6; total time= 7.4min\n",
      "[CV] END classification__colsample_bytree=1.0, classification__gamma=1, classification__learning_rate=0.01, classification__max_depth=5, classification__n_estimators=200, classification__reg_lambda=50, classification__subsample=0.6; total time= 7.3min\n",
      "[CV] END classification__colsample_bytree=0.8, classification__gamma=5, classification__learning_rate=0.01, classification__max_depth=5, classification__n_estimators=50, classification__reg_lambda=10, classification__subsample=1.0; total time= 7.4min\n",
      "[CV] END classification__colsample_bytree=1.0, classification__gamma=5, classification__learning_rate=0.2, classification__max_depth=5, classification__n_estimators=50, classification__reg_lambda=50, classification__subsample=1.0; total time= 7.3min\n",
      "[CV] END classification__colsample_bytree=1.0, classification__gamma=1, classification__learning_rate=0.01, classification__max_depth=7, classification__n_estimators=100, classification__reg_lambda=50, classification__subsample=0.8; total time= 6.7min\n",
      "[CV] END classification__colsample_bytree=1.0, classification__gamma=1, classification__learning_rate=0.01, classification__max_depth=7, classification__n_estimators=100, classification__reg_lambda=50, classification__subsample=0.8; total time= 7.4min\n",
      "[CV] END classification__colsample_bytree=1.0, classification__gamma=0, classification__learning_rate=0.2, classification__max_depth=5, classification__n_estimators=100, classification__reg_lambda=1, classification__subsample=0.8; total time= 7.3min\n",
      "[CV] END classification__colsample_bytree=1.0, classification__gamma=0, classification__learning_rate=0.01, classification__max_depth=3, classification__n_estimators=50, classification__reg_lambda=50, classification__subsample=1.0; total time= 7.4min\n",
      "[CV] END classification__colsample_bytree=1.0, classification__gamma=1, classification__learning_rate=0.1, classification__max_depth=3, classification__n_estimators=50, classification__reg_lambda=50, classification__subsample=0.8; total time= 7.3min\n",
      "[CV] END classification__colsample_bytree=0.8, classification__gamma=1, classification__learning_rate=0.1, classification__max_depth=3, classification__n_estimators=50, classification__reg_lambda=1, classification__subsample=0.6; total time= 6.6min\n",
      "[CV] END classification__colsample_bytree=0.8, classification__gamma=1, classification__learning_rate=0.1, classification__max_depth=3, classification__n_estimators=50, classification__reg_lambda=1, classification__subsample=0.6; total time= 7.4min\n",
      "[CV] END classification__colsample_bytree=0.6, classification__gamma=0, classification__learning_rate=0.1, classification__max_depth=5, classification__n_estimators=50, classification__reg_lambda=1, classification__subsample=0.8; total time= 7.3min\n",
      "[CV] END classification__colsample_bytree=0.6, classification__gamma=0, classification__learning_rate=0.2, classification__max_depth=5, classification__n_estimators=200, classification__reg_lambda=10, classification__subsample=0.8; total time= 7.5min\n",
      "[CV] END classification__colsample_bytree=0.6, classification__gamma=1, classification__learning_rate=0.2, classification__max_depth=3, classification__n_estimators=50, classification__reg_lambda=10, classification__subsample=0.8; total time= 7.3min\n",
      "[CV] END classification__colsample_bytree=1.0, classification__gamma=0, classification__learning_rate=0.1, classification__max_depth=5, classification__n_estimators=100, classification__reg_lambda=1, classification__subsample=0.6; total time= 6.7min\n",
      "[CV] END classification__colsample_bytree=1.0, classification__gamma=0, classification__learning_rate=0.1, classification__max_depth=5, classification__n_estimators=100, classification__reg_lambda=1, classification__subsample=0.6; total time= 7.4min\n",
      "[CV] END classification__colsample_bytree=0.6, classification__gamma=0, classification__learning_rate=0.01, classification__max_depth=5, classification__n_estimators=50, classification__reg_lambda=1, classification__subsample=1.0; total time= 7.4min\n",
      "[CV] END classification__colsample_bytree=0.6, classification__gamma=1, classification__learning_rate=0.2, classification__max_depth=3, classification__n_estimators=50, classification__reg_lambda=10, classification__subsample=1.0; total time= 7.5min\n",
      "[CV] END classification__colsample_bytree=0.8, classification__gamma=5, classification__learning_rate=0.01, classification__max_depth=3, classification__n_estimators=100, classification__reg_lambda=1, classification__subsample=1.0; total time= 7.3min\n",
      "[CV] END classification__colsample_bytree=0.8, classification__gamma=5, classification__learning_rate=0.01, classification__max_depth=5, classification__n_estimators=200, classification__reg_lambda=10, classification__subsample=0.6; total time= 6.7min\n",
      "[CV] END classification__colsample_bytree=0.8, classification__gamma=5, classification__learning_rate=0.01, classification__max_depth=5, classification__n_estimators=200, classification__reg_lambda=10, classification__subsample=0.6; total time= 7.5min\n",
      "[CV] END classification__colsample_bytree=0.6, classification__gamma=1, classification__learning_rate=0.01, classification__max_depth=3, classification__n_estimators=100, classification__reg_lambda=50, classification__subsample=0.8; total time= 7.4min\n",
      "[CV] END classification__colsample_bytree=1.0, classification__gamma=1, classification__learning_rate=0.1, classification__max_depth=7, classification__n_estimators=200, classification__reg_lambda=10, classification__subsample=0.6; total time= 7.5min\n",
      "[CV] END classification__colsample_bytree=0.8, classification__gamma=0, classification__learning_rate=0.1, classification__max_depth=5, classification__n_estimators=100, classification__reg_lambda=10, classification__subsample=0.6; total time= 7.3min\n",
      "[CV] END classification__colsample_bytree=0.6, classification__gamma=0, classification__learning_rate=0.2, classification__max_depth=3, classification__n_estimators=50, classification__reg_lambda=50, classification__subsample=0.6; total time= 6.6min\n",
      "[CV] END classification__colsample_bytree=1.0, classification__gamma=1, classification__learning_rate=0.1, classification__max_depth=7, classification__n_estimators=100, classification__reg_lambda=1, classification__subsample=0.8; total time= 7.6min\n",
      "[CV] END classification__colsample_bytree=0.8, classification__gamma=5, classification__learning_rate=0.1, classification__max_depth=3, classification__n_estimators=200, classification__reg_lambda=1, classification__subsample=1.0; total time= 7.6min\n",
      "[CV] END classification__colsample_bytree=0.8, classification__gamma=0, classification__learning_rate=0.01, classification__max_depth=5, classification__n_estimators=50, classification__reg_lambda=50, classification__subsample=1.0; total time= 6.8min\n",
      "[CV] END classification__colsample_bytree=0.8, classification__gamma=0, classification__learning_rate=0.01, classification__max_depth=5, classification__n_estimators=50, classification__reg_lambda=50, classification__subsample=1.0; total time= 7.5min\n",
      "[CV] END classification__colsample_bytree=1.0, classification__gamma=0, classification__learning_rate=0.1, classification__max_depth=3, classification__n_estimators=100, classification__reg_lambda=1, classification__subsample=1.0; total time= 7.4min\n",
      "[CV] END classification__colsample_bytree=0.8, classification__gamma=1, classification__learning_rate=0.01, classification__max_depth=3, classification__n_estimators=200, classification__reg_lambda=10, classification__subsample=0.6; total time= 7.5min\n",
      "[CV] END classification__colsample_bytree=1.0, classification__gamma=5, classification__learning_rate=0.2, classification__max_depth=5, classification__n_estimators=100, classification__reg_lambda=10, classification__subsample=0.6; total time= 7.4min\n",
      "[CV] END classification__colsample_bytree=1.0, classification__gamma=1, classification__learning_rate=0.01, classification__max_depth=5, classification__n_estimators=200, classification__reg_lambda=50, classification__subsample=0.6; total time= 6.8min\n",
      "[CV] END classification__colsample_bytree=1.0, classification__gamma=1, classification__learning_rate=0.01, classification__max_depth=5, classification__n_estimators=200, classification__reg_lambda=50, classification__subsample=0.6; total time= 7.5min\n",
      "[CV] END classification__colsample_bytree=0.8, classification__gamma=5, classification__learning_rate=0.01, classification__max_depth=5, classification__n_estimators=50, classification__reg_lambda=10, classification__subsample=1.0; total time= 7.4min\n",
      "[CV] END classification__colsample_bytree=1.0, classification__gamma=5, classification__learning_rate=0.2, classification__max_depth=5, classification__n_estimators=50, classification__reg_lambda=50, classification__subsample=1.0; total time= 7.4min\n",
      "[CV] END classification__colsample_bytree=1.0, classification__gamma=1, classification__learning_rate=0.01, classification__max_depth=7, classification__n_estimators=100, classification__reg_lambda=50, classification__subsample=0.8; total time= 7.5min\n",
      "[CV] END classification__colsample_bytree=1.0, classification__gamma=0, classification__learning_rate=0.2, classification__max_depth=5, classification__n_estimators=100, classification__reg_lambda=1, classification__subsample=0.8; total time= 6.8min\n",
      "[CV] END classification__colsample_bytree=1.0, classification__gamma=0, classification__learning_rate=0.2, classification__max_depth=5, classification__n_estimators=100, classification__reg_lambda=1, classification__subsample=0.8; total time= 7.4min\n",
      "[CV] END classification__colsample_bytree=1.0, classification__gamma=0, classification__learning_rate=0.01, classification__max_depth=3, classification__n_estimators=50, classification__reg_lambda=50, classification__subsample=1.0; total time= 7.3min\n",
      "[CV] END classification__colsample_bytree=1.0, classification__gamma=1, classification__learning_rate=0.1, classification__max_depth=3, classification__n_estimators=50, classification__reg_lambda=50, classification__subsample=0.8; total time= 7.4min\n",
      "[CV] END classification__colsample_bytree=0.8, classification__gamma=1, classification__learning_rate=0.1, classification__max_depth=3, classification__n_estimators=50, classification__reg_lambda=1, classification__subsample=0.6; total time= 7.3min\n",
      "[CV] END classification__colsample_bytree=0.6, classification__gamma=0, classification__learning_rate=0.1, classification__max_depth=5, classification__n_estimators=50, classification__reg_lambda=1, classification__subsample=0.8; total time= 6.7min\n",
      "[CV] END classification__colsample_bytree=0.6, classification__gamma=0, classification__learning_rate=0.1, classification__max_depth=5, classification__n_estimators=50, classification__reg_lambda=1, classification__subsample=0.8; total time= 7.3min\n",
      "[CV] END classification__colsample_bytree=0.6, classification__gamma=0, classification__learning_rate=0.2, classification__max_depth=5, classification__n_estimators=200, classification__reg_lambda=10, classification__subsample=0.8; total time= 7.4min\n",
      "[CV] END classification__colsample_bytree=0.6, classification__gamma=1, classification__learning_rate=0.2, classification__max_depth=3, classification__n_estimators=50, classification__reg_lambda=10, classification__subsample=0.8; total time= 7.4min\n",
      "[CV] END classification__colsample_bytree=1.0, classification__gamma=0, classification__learning_rate=0.1, classification__max_depth=5, classification__n_estimators=100, classification__reg_lambda=1, classification__subsample=0.6; total time= 7.3min\n",
      "[CV] END classification__colsample_bytree=0.6, classification__gamma=0, classification__learning_rate=0.01, classification__max_depth=5, classification__n_estimators=50, classification__reg_lambda=1, classification__subsample=1.0; total time= 6.6min\n",
      "[CV] END classification__colsample_bytree=0.6, classification__gamma=0, classification__learning_rate=0.01, classification__max_depth=5, classification__n_estimators=50, classification__reg_lambda=1, classification__subsample=1.0; total time= 7.6min\n",
      "[CV] END classification__colsample_bytree=0.6, classification__gamma=1, classification__learning_rate=0.2, classification__max_depth=3, classification__n_estimators=50, classification__reg_lambda=10, classification__subsample=1.0; total time= 7.5min\n",
      "[CV] END classification__colsample_bytree=0.8, classification__gamma=5, classification__learning_rate=0.01, classification__max_depth=3, classification__n_estimators=100, classification__reg_lambda=1, classification__subsample=1.0; total time= 7.5min\n",
      "[CV] END classification__colsample_bytree=0.8, classification__gamma=5, classification__learning_rate=0.01, classification__max_depth=5, classification__n_estimators=200, classification__reg_lambda=10, classification__subsample=0.6; total time= 7.4min\n",
      "[CV] END classification__colsample_bytree=0.6, classification__gamma=1, classification__learning_rate=0.01, classification__max_depth=3, classification__n_estimators=100, classification__reg_lambda=50, classification__subsample=0.8; total time= 6.7min\n",
      "[CV] END classification__colsample_bytree=0.6, classification__gamma=1, classification__learning_rate=0.01, classification__max_depth=3, classification__n_estimators=100, classification__reg_lambda=50, classification__subsample=0.8; total time= 7.4min\n",
      "[CV] END classification__colsample_bytree=1.0, classification__gamma=1, classification__learning_rate=0.1, classification__max_depth=7, classification__n_estimators=200, classification__reg_lambda=10, classification__subsample=0.6; total time= 7.4min\n",
      "[CV] END classification__colsample_bytree=0.8, classification__gamma=0, classification__learning_rate=0.1, classification__max_depth=5, classification__n_estimators=100, classification__reg_lambda=10, classification__subsample=0.6; total time= 7.5min\n",
      "[CV] END classification__colsample_bytree=0.6, classification__gamma=0, classification__learning_rate=0.2, classification__max_depth=3, classification__n_estimators=50, classification__reg_lambda=50, classification__subsample=0.6; total time= 7.3min\n",
      "[CV] END classification__colsample_bytree=1.0, classification__gamma=1, classification__learning_rate=0.1, classification__max_depth=7, classification__n_estimators=100, classification__reg_lambda=1, classification__subsample=0.8; total time= 7.7min\n",
      "[CV] END classification__colsample_bytree=0.8, classification__gamma=5, classification__learning_rate=0.1, classification__max_depth=3, classification__n_estimators=200, classification__reg_lambda=1, classification__subsample=1.0; total time= 7.7min\n",
      "[CV] END classification__colsample_bytree=0.8, classification__gamma=0, classification__learning_rate=0.01, classification__max_depth=5, classification__n_estimators=50, classification__reg_lambda=50, classification__subsample=1.0; total time= 7.6min\n",
      "[CV] END classification__colsample_bytree=1.0, classification__gamma=0, classification__learning_rate=0.1, classification__max_depth=3, classification__n_estimators=100, classification__reg_lambda=1, classification__subsample=1.0; total time= 6.8min\n",
      "[CV] END classification__colsample_bytree=1.0, classification__gamma=0, classification__learning_rate=0.1, classification__max_depth=3, classification__n_estimators=100, classification__reg_lambda=1, classification__subsample=1.0; total time= 7.5min\n",
      "[CV] END classification__colsample_bytree=0.8, classification__gamma=1, classification__learning_rate=0.01, classification__max_depth=3, classification__n_estimators=200, classification__reg_lambda=10, classification__subsample=0.6; total time= 7.5min\n",
      "[CV] END classification__colsample_bytree=1.0, classification__gamma=5, classification__learning_rate=0.2, classification__max_depth=5, classification__n_estimators=100, classification__reg_lambda=10, classification__subsample=0.6; total time= 7.4min\n",
      "[CV] END classification__colsample_bytree=1.0, classification__gamma=1, classification__learning_rate=0.01, classification__max_depth=5, classification__n_estimators=200, classification__reg_lambda=50, classification__subsample=0.6; total time= 7.5min\n",
      "[CV] END classification__colsample_bytree=0.8, classification__gamma=5, classification__learning_rate=0.01, classification__max_depth=5, classification__n_estimators=50, classification__reg_lambda=10, classification__subsample=1.0; total time= 6.7min\n",
      "[CV] END classification__colsample_bytree=0.8, classification__gamma=5, classification__learning_rate=0.01, classification__max_depth=5, classification__n_estimators=50, classification__reg_lambda=10, classification__subsample=1.0; total time= 7.4min\n",
      "[CV] END classification__colsample_bytree=1.0, classification__gamma=5, classification__learning_rate=0.2, classification__max_depth=5, classification__n_estimators=50, classification__reg_lambda=50, classification__subsample=1.0; total time= 7.4min\n",
      "[CV] END classification__colsample_bytree=1.0, classification__gamma=1, classification__learning_rate=0.01, classification__max_depth=7, classification__n_estimators=100, classification__reg_lambda=50, classification__subsample=0.8; total time= 7.6min\n",
      "[CV] END classification__colsample_bytree=1.0, classification__gamma=0, classification__learning_rate=0.2, classification__max_depth=5, classification__n_estimators=100, classification__reg_lambda=1, classification__subsample=0.8; total time= 7.4min\n",
      "[CV] END classification__colsample_bytree=1.0, classification__gamma=0, classification__learning_rate=0.01, classification__max_depth=3, classification__n_estimators=50, classification__reg_lambda=50, classification__subsample=1.0; total time= 6.7min\n",
      "[CV] END classification__colsample_bytree=1.0, classification__gamma=0, classification__learning_rate=0.01, classification__max_depth=3, classification__n_estimators=50, classification__reg_lambda=50, classification__subsample=1.0; total time= 7.4min\n",
      "[CV] END classification__colsample_bytree=1.0, classification__gamma=1, classification__learning_rate=0.1, classification__max_depth=3, classification__n_estimators=50, classification__reg_lambda=50, classification__subsample=0.8; total time= 7.4min\n",
      "[CV] END classification__colsample_bytree=0.8, classification__gamma=1, classification__learning_rate=0.1, classification__max_depth=3, classification__n_estimators=50, classification__reg_lambda=1, classification__subsample=0.6; total time= 7.4min\n",
      "[CV] END classification__colsample_bytree=0.6, classification__gamma=0, classification__learning_rate=0.1, classification__max_depth=5, classification__n_estimators=50, classification__reg_lambda=1, classification__subsample=0.8; total time= 7.4min\n",
      "[CV] END classification__colsample_bytree=0.6, classification__gamma=0, classification__learning_rate=0.2, classification__max_depth=5, classification__n_estimators=200, classification__reg_lambda=10, classification__subsample=0.8; total time= 6.8min\n",
      "[CV] END classification__colsample_bytree=0.6, classification__gamma=0, classification__learning_rate=0.2, classification__max_depth=5, classification__n_estimators=200, classification__reg_lambda=10, classification__subsample=0.8; total time= 7.5min\n",
      "[CV] END classification__colsample_bytree=0.6, classification__gamma=1, classification__learning_rate=0.2, classification__max_depth=3, classification__n_estimators=50, classification__reg_lambda=10, classification__subsample=0.8; total time= 7.3min\n",
      "[CV] END classification__colsample_bytree=1.0, classification__gamma=0, classification__learning_rate=0.1, classification__max_depth=5, classification__n_estimators=100, classification__reg_lambda=1, classification__subsample=0.6; total time= 7.5min\n",
      "[CV] END classification__colsample_bytree=0.6, classification__gamma=0, classification__learning_rate=0.01, classification__max_depth=5, classification__n_estimators=50, classification__reg_lambda=1, classification__subsample=1.0; total time= 7.4min\n",
      "[CV] END classification__colsample_bytree=0.6, classification__gamma=1, classification__learning_rate=0.2, classification__max_depth=3, classification__n_estimators=50, classification__reg_lambda=10, classification__subsample=1.0; total time= 6.8min\n",
      "[CV] END classification__colsample_bytree=0.6, classification__gamma=1, classification__learning_rate=0.2, classification__max_depth=3, classification__n_estimators=50, classification__reg_lambda=10, classification__subsample=1.0; total time= 7.6min\n",
      "[CV] END classification__colsample_bytree=0.8, classification__gamma=5, classification__learning_rate=0.01, classification__max_depth=3, classification__n_estimators=100, classification__reg_lambda=1, classification__subsample=1.0; total time= 7.4min\n",
      "[CV] END classification__colsample_bytree=0.8, classification__gamma=5, classification__learning_rate=0.01, classification__max_depth=5, classification__n_estimators=200, classification__reg_lambda=10, classification__subsample=0.6; total time= 7.6min\n",
      "[CV] END classification__colsample_bytree=0.6, classification__gamma=1, classification__learning_rate=0.01, classification__max_depth=3, classification__n_estimators=100, classification__reg_lambda=50, classification__subsample=0.8; total time= 7.5min\n",
      "[CV] END classification__colsample_bytree=1.0, classification__gamma=1, classification__learning_rate=0.1, classification__max_depth=7, classification__n_estimators=200, classification__reg_lambda=10, classification__subsample=0.6; total time= 6.7min\n",
      "[CV] END classification__colsample_bytree=1.0, classification__gamma=1, classification__learning_rate=0.1, classification__max_depth=7, classification__n_estimators=200, classification__reg_lambda=10, classification__subsample=0.6; total time= 7.5min\n",
      "[CV] END classification__colsample_bytree=0.8, classification__gamma=0, classification__learning_rate=0.1, classification__max_depth=5, classification__n_estimators=100, classification__reg_lambda=10, classification__subsample=0.6; total time= 7.4min\n",
      "[CV] END classification__colsample_bytree=0.6, classification__gamma=0, classification__learning_rate=0.2, classification__max_depth=3, classification__n_estimators=50, classification__reg_lambda=50, classification__subsample=0.6; total time= 7.4min\n",
      "[CV] END classification__colsample_bytree=1.0, classification__gamma=5, classification__learning_rate=0.2, classification__max_depth=7, classification__n_estimators=200, classification__reg_lambda=1, classification__subsample=0.6; total time= 6.7min\n",
      "[CV] END classification__colsample_bytree=1.0, classification__gamma=5, classification__learning_rate=0.2, classification__max_depth=7, classification__n_estimators=200, classification__reg_lambda=1, classification__subsample=0.6; total time= 7.3min\n",
      "[CV] END classification__colsample_bytree=0.8, classification__gamma=5, classification__learning_rate=0.01, classification__max_depth=7, classification__n_estimators=50, classification__reg_lambda=10, classification__subsample=0.8; total time= 7.3min\n",
      "[CV] END classification__colsample_bytree=1.0, classification__gamma=5, classification__learning_rate=0.2, classification__max_depth=3, classification__n_estimators=100, classification__reg_lambda=1, classification__subsample=1.0; total time= 7.4min\n",
      "[CV] END classification__colsample_bytree=0.6, classification__gamma=1, classification__learning_rate=0.1, classification__max_depth=7, classification__n_estimators=50, classification__reg_lambda=10, classification__subsample=1.0; total time= 7.4min\n",
      "[CV] END classification__colsample_bytree=1.0, classification__gamma=5, classification__learning_rate=0.1, classification__max_depth=3, classification__n_estimators=50, classification__reg_lambda=10, classification__subsample=1.0; total time= 6.7min\n",
      "[CV] END classification__colsample_bytree=1.0, classification__gamma=5, classification__learning_rate=0.1, classification__max_depth=3, classification__n_estimators=50, classification__reg_lambda=10, classification__subsample=1.0; total time= 7.3min\n",
      "[CV] END classification__colsample_bytree=0.6, classification__gamma=1, classification__learning_rate=0.01, classification__max_depth=3, classification__n_estimators=100, classification__reg_lambda=1, classification__subsample=1.0; total time= 7.4min\n",
      "[CV] END classification__colsample_bytree=0.8, classification__gamma=5, classification__learning_rate=0.2, classification__max_depth=7, classification__n_estimators=100, classification__reg_lambda=10, classification__subsample=0.8; total time= 7.4min\n",
      "[CV] END classification__colsample_bytree=0.6, classification__gamma=5, classification__learning_rate=0.01, classification__max_depth=3, classification__n_estimators=50, classification__reg_lambda=1, classification__subsample=0.6; total time= 7.3min\n",
      "[CV] END classification__colsample_bytree=0.6, classification__gamma=0, classification__learning_rate=0.1, classification__max_depth=3, classification__n_estimators=100, classification__reg_lambda=50, classification__subsample=0.6; total time= 6.7min\n",
      "[CV] END classification__colsample_bytree=0.6, classification__gamma=0, classification__learning_rate=0.1, classification__max_depth=3, classification__n_estimators=100, classification__reg_lambda=50, classification__subsample=0.6; total time= 7.4min\n",
      "[CV] END classification__colsample_bytree=0.8, classification__gamma=5, classification__learning_rate=0.1, classification__max_depth=3, classification__n_estimators=50, classification__reg_lambda=10, classification__subsample=0.6; total time= 7.4min\n",
      "[CV] END classification__colsample_bytree=1.0, classification__gamma=0, classification__learning_rate=0.01, classification__max_depth=5, classification__n_estimators=50, classification__reg_lambda=1, classification__subsample=0.8; total time= 7.5min\n",
      "[CV] END classification__colsample_bytree=0.8, classification__gamma=5, classification__learning_rate=0.2, classification__max_depth=7, classification__n_estimators=100, classification__reg_lambda=1, classification__subsample=0.8; total time= 7.3min\n",
      "[CV] END classification__colsample_bytree=0.6, classification__gamma=1, classification__learning_rate=0.2, classification__max_depth=3, classification__n_estimators=50, classification__reg_lambda=10, classification__subsample=0.6; total time= 6.6min\n",
      "[CV] END classification__colsample_bytree=0.6, classification__gamma=1, classification__learning_rate=0.2, classification__max_depth=3, classification__n_estimators=50, classification__reg_lambda=10, classification__subsample=0.6; total time= 7.4min\n",
      "[CV] END classification__colsample_bytree=0.6, classification__gamma=0, classification__learning_rate=0.2, classification__max_depth=3, classification__n_estimators=200, classification__reg_lambda=50, classification__subsample=1.0; total time= 7.4min\n",
      "[CV] END classification__colsample_bytree=0.6, classification__gamma=5, classification__learning_rate=0.01, classification__max_depth=7, classification__n_estimators=100, classification__reg_lambda=10, classification__subsample=0.6; total time= 7.5min\n",
      "[CV] END classification__colsample_bytree=1.0, classification__gamma=1, classification__learning_rate=0.2, classification__max_depth=3, classification__n_estimators=200, classification__reg_lambda=10, classification__subsample=0.8; total time= 7.3min\n",
      "[CV] END classification__colsample_bytree=0.8, classification__gamma=5, classification__learning_rate=0.01, classification__max_depth=7, classification__n_estimators=200, classification__reg_lambda=1, classification__subsample=0.6; total time= 6.8min\n",
      "[CV] END classification__colsample_bytree=0.8, classification__gamma=5, classification__learning_rate=0.01, classification__max_depth=7, classification__n_estimators=200, classification__reg_lambda=1, classification__subsample=0.6; total time= 7.5min\n",
      "[CV] END classification__colsample_bytree=0.8, classification__gamma=0, classification__learning_rate=0.2, classification__max_depth=5, classification__n_estimators=200, classification__reg_lambda=10, classification__subsample=1.0; total time= 7.4min\n",
      "[CV] END classification__colsample_bytree=1.0, classification__gamma=1, classification__learning_rate=0.01, classification__max_depth=3, classification__n_estimators=50, classification__reg_lambda=50, classification__subsample=1.0; total time= 7.3min\n",
      "[CV] END classification__colsample_bytree=0.8, classification__gamma=5, classification__learning_rate=0.2, classification__max_depth=5, classification__n_estimators=100, classification__reg_lambda=50, classification__subsample=1.0; total time= 7.3min\n",
      "[CV] END classification__colsample_bytree=0.6, classification__gamma=1, classification__learning_rate=0.2, classification__max_depth=7, classification__n_estimators=100, classification__reg_lambda=10, classification__subsample=0.6; total time= 6.7min\n",
      "[CV] END classification__colsample_bytree=0.6, classification__gamma=1, classification__learning_rate=0.2, classification__max_depth=7, classification__n_estimators=100, classification__reg_lambda=10, classification__subsample=0.6; total time= 7.4min\n",
      "[CV] END classification__colsample_bytree=1.0, classification__gamma=0, classification__learning_rate=0.01, classification__max_depth=5, classification__n_estimators=200, classification__reg_lambda=1, classification__subsample=0.6; total time= 7.4min\n",
      "[CV] END classification__colsample_bytree=0.8, classification__gamma=0, classification__learning_rate=0.01, classification__max_depth=5, classification__n_estimators=100, classification__reg_lambda=50, classification__subsample=0.8; total time= 7.6min\n",
      "[CV] END classification__colsample_bytree=0.6, classification__gamma=0, classification__learning_rate=0.01, classification__max_depth=7, classification__n_estimators=200, classification__reg_lambda=1, classification__subsample=0.8; total time= 7.6min\n",
      "[CV] END classification__colsample_bytree=1.0, classification__gamma=5, classification__learning_rate=0.2, classification__max_depth=7, classification__n_estimators=200, classification__reg_lambda=1, classification__subsample=0.6; total time= 7.4min\n",
      "[CV] END classification__colsample_bytree=0.8, classification__gamma=5, classification__learning_rate=0.01, classification__max_depth=7, classification__n_estimators=50, classification__reg_lambda=10, classification__subsample=0.8; total time= 6.7min\n",
      "[CV] END classification__colsample_bytree=0.8, classification__gamma=5, classification__learning_rate=0.01, classification__max_depth=7, classification__n_estimators=50, classification__reg_lambda=10, classification__subsample=0.8; total time= 7.4min\n",
      "[CV] END classification__colsample_bytree=1.0, classification__gamma=5, classification__learning_rate=0.2, classification__max_depth=3, classification__n_estimators=100, classification__reg_lambda=1, classification__subsample=1.0; total time= 7.3min\n",
      "[CV] END classification__colsample_bytree=0.6, classification__gamma=1, classification__learning_rate=0.1, classification__max_depth=7, classification__n_estimators=50, classification__reg_lambda=10, classification__subsample=1.0; total time= 7.4min\n",
      "[CV] END classification__colsample_bytree=1.0, classification__gamma=5, classification__learning_rate=0.1, classification__max_depth=3, classification__n_estimators=50, classification__reg_lambda=10, classification__subsample=1.0; total time= 7.3min\n",
      "[CV] END classification__colsample_bytree=0.6, classification__gamma=1, classification__learning_rate=0.01, classification__max_depth=3, classification__n_estimators=100, classification__reg_lambda=1, classification__subsample=1.0; total time= 6.6min\n",
      "[CV] END classification__colsample_bytree=0.6, classification__gamma=1, classification__learning_rate=0.01, classification__max_depth=3, classification__n_estimators=100, classification__reg_lambda=1, classification__subsample=1.0; total time= 7.4min\n",
      "[CV] END classification__colsample_bytree=0.8, classification__gamma=5, classification__learning_rate=0.2, classification__max_depth=7, classification__n_estimators=100, classification__reg_lambda=10, classification__subsample=0.8; total time= 7.3min\n",
      "[CV] END classification__colsample_bytree=0.6, classification__gamma=5, classification__learning_rate=0.01, classification__max_depth=3, classification__n_estimators=50, classification__reg_lambda=1, classification__subsample=0.6; total time= 7.4min\n",
      "[CV] END classification__colsample_bytree=0.6, classification__gamma=0, classification__learning_rate=0.1, classification__max_depth=3, classification__n_estimators=100, classification__reg_lambda=50, classification__subsample=0.6; total time= 7.3min\n",
      "[CV] END classification__colsample_bytree=0.8, classification__gamma=5, classification__learning_rate=0.1, classification__max_depth=3, classification__n_estimators=50, classification__reg_lambda=10, classification__subsample=0.6; total time= 6.7min\n",
      "[CV] END classification__colsample_bytree=0.8, classification__gamma=5, classification__learning_rate=0.1, classification__max_depth=3, classification__n_estimators=50, classification__reg_lambda=10, classification__subsample=0.6; total time= 7.3min\n",
      "[CV] END classification__colsample_bytree=1.0, classification__gamma=0, classification__learning_rate=0.01, classification__max_depth=5, classification__n_estimators=50, classification__reg_lambda=1, classification__subsample=0.8; total time= 7.3min\n",
      "[CV] END classification__colsample_bytree=0.8, classification__gamma=5, classification__learning_rate=0.2, classification__max_depth=7, classification__n_estimators=100, classification__reg_lambda=1, classification__subsample=0.8; total time= 7.4min\n",
      "[CV] END classification__colsample_bytree=0.6, classification__gamma=1, classification__learning_rate=0.2, classification__max_depth=3, classification__n_estimators=50, classification__reg_lambda=10, classification__subsample=0.6; total time= 7.3min\n",
      "[CV] END classification__colsample_bytree=0.6, classification__gamma=0, classification__learning_rate=0.2, classification__max_depth=3, classification__n_estimators=200, classification__reg_lambda=50, classification__subsample=1.0; total time= 6.7min\n",
      "[CV] END classification__colsample_bytree=0.6, classification__gamma=0, classification__learning_rate=0.2, classification__max_depth=3, classification__n_estimators=200, classification__reg_lambda=50, classification__subsample=1.0; total time= 7.4min\n",
      "[CV] END classification__colsample_bytree=0.6, classification__gamma=5, classification__learning_rate=0.01, classification__max_depth=7, classification__n_estimators=100, classification__reg_lambda=10, classification__subsample=0.6; total time= 7.4min\n",
      "[CV] END classification__colsample_bytree=1.0, classification__gamma=1, classification__learning_rate=0.2, classification__max_depth=3, classification__n_estimators=200, classification__reg_lambda=10, classification__subsample=0.8; total time= 7.5min\n",
      "[CV] END classification__colsample_bytree=0.8, classification__gamma=5, classification__learning_rate=0.01, classification__max_depth=7, classification__n_estimators=200, classification__reg_lambda=1, classification__subsample=0.6; total time= 7.4min\n",
      "[CV] END classification__colsample_bytree=0.8, classification__gamma=0, classification__learning_rate=0.2, classification__max_depth=5, classification__n_estimators=200, classification__reg_lambda=10, classification__subsample=1.0; total time= 6.6min\n",
      "[CV] END classification__colsample_bytree=0.8, classification__gamma=0, classification__learning_rate=0.2, classification__max_depth=5, classification__n_estimators=200, classification__reg_lambda=10, classification__subsample=1.0; total time= 7.4min\n",
      "[CV] END classification__colsample_bytree=1.0, classification__gamma=1, classification__learning_rate=0.01, classification__max_depth=3, classification__n_estimators=50, classification__reg_lambda=50, classification__subsample=1.0; total time= 7.2min\n",
      "[CV] END classification__colsample_bytree=0.8, classification__gamma=5, classification__learning_rate=0.2, classification__max_depth=5, classification__n_estimators=100, classification__reg_lambda=50, classification__subsample=1.0; total time= 7.4min\n",
      "[CV] END classification__colsample_bytree=0.6, classification__gamma=1, classification__learning_rate=0.2, classification__max_depth=7, classification__n_estimators=100, classification__reg_lambda=10, classification__subsample=0.6; total time= 7.3min\n",
      "[CV] END classification__colsample_bytree=1.0, classification__gamma=0, classification__learning_rate=0.01, classification__max_depth=5, classification__n_estimators=200, classification__reg_lambda=1, classification__subsample=0.6; total time= 6.8min\n",
      "[CV] END classification__colsample_bytree=1.0, classification__gamma=0, classification__learning_rate=0.01, classification__max_depth=5, classification__n_estimators=200, classification__reg_lambda=1, classification__subsample=0.6; total time= 7.4min\n",
      "[CV] END classification__colsample_bytree=0.8, classification__gamma=0, classification__learning_rate=0.01, classification__max_depth=5, classification__n_estimators=100, classification__reg_lambda=50, classification__subsample=0.8; total time= 7.4min\n",
      "[CV] END classification__colsample_bytree=0.6, classification__gamma=0, classification__learning_rate=0.01, classification__max_depth=7, classification__n_estimators=200, classification__reg_lambda=1, classification__subsample=0.8; total time= 7.5min\n"
     ]
    },
    {
     "data": {
      "text/html": [
       "<style>#sk-container-id-5 {color: black;background-color: white;}#sk-container-id-5 pre{padding: 0;}#sk-container-id-5 div.sk-toggleable {background-color: white;}#sk-container-id-5 label.sk-toggleable__label {cursor: pointer;display: block;width: 100%;margin-bottom: 0;padding: 0.3em;box-sizing: border-box;text-align: center;}#sk-container-id-5 label.sk-toggleable__label-arrow:before {content: \"▸\";float: left;margin-right: 0.25em;color: #696969;}#sk-container-id-5 label.sk-toggleable__label-arrow:hover:before {color: black;}#sk-container-id-5 div.sk-estimator:hover label.sk-toggleable__label-arrow:before {color: black;}#sk-container-id-5 div.sk-toggleable__content {max-height: 0;max-width: 0;overflow: hidden;text-align: left;background-color: #f0f8ff;}#sk-container-id-5 div.sk-toggleable__content pre {margin: 0.2em;color: black;border-radius: 0.25em;background-color: #f0f8ff;}#sk-container-id-5 input.sk-toggleable__control:checked~div.sk-toggleable__content {max-height: 200px;max-width: 100%;overflow: auto;}#sk-container-id-5 input.sk-toggleable__control:checked~label.sk-toggleable__label-arrow:before {content: \"▾\";}#sk-container-id-5 div.sk-estimator input.sk-toggleable__control:checked~label.sk-toggleable__label {background-color: #d4ebff;}#sk-container-id-5 div.sk-label input.sk-toggleable__control:checked~label.sk-toggleable__label {background-color: #d4ebff;}#sk-container-id-5 input.sk-hidden--visually {border: 0;clip: rect(1px 1px 1px 1px);clip: rect(1px, 1px, 1px, 1px);height: 1px;margin: -1px;overflow: hidden;padding: 0;position: absolute;width: 1px;}#sk-container-id-5 div.sk-estimator {font-family: monospace;background-color: #f0f8ff;border: 1px dotted black;border-radius: 0.25em;box-sizing: border-box;margin-bottom: 0.5em;}#sk-container-id-5 div.sk-estimator:hover {background-color: #d4ebff;}#sk-container-id-5 div.sk-parallel-item::after {content: \"\";width: 100%;border-bottom: 1px solid gray;flex-grow: 1;}#sk-container-id-5 div.sk-label:hover label.sk-toggleable__label {background-color: #d4ebff;}#sk-container-id-5 div.sk-serial::before {content: \"\";position: absolute;border-left: 1px solid gray;box-sizing: border-box;top: 0;bottom: 0;left: 50%;z-index: 0;}#sk-container-id-5 div.sk-serial {display: flex;flex-direction: column;align-items: center;background-color: white;padding-right: 0.2em;padding-left: 0.2em;position: relative;}#sk-container-id-5 div.sk-item {position: relative;z-index: 1;}#sk-container-id-5 div.sk-parallel {display: flex;align-items: stretch;justify-content: center;background-color: white;position: relative;}#sk-container-id-5 div.sk-item::before, #sk-container-id-5 div.sk-parallel-item::before {content: \"\";position: absolute;border-left: 1px solid gray;box-sizing: border-box;top: 0;bottom: 0;left: 50%;z-index: -1;}#sk-container-id-5 div.sk-parallel-item {display: flex;flex-direction: column;z-index: 1;position: relative;background-color: white;}#sk-container-id-5 div.sk-parallel-item:first-child::after {align-self: flex-end;width: 50%;}#sk-container-id-5 div.sk-parallel-item:last-child::after {align-self: flex-start;width: 50%;}#sk-container-id-5 div.sk-parallel-item:only-child::after {width: 0;}#sk-container-id-5 div.sk-dashed-wrapped {border: 1px dashed gray;margin: 0 0.4em 0.5em 0.4em;box-sizing: border-box;padding-bottom: 0.4em;background-color: white;}#sk-container-id-5 div.sk-label label {font-family: monospace;font-weight: bold;display: inline-block;line-height: 1.2em;}#sk-container-id-5 div.sk-label-container {text-align: center;}#sk-container-id-5 div.sk-container {/* jupyter's `normalize.less` sets `[hidden] { display: none; }` but bootstrap.min.css set `[hidden] { display: none !important; }` so we also need the `!important` here to be able to override the default hidden behavior on the sphinx rendered scikit-learn.org. See: https://github.com/scikit-learn/scikit-learn/issues/21755 */display: inline-block !important;position: relative;}#sk-container-id-5 div.sk-text-repr-fallback {display: none;}</style><div id=\"sk-container-id-5\" class=\"sk-top-container\"><div class=\"sk-text-repr-fallback\"><pre>RandomizedSearchCV(cv=5,\n",
       "                   estimator=Pipeline(steps=[(&#x27;feature_selection&#x27;,\n",
       "                                              RFE(estimator=XGBClassifier(base_score=None,\n",
       "                                                                          booster=None,\n",
       "                                                                          callbacks=None,\n",
       "                                                                          colsample_bylevel=None,\n",
       "                                                                          colsample_bynode=None,\n",
       "                                                                          colsample_bytree=None,\n",
       "                                                                          device=None,\n",
       "                                                                          early_stopping_rounds=None,\n",
       "                                                                          enable_categorical=False,\n",
       "                                                                          eval_metric=None,\n",
       "                                                                          feature_types=None,\n",
       "                                                                          gamma=None,\n",
       "                                                                          grow_policy=None,\n",
       "                                                                          importance_t...\n",
       "                   param_distributions={&#x27;classification__colsample_bytree&#x27;: [0.6,\n",
       "                                                                             0.8,\n",
       "                                                                             1.0],\n",
       "                                        &#x27;classification__gamma&#x27;: [0, 1, 5],\n",
       "                                        &#x27;classification__learning_rate&#x27;: [0.01,\n",
       "                                                                          0.1,\n",
       "                                                                          0.2],\n",
       "                                        &#x27;classification__max_depth&#x27;: [3, 5, 7],\n",
       "                                        &#x27;classification__n_estimators&#x27;: [50,\n",
       "                                                                         100,\n",
       "                                                                         200],\n",
       "                                        &#x27;classification__reg_lambda&#x27;: [1, 10,\n",
       "                                                                       50],\n",
       "                                        &#x27;classification__subsample&#x27;: [0.6, 0.8,\n",
       "                                                                      1.0]},\n",
       "                   random_state=42, scoring=&#x27;f1&#x27;, verbose=2)</pre><b>In a Jupyter environment, please rerun this cell to show the HTML representation or trust the notebook. <br />On GitHub, the HTML representation is unable to render, please try loading this page with nbviewer.org.</b></div><div class=\"sk-container\" hidden><div class=\"sk-item sk-dashed-wrapped\"><div class=\"sk-label-container\"><div class=\"sk-label sk-toggleable\"><input class=\"sk-toggleable__control sk-hidden--visually\" id=\"sk-estimator-id-12\" type=\"checkbox\" ><label for=\"sk-estimator-id-12\" class=\"sk-toggleable__label sk-toggleable__label-arrow\">RandomizedSearchCV</label><div class=\"sk-toggleable__content\"><pre>RandomizedSearchCV(cv=5,\n",
       "                   estimator=Pipeline(steps=[(&#x27;feature_selection&#x27;,\n",
       "                                              RFE(estimator=XGBClassifier(base_score=None,\n",
       "                                                                          booster=None,\n",
       "                                                                          callbacks=None,\n",
       "                                                                          colsample_bylevel=None,\n",
       "                                                                          colsample_bynode=None,\n",
       "                                                                          colsample_bytree=None,\n",
       "                                                                          device=None,\n",
       "                                                                          early_stopping_rounds=None,\n",
       "                                                                          enable_categorical=False,\n",
       "                                                                          eval_metric=None,\n",
       "                                                                          feature_types=None,\n",
       "                                                                          gamma=None,\n",
       "                                                                          grow_policy=None,\n",
       "                                                                          importance_t...\n",
       "                   param_distributions={&#x27;classification__colsample_bytree&#x27;: [0.6,\n",
       "                                                                             0.8,\n",
       "                                                                             1.0],\n",
       "                                        &#x27;classification__gamma&#x27;: [0, 1, 5],\n",
       "                                        &#x27;classification__learning_rate&#x27;: [0.01,\n",
       "                                                                          0.1,\n",
       "                                                                          0.2],\n",
       "                                        &#x27;classification__max_depth&#x27;: [3, 5, 7],\n",
       "                                        &#x27;classification__n_estimators&#x27;: [50,\n",
       "                                                                         100,\n",
       "                                                                         200],\n",
       "                                        &#x27;classification__reg_lambda&#x27;: [1, 10,\n",
       "                                                                       50],\n",
       "                                        &#x27;classification__subsample&#x27;: [0.6, 0.8,\n",
       "                                                                      1.0]},\n",
       "                   random_state=42, scoring=&#x27;f1&#x27;, verbose=2)</pre></div></div></div><div class=\"sk-parallel\"><div class=\"sk-parallel-item\"><div class=\"sk-item\"><div class=\"sk-label-container\"><div class=\"sk-label sk-toggleable\"><input class=\"sk-toggleable__control sk-hidden--visually\" id=\"sk-estimator-id-13\" type=\"checkbox\" ><label for=\"sk-estimator-id-13\" class=\"sk-toggleable__label sk-toggleable__label-arrow\">estimator: Pipeline</label><div class=\"sk-toggleable__content\"><pre>Pipeline(steps=[(&#x27;feature_selection&#x27;,\n",
       "                 RFE(estimator=XGBClassifier(base_score=None, booster=None,\n",
       "                                             callbacks=None,\n",
       "                                             colsample_bylevel=None,\n",
       "                                             colsample_bynode=None,\n",
       "                                             colsample_bytree=None, device=None,\n",
       "                                             early_stopping_rounds=None,\n",
       "                                             enable_categorical=False,\n",
       "                                             eval_metric=None,\n",
       "                                             feature_types=None, gamma=None,\n",
       "                                             grow_policy=None,\n",
       "                                             importance_type=None,\n",
       "                                             interaction_constraints=N...\n",
       "                               feature_types=None, gamma=None, grow_policy=None,\n",
       "                               importance_type=None,\n",
       "                               interaction_constraints=None, learning_rate=None,\n",
       "                               max_bin=None, max_cat_threshold=None,\n",
       "                               max_cat_to_onehot=None, max_delta_step=None,\n",
       "                               max_depth=None, max_leaves=None,\n",
       "                               min_child_weight=None, missing=nan,\n",
       "                               monotone_constraints=None, multi_strategy=None,\n",
       "                               n_estimators=None, n_jobs=None,\n",
       "                               num_parallel_tree=None, random_state=42, ...))])</pre></div></div></div><div class=\"sk-serial\"><div class=\"sk-item\"><div class=\"sk-serial\"><div class=\"sk-item sk-dashed-wrapped\"><div class=\"sk-label-container\"><div class=\"sk-label sk-toggleable\"><input class=\"sk-toggleable__control sk-hidden--visually\" id=\"sk-estimator-id-14\" type=\"checkbox\" ><label for=\"sk-estimator-id-14\" class=\"sk-toggleable__label sk-toggleable__label-arrow\">feature_selection: RFE</label><div class=\"sk-toggleable__content\"><pre>RFE(estimator=XGBClassifier(base_score=None, booster=None, callbacks=None,\n",
       "                            colsample_bylevel=None, colsample_bynode=None,\n",
       "                            colsample_bytree=None, device=None,\n",
       "                            early_stopping_rounds=None,\n",
       "                            enable_categorical=False, eval_metric=None,\n",
       "                            feature_types=None, gamma=None, grow_policy=None,\n",
       "                            importance_type=None, interaction_constraints=None,\n",
       "                            learning_rate=None, max_bin=None,\n",
       "                            max_cat_threshold=None, max_cat_to_onehot=None,\n",
       "                            max_delta_step=None, max_depth=None,\n",
       "                            max_leaves=None, min_child_weight=None, missing=nan,\n",
       "                            monotone_constraints=None, multi_strategy=None,\n",
       "                            n_estimators=None, n_jobs=None,\n",
       "                            num_parallel_tree=None, random_state=42, ...),\n",
       "    n_features_to_select=40)</pre></div></div></div><div class=\"sk-parallel\"><div class=\"sk-parallel-item\"><div class=\"sk-item\"><div class=\"sk-label-container\"><div class=\"sk-label sk-toggleable\"><input class=\"sk-toggleable__control sk-hidden--visually\" id=\"sk-estimator-id-15\" type=\"checkbox\" ><label for=\"sk-estimator-id-15\" class=\"sk-toggleable__label sk-toggleable__label-arrow\">estimator: XGBClassifier</label><div class=\"sk-toggleable__content\"><pre>XGBClassifier(base_score=None, booster=None, callbacks=None,\n",
       "              colsample_bylevel=None, colsample_bynode=None,\n",
       "              colsample_bytree=None, device=None, early_stopping_rounds=None,\n",
       "              enable_categorical=False, eval_metric=None, feature_types=None,\n",
       "              gamma=None, grow_policy=None, importance_type=None,\n",
       "              interaction_constraints=None, learning_rate=None, max_bin=None,\n",
       "              max_cat_threshold=None, max_cat_to_onehot=None,\n",
       "              max_delta_step=None, max_depth=None, max_leaves=None,\n",
       "              min_child_weight=None, missing=nan, monotone_constraints=None,\n",
       "              multi_strategy=None, n_estimators=None, n_jobs=None,\n",
       "              num_parallel_tree=None, random_state=42, ...)</pre></div></div></div><div class=\"sk-serial\"><div class=\"sk-item\"><div class=\"sk-estimator sk-toggleable\"><input class=\"sk-toggleable__control sk-hidden--visually\" id=\"sk-estimator-id-16\" type=\"checkbox\" ><label for=\"sk-estimator-id-16\" class=\"sk-toggleable__label sk-toggleable__label-arrow\">XGBClassifier</label><div class=\"sk-toggleable__content\"><pre>XGBClassifier(base_score=None, booster=None, callbacks=None,\n",
       "              colsample_bylevel=None, colsample_bynode=None,\n",
       "              colsample_bytree=None, device=None, early_stopping_rounds=None,\n",
       "              enable_categorical=False, eval_metric=None, feature_types=None,\n",
       "              gamma=None, grow_policy=None, importance_type=None,\n",
       "              interaction_constraints=None, learning_rate=None, max_bin=None,\n",
       "              max_cat_threshold=None, max_cat_to_onehot=None,\n",
       "              max_delta_step=None, max_depth=None, max_leaves=None,\n",
       "              min_child_weight=None, missing=nan, monotone_constraints=None,\n",
       "              multi_strategy=None, n_estimators=None, n_jobs=None,\n",
       "              num_parallel_tree=None, random_state=42, ...)</pre></div></div></div></div></div></div></div></div><div class=\"sk-item\"><div class=\"sk-estimator sk-toggleable\"><input class=\"sk-toggleable__control sk-hidden--visually\" id=\"sk-estimator-id-17\" type=\"checkbox\" ><label for=\"sk-estimator-id-17\" class=\"sk-toggleable__label sk-toggleable__label-arrow\">XGBClassifier</label><div class=\"sk-toggleable__content\"><pre>XGBClassifier(base_score=None, booster=None, callbacks=None,\n",
       "              colsample_bylevel=None, colsample_bynode=None,\n",
       "              colsample_bytree=None, device=None, early_stopping_rounds=None,\n",
       "              enable_categorical=False, eval_metric=None, feature_types=None,\n",
       "              gamma=None, grow_policy=None, importance_type=None,\n",
       "              interaction_constraints=None, learning_rate=None, max_bin=None,\n",
       "              max_cat_threshold=None, max_cat_to_onehot=None,\n",
       "              max_delta_step=None, max_depth=None, max_leaves=None,\n",
       "              min_child_weight=None, missing=nan, monotone_constraints=None,\n",
       "              multi_strategy=None, n_estimators=None, n_jobs=None,\n",
       "              num_parallel_tree=None, random_state=42, ...)</pre></div></div></div></div></div></div></div></div></div></div></div></div>"
      ],
      "text/plain": [
       "RandomizedSearchCV(cv=5,\n",
       "                   estimator=Pipeline(steps=[('feature_selection',\n",
       "                                              RFE(estimator=XGBClassifier(base_score=None,\n",
       "                                                                          booster=None,\n",
       "                                                                          callbacks=None,\n",
       "                                                                          colsample_bylevel=None,\n",
       "                                                                          colsample_bynode=None,\n",
       "                                                                          colsample_bytree=None,\n",
       "                                                                          device=None,\n",
       "                                                                          early_stopping_rounds=None,\n",
       "                                                                          enable_categorical=False,\n",
       "                                                                          eval_metric=None,\n",
       "                                                                          feature_types=None,\n",
       "                                                                          gamma=None,\n",
       "                                                                          grow_policy=None,\n",
       "                                                                          importance_t...\n",
       "                   param_distributions={'classification__colsample_bytree': [0.6,\n",
       "                                                                             0.8,\n",
       "                                                                             1.0],\n",
       "                                        'classification__gamma': [0, 1, 5],\n",
       "                                        'classification__learning_rate': [0.01,\n",
       "                                                                          0.1,\n",
       "                                                                          0.2],\n",
       "                                        'classification__max_depth': [3, 5, 7],\n",
       "                                        'classification__n_estimators': [50,\n",
       "                                                                         100,\n",
       "                                                                         200],\n",
       "                                        'classification__reg_lambda': [1, 10,\n",
       "                                                                       50],\n",
       "                                        'classification__subsample': [0.6, 0.8,\n",
       "                                                                      1.0]},\n",
       "                   random_state=42, scoring='f1', verbose=2)"
      ]
     },
     "execution_count": 56,
     "metadata": {},
     "output_type": "execute_result"
    }
   ],
   "source": [
    "random_search.fit(X_train_resampled, y_train_resampled)"
   ]
  },
  {
   "cell_type": "code",
   "execution_count": 57,
   "id": "03b5b1ab",
   "metadata": {
    "execution": {
     "iopub.execute_input": "2024-12-07T21:28:12.391230Z",
     "iopub.status.busy": "2024-12-07T21:28:12.390517Z",
     "iopub.status.idle": "2024-12-07T21:28:12.428760Z",
     "shell.execute_reply": "2024-12-07T21:28:12.427756Z"
    },
    "papermill": {
     "duration": 0.066129,
     "end_time": "2024-12-07T21:28:12.430665",
     "exception": false,
     "start_time": "2024-12-07T21:28:12.364536",
     "status": "completed"
    },
    "tags": []
   },
   "outputs": [
    {
     "data": {
      "text/html": [
       "<style>#sk-container-id-6 {color: black;background-color: white;}#sk-container-id-6 pre{padding: 0;}#sk-container-id-6 div.sk-toggleable {background-color: white;}#sk-container-id-6 label.sk-toggleable__label {cursor: pointer;display: block;width: 100%;margin-bottom: 0;padding: 0.3em;box-sizing: border-box;text-align: center;}#sk-container-id-6 label.sk-toggleable__label-arrow:before {content: \"▸\";float: left;margin-right: 0.25em;color: #696969;}#sk-container-id-6 label.sk-toggleable__label-arrow:hover:before {color: black;}#sk-container-id-6 div.sk-estimator:hover label.sk-toggleable__label-arrow:before {color: black;}#sk-container-id-6 div.sk-toggleable__content {max-height: 0;max-width: 0;overflow: hidden;text-align: left;background-color: #f0f8ff;}#sk-container-id-6 div.sk-toggleable__content pre {margin: 0.2em;color: black;border-radius: 0.25em;background-color: #f0f8ff;}#sk-container-id-6 input.sk-toggleable__control:checked~div.sk-toggleable__content {max-height: 200px;max-width: 100%;overflow: auto;}#sk-container-id-6 input.sk-toggleable__control:checked~label.sk-toggleable__label-arrow:before {content: \"▾\";}#sk-container-id-6 div.sk-estimator input.sk-toggleable__control:checked~label.sk-toggleable__label {background-color: #d4ebff;}#sk-container-id-6 div.sk-label input.sk-toggleable__control:checked~label.sk-toggleable__label {background-color: #d4ebff;}#sk-container-id-6 input.sk-hidden--visually {border: 0;clip: rect(1px 1px 1px 1px);clip: rect(1px, 1px, 1px, 1px);height: 1px;margin: -1px;overflow: hidden;padding: 0;position: absolute;width: 1px;}#sk-container-id-6 div.sk-estimator {font-family: monospace;background-color: #f0f8ff;border: 1px dotted black;border-radius: 0.25em;box-sizing: border-box;margin-bottom: 0.5em;}#sk-container-id-6 div.sk-estimator:hover {background-color: #d4ebff;}#sk-container-id-6 div.sk-parallel-item::after {content: \"\";width: 100%;border-bottom: 1px solid gray;flex-grow: 1;}#sk-container-id-6 div.sk-label:hover label.sk-toggleable__label {background-color: #d4ebff;}#sk-container-id-6 div.sk-serial::before {content: \"\";position: absolute;border-left: 1px solid gray;box-sizing: border-box;top: 0;bottom: 0;left: 50%;z-index: 0;}#sk-container-id-6 div.sk-serial {display: flex;flex-direction: column;align-items: center;background-color: white;padding-right: 0.2em;padding-left: 0.2em;position: relative;}#sk-container-id-6 div.sk-item {position: relative;z-index: 1;}#sk-container-id-6 div.sk-parallel {display: flex;align-items: stretch;justify-content: center;background-color: white;position: relative;}#sk-container-id-6 div.sk-item::before, #sk-container-id-6 div.sk-parallel-item::before {content: \"\";position: absolute;border-left: 1px solid gray;box-sizing: border-box;top: 0;bottom: 0;left: 50%;z-index: -1;}#sk-container-id-6 div.sk-parallel-item {display: flex;flex-direction: column;z-index: 1;position: relative;background-color: white;}#sk-container-id-6 div.sk-parallel-item:first-child::after {align-self: flex-end;width: 50%;}#sk-container-id-6 div.sk-parallel-item:last-child::after {align-self: flex-start;width: 50%;}#sk-container-id-6 div.sk-parallel-item:only-child::after {width: 0;}#sk-container-id-6 div.sk-dashed-wrapped {border: 1px dashed gray;margin: 0 0.4em 0.5em 0.4em;box-sizing: border-box;padding-bottom: 0.4em;background-color: white;}#sk-container-id-6 div.sk-label label {font-family: monospace;font-weight: bold;display: inline-block;line-height: 1.2em;}#sk-container-id-6 div.sk-label-container {text-align: center;}#sk-container-id-6 div.sk-container {/* jupyter's `normalize.less` sets `[hidden] { display: none; }` but bootstrap.min.css set `[hidden] { display: none !important; }` so we also need the `!important` here to be able to override the default hidden behavior on the sphinx rendered scikit-learn.org. See: https://github.com/scikit-learn/scikit-learn/issues/21755 */display: inline-block !important;position: relative;}#sk-container-id-6 div.sk-text-repr-fallback {display: none;}</style><div id=\"sk-container-id-6\" class=\"sk-top-container\"><div class=\"sk-text-repr-fallback\"><pre>Pipeline(steps=[(&#x27;feature_selection&#x27;,\n",
       "                 RFE(estimator=XGBClassifier(base_score=None, booster=None,\n",
       "                                             callbacks=None,\n",
       "                                             colsample_bylevel=None,\n",
       "                                             colsample_bynode=None,\n",
       "                                             colsample_bytree=None, device=None,\n",
       "                                             early_stopping_rounds=None,\n",
       "                                             enable_categorical=False,\n",
       "                                             eval_metric=None,\n",
       "                                             feature_types=None, gamma=None,\n",
       "                                             grow_policy=None,\n",
       "                                             importance_type=None,\n",
       "                                             interaction_constraints=N...\n",
       "                               feature_types=None, gamma=1, grow_policy=None,\n",
       "                               importance_type=None,\n",
       "                               interaction_constraints=None, learning_rate=0.1,\n",
       "                               max_bin=None, max_cat_threshold=None,\n",
       "                               max_cat_to_onehot=None, max_delta_step=None,\n",
       "                               max_depth=7, max_leaves=None,\n",
       "                               min_child_weight=None, missing=nan,\n",
       "                               monotone_constraints=None, multi_strategy=None,\n",
       "                               n_estimators=50, n_jobs=None,\n",
       "                               num_parallel_tree=None, random_state=42, ...))])</pre><b>In a Jupyter environment, please rerun this cell to show the HTML representation or trust the notebook. <br />On GitHub, the HTML representation is unable to render, please try loading this page with nbviewer.org.</b></div><div class=\"sk-container\" hidden><div class=\"sk-item sk-dashed-wrapped\"><div class=\"sk-label-container\"><div class=\"sk-label sk-toggleable\"><input class=\"sk-toggleable__control sk-hidden--visually\" id=\"sk-estimator-id-18\" type=\"checkbox\" ><label for=\"sk-estimator-id-18\" class=\"sk-toggleable__label sk-toggleable__label-arrow\">Pipeline</label><div class=\"sk-toggleable__content\"><pre>Pipeline(steps=[(&#x27;feature_selection&#x27;,\n",
       "                 RFE(estimator=XGBClassifier(base_score=None, booster=None,\n",
       "                                             callbacks=None,\n",
       "                                             colsample_bylevel=None,\n",
       "                                             colsample_bynode=None,\n",
       "                                             colsample_bytree=None, device=None,\n",
       "                                             early_stopping_rounds=None,\n",
       "                                             enable_categorical=False,\n",
       "                                             eval_metric=None,\n",
       "                                             feature_types=None, gamma=None,\n",
       "                                             grow_policy=None,\n",
       "                                             importance_type=None,\n",
       "                                             interaction_constraints=N...\n",
       "                               feature_types=None, gamma=1, grow_policy=None,\n",
       "                               importance_type=None,\n",
       "                               interaction_constraints=None, learning_rate=0.1,\n",
       "                               max_bin=None, max_cat_threshold=None,\n",
       "                               max_cat_to_onehot=None, max_delta_step=None,\n",
       "                               max_depth=7, max_leaves=None,\n",
       "                               min_child_weight=None, missing=nan,\n",
       "                               monotone_constraints=None, multi_strategy=None,\n",
       "                               n_estimators=50, n_jobs=None,\n",
       "                               num_parallel_tree=None, random_state=42, ...))])</pre></div></div></div><div class=\"sk-serial\"><div class=\"sk-item sk-dashed-wrapped\"><div class=\"sk-label-container\"><div class=\"sk-label sk-toggleable\"><input class=\"sk-toggleable__control sk-hidden--visually\" id=\"sk-estimator-id-19\" type=\"checkbox\" ><label for=\"sk-estimator-id-19\" class=\"sk-toggleable__label sk-toggleable__label-arrow\">feature_selection: RFE</label><div class=\"sk-toggleable__content\"><pre>RFE(estimator=XGBClassifier(base_score=None, booster=None, callbacks=None,\n",
       "                            colsample_bylevel=None, colsample_bynode=None,\n",
       "                            colsample_bytree=None, device=None,\n",
       "                            early_stopping_rounds=None,\n",
       "                            enable_categorical=False, eval_metric=None,\n",
       "                            feature_types=None, gamma=None, grow_policy=None,\n",
       "                            importance_type=None, interaction_constraints=None,\n",
       "                            learning_rate=None, max_bin=None,\n",
       "                            max_cat_threshold=None, max_cat_to_onehot=None,\n",
       "                            max_delta_step=None, max_depth=None,\n",
       "                            max_leaves=None, min_child_weight=None, missing=nan,\n",
       "                            monotone_constraints=None, multi_strategy=None,\n",
       "                            n_estimators=None, n_jobs=None,\n",
       "                            num_parallel_tree=None, random_state=42, ...),\n",
       "    n_features_to_select=40)</pre></div></div></div><div class=\"sk-parallel\"><div class=\"sk-parallel-item\"><div class=\"sk-item\"><div class=\"sk-label-container\"><div class=\"sk-label sk-toggleable\"><input class=\"sk-toggleable__control sk-hidden--visually\" id=\"sk-estimator-id-20\" type=\"checkbox\" ><label for=\"sk-estimator-id-20\" class=\"sk-toggleable__label sk-toggleable__label-arrow\">estimator: XGBClassifier</label><div class=\"sk-toggleable__content\"><pre>XGBClassifier(base_score=None, booster=None, callbacks=None,\n",
       "              colsample_bylevel=None, colsample_bynode=None,\n",
       "              colsample_bytree=None, device=None, early_stopping_rounds=None,\n",
       "              enable_categorical=False, eval_metric=None, feature_types=None,\n",
       "              gamma=None, grow_policy=None, importance_type=None,\n",
       "              interaction_constraints=None, learning_rate=None, max_bin=None,\n",
       "              max_cat_threshold=None, max_cat_to_onehot=None,\n",
       "              max_delta_step=None, max_depth=None, max_leaves=None,\n",
       "              min_child_weight=None, missing=nan, monotone_constraints=None,\n",
       "              multi_strategy=None, n_estimators=None, n_jobs=None,\n",
       "              num_parallel_tree=None, random_state=42, ...)</pre></div></div></div><div class=\"sk-serial\"><div class=\"sk-item\"><div class=\"sk-estimator sk-toggleable\"><input class=\"sk-toggleable__control sk-hidden--visually\" id=\"sk-estimator-id-21\" type=\"checkbox\" ><label for=\"sk-estimator-id-21\" class=\"sk-toggleable__label sk-toggleable__label-arrow\">XGBClassifier</label><div class=\"sk-toggleable__content\"><pre>XGBClassifier(base_score=None, booster=None, callbacks=None,\n",
       "              colsample_bylevel=None, colsample_bynode=None,\n",
       "              colsample_bytree=None, device=None, early_stopping_rounds=None,\n",
       "              enable_categorical=False, eval_metric=None, feature_types=None,\n",
       "              gamma=None, grow_policy=None, importance_type=None,\n",
       "              interaction_constraints=None, learning_rate=None, max_bin=None,\n",
       "              max_cat_threshold=None, max_cat_to_onehot=None,\n",
       "              max_delta_step=None, max_depth=None, max_leaves=None,\n",
       "              min_child_weight=None, missing=nan, monotone_constraints=None,\n",
       "              multi_strategy=None, n_estimators=None, n_jobs=None,\n",
       "              num_parallel_tree=None, random_state=42, ...)</pre></div></div></div></div></div></div></div></div><div class=\"sk-item\"><div class=\"sk-estimator sk-toggleable\"><input class=\"sk-toggleable__control sk-hidden--visually\" id=\"sk-estimator-id-22\" type=\"checkbox\" ><label for=\"sk-estimator-id-22\" class=\"sk-toggleable__label sk-toggleable__label-arrow\">XGBClassifier</label><div class=\"sk-toggleable__content\"><pre>XGBClassifier(base_score=None, booster=None, callbacks=None,\n",
       "              colsample_bylevel=None, colsample_bynode=None,\n",
       "              colsample_bytree=0.6, device=None, early_stopping_rounds=None,\n",
       "              enable_categorical=False, eval_metric=None, feature_types=None,\n",
       "              gamma=1, grow_policy=None, importance_type=None,\n",
       "              interaction_constraints=None, learning_rate=0.1, max_bin=None,\n",
       "              max_cat_threshold=None, max_cat_to_onehot=None,\n",
       "              max_delta_step=None, max_depth=7, max_leaves=None,\n",
       "              min_child_weight=None, missing=nan, monotone_constraints=None,\n",
       "              multi_strategy=None, n_estimators=50, n_jobs=None,\n",
       "              num_parallel_tree=None, random_state=42, ...)</pre></div></div></div></div></div></div></div>"
      ],
      "text/plain": [
       "Pipeline(steps=[('feature_selection',\n",
       "                 RFE(estimator=XGBClassifier(base_score=None, booster=None,\n",
       "                                             callbacks=None,\n",
       "                                             colsample_bylevel=None,\n",
       "                                             colsample_bynode=None,\n",
       "                                             colsample_bytree=None, device=None,\n",
       "                                             early_stopping_rounds=None,\n",
       "                                             enable_categorical=False,\n",
       "                                             eval_metric=None,\n",
       "                                             feature_types=None, gamma=None,\n",
       "                                             grow_policy=None,\n",
       "                                             importance_type=None,\n",
       "                                             interaction_constraints=N...\n",
       "                               feature_types=None, gamma=1, grow_policy=None,\n",
       "                               importance_type=None,\n",
       "                               interaction_constraints=None, learning_rate=0.1,\n",
       "                               max_bin=None, max_cat_threshold=None,\n",
       "                               max_cat_to_onehot=None, max_delta_step=None,\n",
       "                               max_depth=7, max_leaves=None,\n",
       "                               min_child_weight=None, missing=nan,\n",
       "                               monotone_constraints=None, multi_strategy=None,\n",
       "                               n_estimators=50, n_jobs=None,\n",
       "                               num_parallel_tree=None, random_state=42, ...))])"
      ]
     },
     "execution_count": 57,
     "metadata": {},
     "output_type": "execute_result"
    }
   ],
   "source": [
    "Tuned_XGB_Model=random_search.best_estimator_\n",
    "Tuned_XGB_Model"
   ]
  },
  {
   "cell_type": "code",
   "execution_count": 58,
   "id": "d6749077",
   "metadata": {
    "execution": {
     "iopub.execute_input": "2024-12-07T21:28:12.479483Z",
     "iopub.status.busy": "2024-12-07T21:28:12.478833Z",
     "iopub.status.idle": "2024-12-07T21:28:12.541095Z",
     "shell.execute_reply": "2024-12-07T21:28:12.540084Z"
    },
    "papermill": {
     "duration": 0.089126,
     "end_time": "2024-12-07T21:28:12.543055",
     "exception": false,
     "start_time": "2024-12-07T21:28:12.453929",
     "status": "completed"
    },
    "tags": []
   },
   "outputs": [
    {
     "name": "stdout",
     "output_type": "stream",
     "text": [
      "              precision    recall  f1-score   support\n",
      "\n",
      "         0.0       0.97      0.83      0.89      6365\n",
      "         1.0       0.41      0.83      0.55       937\n",
      "\n",
      "    accuracy                           0.83      7302\n",
      "   macro avg       0.69      0.83      0.72      7302\n",
      "weighted avg       0.90      0.83      0.85      7302\n",
      "\n",
      "0.8278553820870994\n"
     ]
    }
   ],
   "source": [
    "# to check claasification report\n",
    "y_pred = Tuned_XGB_Model.predict(X_test)\n",
    "report = classification_report(Y_test, y_pred)\n",
    "print(report)\n",
    "print(accuracy_score(Y_test, y_pred))"
   ]
  },
  {
   "cell_type": "markdown",
   "id": "647d0e7b",
   "metadata": {
    "papermill": {
     "duration": 0.022066,
     "end_time": "2024-12-07T21:28:12.587627",
     "exception": false,
     "start_time": "2024-12-07T21:28:12.565561",
     "status": "completed"
    },
    "tags": []
   },
   "source": [
    "# Preparing test dataset"
   ]
  },
  {
   "cell_type": "code",
   "execution_count": 59,
   "id": "f3f79802",
   "metadata": {
    "execution": {
     "iopub.execute_input": "2024-12-07T21:28:12.634176Z",
     "iopub.status.busy": "2024-12-07T21:28:12.633791Z",
     "iopub.status.idle": "2024-12-07T21:28:12.686543Z",
     "shell.execute_reply": "2024-12-07T21:28:12.685517Z"
    },
    "papermill": {
     "duration": 0.078998,
     "end_time": "2024-12-07T21:28:12.688988",
     "exception": false,
     "start_time": "2024-12-07T21:28:12.609990",
     "status": "completed"
    },
    "tags": []
   },
   "outputs": [],
   "source": [
    "test_data=pd.read_csv(\"/kaggle/input/predict-the-success-of-bank-telemarketing/test.csv\")"
   ]
  },
  {
   "cell_type": "code",
   "execution_count": 60,
   "id": "39a37c2c",
   "metadata": {
    "execution": {
     "iopub.execute_input": "2024-12-07T21:28:12.739138Z",
     "iopub.status.busy": "2024-12-07T21:28:12.738301Z",
     "iopub.status.idle": "2024-12-07T21:28:12.744615Z",
     "shell.execute_reply": "2024-12-07T21:28:12.743652Z"
    },
    "papermill": {
     "duration": 0.033045,
     "end_time": "2024-12-07T21:28:12.746362",
     "exception": false,
     "start_time": "2024-12-07T21:28:12.713317",
     "status": "completed"
    },
    "tags": []
   },
   "outputs": [],
   "source": [
    "df=test_data.copy()"
   ]
  },
  {
   "cell_type": "code",
   "execution_count": 61,
   "id": "da18be8d",
   "metadata": {
    "execution": {
     "iopub.execute_input": "2024-12-07T21:28:12.794772Z",
     "iopub.status.busy": "2024-12-07T21:28:12.794352Z",
     "iopub.status.idle": "2024-12-07T21:28:12.801468Z",
     "shell.execute_reply": "2024-12-07T21:28:12.800461Z"
    },
    "papermill": {
     "duration": 0.034129,
     "end_time": "2024-12-07T21:28:12.803364",
     "exception": false,
     "start_time": "2024-12-07T21:28:12.769235",
     "status": "completed"
    },
    "tags": []
   },
   "outputs": [
    {
     "data": {
      "text/plain": [
       "(10000, 15)"
      ]
     },
     "execution_count": 61,
     "metadata": {},
     "output_type": "execute_result"
    }
   ],
   "source": [
    "df.shape"
   ]
  },
  {
   "cell_type": "code",
   "execution_count": 62,
   "id": "ca260008",
   "metadata": {
    "execution": {
     "iopub.execute_input": "2024-12-07T21:28:12.852302Z",
     "iopub.status.busy": "2024-12-07T21:28:12.851560Z",
     "iopub.status.idle": "2024-12-07T21:28:12.871804Z",
     "shell.execute_reply": "2024-12-07T21:28:12.870788Z"
    },
    "papermill": {
     "duration": 0.047139,
     "end_time": "2024-12-07T21:28:12.873935",
     "exception": false,
     "start_time": "2024-12-07T21:28:12.826796",
     "status": "completed"
    },
    "tags": []
   },
   "outputs": [
    {
     "data": {
      "text/html": [
       "<div>\n",
       "<style scoped>\n",
       "    .dataframe tbody tr th:only-of-type {\n",
       "        vertical-align: middle;\n",
       "    }\n",
       "\n",
       "    .dataframe tbody tr th {\n",
       "        vertical-align: top;\n",
       "    }\n",
       "\n",
       "    .dataframe thead th {\n",
       "        text-align: right;\n",
       "    }\n",
       "</style>\n",
       "<table border=\"1\" class=\"dataframe\">\n",
       "  <thead>\n",
       "    <tr style=\"text-align: right;\">\n",
       "      <th></th>\n",
       "      <th>last contact date</th>\n",
       "      <th>age</th>\n",
       "      <th>job</th>\n",
       "      <th>marital</th>\n",
       "      <th>education</th>\n",
       "      <th>default</th>\n",
       "      <th>balance</th>\n",
       "      <th>housing</th>\n",
       "      <th>loan</th>\n",
       "      <th>contact</th>\n",
       "      <th>duration</th>\n",
       "      <th>campaign</th>\n",
       "      <th>pdays</th>\n",
       "      <th>previous</th>\n",
       "      <th>poutcome</th>\n",
       "    </tr>\n",
       "  </thead>\n",
       "  <tbody>\n",
       "    <tr>\n",
       "      <th>0</th>\n",
       "      <td>2009-11-21</td>\n",
       "      <td>36</td>\n",
       "      <td>management</td>\n",
       "      <td>single</td>\n",
       "      <td>tertiary</td>\n",
       "      <td>no</td>\n",
       "      <td>7</td>\n",
       "      <td>no</td>\n",
       "      <td>no</td>\n",
       "      <td>NaN</td>\n",
       "      <td>20</td>\n",
       "      <td>1</td>\n",
       "      <td>-1</td>\n",
       "      <td>0</td>\n",
       "      <td>NaN</td>\n",
       "    </tr>\n",
       "    <tr>\n",
       "      <th>1</th>\n",
       "      <td>2010-02-04</td>\n",
       "      <td>30</td>\n",
       "      <td>unemployed</td>\n",
       "      <td>married</td>\n",
       "      <td>tertiary</td>\n",
       "      <td>no</td>\n",
       "      <td>1067</td>\n",
       "      <td>no</td>\n",
       "      <td>no</td>\n",
       "      <td>cellular</td>\n",
       "      <td>78</td>\n",
       "      <td>2</td>\n",
       "      <td>-1</td>\n",
       "      <td>0</td>\n",
       "      <td>NaN</td>\n",
       "    </tr>\n",
       "    <tr>\n",
       "      <th>2</th>\n",
       "      <td>2010-07-28</td>\n",
       "      <td>32</td>\n",
       "      <td>blue-collar</td>\n",
       "      <td>single</td>\n",
       "      <td>secondary</td>\n",
       "      <td>no</td>\n",
       "      <td>82</td>\n",
       "      <td>yes</td>\n",
       "      <td>no</td>\n",
       "      <td>cellular</td>\n",
       "      <td>86</td>\n",
       "      <td>4</td>\n",
       "      <td>-1</td>\n",
       "      <td>0</td>\n",
       "      <td>NaN</td>\n",
       "    </tr>\n",
       "    <tr>\n",
       "      <th>3</th>\n",
       "      <td>2010-06-09</td>\n",
       "      <td>38</td>\n",
       "      <td>admin.</td>\n",
       "      <td>married</td>\n",
       "      <td>primary</td>\n",
       "      <td>no</td>\n",
       "      <td>1487</td>\n",
       "      <td>no</td>\n",
       "      <td>no</td>\n",
       "      <td>NaN</td>\n",
       "      <td>332</td>\n",
       "      <td>2</td>\n",
       "      <td>-1</td>\n",
       "      <td>0</td>\n",
       "      <td>NaN</td>\n",
       "    </tr>\n",
       "    <tr>\n",
       "      <th>4</th>\n",
       "      <td>2008-03-02</td>\n",
       "      <td>59</td>\n",
       "      <td>management</td>\n",
       "      <td>married</td>\n",
       "      <td>tertiary</td>\n",
       "      <td>no</td>\n",
       "      <td>315</td>\n",
       "      <td>no</td>\n",
       "      <td>no</td>\n",
       "      <td>cellular</td>\n",
       "      <td>591</td>\n",
       "      <td>1</td>\n",
       "      <td>176</td>\n",
       "      <td>2</td>\n",
       "      <td>failure</td>\n",
       "    </tr>\n",
       "  </tbody>\n",
       "</table>\n",
       "</div>"
      ],
      "text/plain": [
       "  last contact date  age          job  marital  education default  balance  \\\n",
       "0        2009-11-21   36   management   single   tertiary      no        7   \n",
       "1        2010-02-04   30   unemployed  married   tertiary      no     1067   \n",
       "2        2010-07-28   32  blue-collar   single  secondary      no       82   \n",
       "3        2010-06-09   38       admin.  married    primary      no     1487   \n",
       "4        2008-03-02   59   management  married   tertiary      no      315   \n",
       "\n",
       "  housing loan   contact  duration  campaign  pdays  previous poutcome  \n",
       "0      no   no       NaN        20         1     -1         0      NaN  \n",
       "1      no   no  cellular        78         2     -1         0      NaN  \n",
       "2     yes   no  cellular        86         4     -1         0      NaN  \n",
       "3      no   no       NaN       332         2     -1         0      NaN  \n",
       "4      no   no  cellular       591         1    176         2  failure  "
      ]
     },
     "execution_count": 62,
     "metadata": {},
     "output_type": "execute_result"
    }
   ],
   "source": [
    "df.head()"
   ]
  },
  {
   "cell_type": "code",
   "execution_count": 63,
   "id": "e595b032",
   "metadata": {
    "execution": {
     "iopub.execute_input": "2024-12-07T21:28:12.923315Z",
     "iopub.status.busy": "2024-12-07T21:28:12.922946Z",
     "iopub.status.idle": "2024-12-07T21:28:12.928083Z",
     "shell.execute_reply": "2024-12-07T21:28:12.927122Z"
    },
    "papermill": {
     "duration": 0.031896,
     "end_time": "2024-12-07T21:28:12.930065",
     "exception": false,
     "start_time": "2024-12-07T21:28:12.898169",
     "status": "completed"
    },
    "tags": []
   },
   "outputs": [],
   "source": [
    "si=SimpleImputer(strategy=\"most_frequent\")"
   ]
  },
  {
   "cell_type": "code",
   "execution_count": 64,
   "id": "e78e4caf",
   "metadata": {
    "execution": {
     "iopub.execute_input": "2024-12-07T21:28:12.980094Z",
     "iopub.status.busy": "2024-12-07T21:28:12.979702Z",
     "iopub.status.idle": "2024-12-07T21:28:13.207437Z",
     "shell.execute_reply": "2024-12-07T21:28:13.206608Z"
    },
    "papermill": {
     "duration": 0.256424,
     "end_time": "2024-12-07T21:28:13.209748",
     "exception": false,
     "start_time": "2024-12-07T21:28:12.953324",
     "status": "completed"
    },
    "tags": []
   },
   "outputs": [],
   "source": [
    "si=SimpleImputer(strategy=\"most_frequent\")                                                     # imputing missing values with most frequent category\n",
    "df[['job','education', 'contact']]=si.fit_transform(df[['job','education', 'contact']])        # imputing missing values with most frequent category \n",
    "df[\"poutcome\"] = df[\"poutcome\"].fillna(\"No contact\")                                           # filling missing values with \"No contact\" by using p days features\n",
    "df[['loan','housing', 'default']]=encoder.fit_transform(df[['loan','housing', 'default']])\n",
    "x=df.loc[:,:'poutcome']                                  \n",
    "# seperating target from dataset and stored as a y variable     \n",
    "x['last contact date'] = pd.to_datetime(x['last contact date'])                            # convert data to Datetime\n",
    "reference_date = pd.to_datetime(\"2010-12-31\")                                              # Assigning reference date\n",
    "x['days_since_last_contact'] = (reference_date - x['last contact date']).dt.days           # create new feature for last contact       \n",
    "x['day'] = x['last contact date'].dt.day                     # convert data to Day\n",
    "x['month'] = x['last contact date'].dt.month                 # convert data to month\n",
    "x['year'] =x['last contact date'].dt.year                    # convert data to year\n",
    "x['weekday'] =x['last contact date'].dt.day_name()           # convert data to week day\n",
    "x = x.drop(columns=['last contact date'])                    # last contact date is dropped.\n",
    "x.head()      \n",
    "age_bin = [18, 30, 45, 60, x['age'].max()]                                                                #create bins for age  \n",
    "labels_age = ['Young', 'Adult', 'Middle-aged', 'old']                                                     #create labels for age \n",
    "x['age_bin'] = pd.cut(x['age'], bins=age_bin, labels=labels_age, right=True)                              #create new column and apply bins for age\n",
    "bins_recency = [0, 30, 90, 180, x['days_since_last_contact'].max()]                                                      #create bins for last contact date\n",
    "labels_recency = ['Very Recent', 'Recent', 'Moderate', 'Old']                                                            #create labels for last contact date\n",
    "x['recency_bin'] = pd.cut(x['days_since_last_contact'], bins=bins_recency, labels=labels_recency, right=True)            #create new column and apply bins for last contact date  \n",
    "bins_duration = [0, 120, 300, x.duration.max()]                                                           #create bins for duration\n",
    "labels_duration = ['Short', 'Medium', 'Long']                                                             #create labels for duration\n",
    "x['duration_bin'] = pd.cut(x['duration'], bins=bins_duration, labels=labels_duration, right=True)         #create new column for bin\n",
    "# create bins for balance\n",
    "balance_quantiles = x['balance'].quantile([0.25, 0.75]).values\n",
    "bins_balance = [-float('inf'), balance_quantiles[0], balance_quantiles[1], float('inf')]\n",
    "labels_balance = ['Low', 'Medium', 'High']\n",
    "x['balance_bin'] = pd.cut(x['balance'], bins=bins_balance, labels=labels_balance)\n",
    "\n",
    "\n",
    "def housing_loan_combination(row):\n",
    "    if row['housing'] == 'yes' and row['loan'] == 'yes':\n",
    "        return 'Both Loans'\n",
    "    elif row['housing'] == 'yes' and row['loan'] == 'no':\n",
    "        return 'Housing Loan Only'\n",
    "    elif row['housing'] == 'no' and row['loan'] == 'yes':\n",
    "        return 'Personal Loan Only'\n",
    "    else:\n",
    "        return 'No Loans'\n",
    "\n",
    "#create new column if the candidate has a single contact or multiple times\n",
    "\n",
    "x['contact_type'] = x['campaign'].apply(lambda x: 'Single Contact' if x == 1 else 'Multiple Contacts') \n",
    "\n",
    "\n",
    "# applying function on the dataset\n",
    "x['loan_combination'] = x.apply(housing_loan_combination, axis=1)\n",
    "\n",
    "\n",
    "# combining job and age  \n",
    "x['customer_profile'] = x['age_bin'].astype(str) + \"_\" + x['job']\n",
    "\n",
    "\n",
    "# combining campaign and previous\n",
    "x['interaction_campaign_previous'] = x['campaign'] * x['previous']\n",
    "\n",
    "\n",
    "#combining balance and contact\n",
    "x['balance_contact_combo'] = x['balance_bin'].astype(str) + \"_\" +x['contact_type']\n",
    "\n",
    "\n",
    "x[['loan_combination', 'customer_profile', 'interaction_campaign_previous', 'balance_contact_combo']].head()\n",
    "#Applying the above function to pdays and balance columns.\n",
    "x['pdays_bool']=x[\"pdays\"].apply(pbool)\n",
    "x['balance_bool']=x[\"balance\"].apply(pbool)\n",
    "#Applying the above function to pdays and balance columns.\n",
    "x['pos_balance']=x['balance'].apply(rmneg)\n",
    "x['pos_pdays']=x['pdays'].apply(rmneg)"
   ]
  },
  {
   "cell_type": "code",
   "execution_count": 65,
   "id": "1d6f72a2",
   "metadata": {
    "execution": {
     "iopub.execute_input": "2024-12-07T21:28:13.258544Z",
     "iopub.status.busy": "2024-12-07T21:28:13.258175Z",
     "iopub.status.idle": "2024-12-07T21:28:13.336107Z",
     "shell.execute_reply": "2024-12-07T21:28:13.335165Z"
    },
    "papermill": {
     "duration": 0.104652,
     "end_time": "2024-12-07T21:28:13.338327",
     "exception": false,
     "start_time": "2024-12-07T21:28:13.233675",
     "status": "completed"
    },
    "tags": []
   },
   "outputs": [
    {
     "data": {
      "text/html": [
       "<div>\n",
       "<style scoped>\n",
       "    .dataframe tbody tr th:only-of-type {\n",
       "        vertical-align: middle;\n",
       "    }\n",
       "\n",
       "    .dataframe tbody tr th {\n",
       "        vertical-align: top;\n",
       "    }\n",
       "\n",
       "    .dataframe thead th {\n",
       "        text-align: right;\n",
       "    }\n",
       "</style>\n",
       "<table border=\"1\" class=\"dataframe\">\n",
       "  <thead>\n",
       "    <tr style=\"text-align: right;\">\n",
       "      <th></th>\n",
       "      <th>ohe__job_admin.</th>\n",
       "      <th>ohe__job_blue-collar</th>\n",
       "      <th>ohe__job_entrepreneur</th>\n",
       "      <th>ohe__job_housemaid</th>\n",
       "      <th>ohe__job_management</th>\n",
       "      <th>ohe__job_retired</th>\n",
       "      <th>ohe__job_self-employed</th>\n",
       "      <th>ohe__job_services</th>\n",
       "      <th>ohe__job_student</th>\n",
       "      <th>ohe__job_technician</th>\n",
       "      <th>...</th>\n",
       "      <th>scaler__previous</th>\n",
       "      <th>scaler__days_since_last_contact</th>\n",
       "      <th>scaler__day</th>\n",
       "      <th>scaler__month</th>\n",
       "      <th>scaler__year</th>\n",
       "      <th>scaler__interaction_campaign_previous</th>\n",
       "      <th>scaler__pdays_bool</th>\n",
       "      <th>scaler__balance_bool</th>\n",
       "      <th>scaler__pos_balance</th>\n",
       "      <th>scaler__pos_pdays</th>\n",
       "    </tr>\n",
       "  </thead>\n",
       "  <tbody>\n",
       "    <tr>\n",
       "      <th>0</th>\n",
       "      <td>0.0</td>\n",
       "      <td>0.0</td>\n",
       "      <td>0.0</td>\n",
       "      <td>0.0</td>\n",
       "      <td>1.0</td>\n",
       "      <td>0.0</td>\n",
       "      <td>0.0</td>\n",
       "      <td>0.0</td>\n",
       "      <td>0.0</td>\n",
       "      <td>0.0</td>\n",
       "      <td>...</td>\n",
       "      <td>0.000000</td>\n",
       "      <td>0.369963</td>\n",
       "      <td>0.666667</td>\n",
       "      <td>0.909091</td>\n",
       "      <td>0.5</td>\n",
       "      <td>0.000000</td>\n",
       "      <td>0.0</td>\n",
       "      <td>1.0</td>\n",
       "      <td>0.000345</td>\n",
       "      <td>0.000000</td>\n",
       "    </tr>\n",
       "    <tr>\n",
       "      <th>1</th>\n",
       "      <td>0.0</td>\n",
       "      <td>0.0</td>\n",
       "      <td>0.0</td>\n",
       "      <td>0.0</td>\n",
       "      <td>0.0</td>\n",
       "      <td>0.0</td>\n",
       "      <td>0.0</td>\n",
       "      <td>0.0</td>\n",
       "      <td>0.0</td>\n",
       "      <td>0.0</td>\n",
       "      <td>...</td>\n",
       "      <td>0.000000</td>\n",
       "      <td>0.301282</td>\n",
       "      <td>0.100000</td>\n",
       "      <td>0.090909</td>\n",
       "      <td>1.0</td>\n",
       "      <td>0.000000</td>\n",
       "      <td>0.0</td>\n",
       "      <td>1.0</td>\n",
       "      <td>0.052603</td>\n",
       "      <td>0.000000</td>\n",
       "    </tr>\n",
       "    <tr>\n",
       "      <th>2</th>\n",
       "      <td>0.0</td>\n",
       "      <td>1.0</td>\n",
       "      <td>0.0</td>\n",
       "      <td>0.0</td>\n",
       "      <td>0.0</td>\n",
       "      <td>0.0</td>\n",
       "      <td>0.0</td>\n",
       "      <td>0.0</td>\n",
       "      <td>0.0</td>\n",
       "      <td>0.0</td>\n",
       "      <td>...</td>\n",
       "      <td>0.000000</td>\n",
       "      <td>0.141941</td>\n",
       "      <td>0.900000</td>\n",
       "      <td>0.545455</td>\n",
       "      <td>1.0</td>\n",
       "      <td>0.000000</td>\n",
       "      <td>0.0</td>\n",
       "      <td>1.0</td>\n",
       "      <td>0.004043</td>\n",
       "      <td>0.000000</td>\n",
       "    </tr>\n",
       "    <tr>\n",
       "      <th>3</th>\n",
       "      <td>1.0</td>\n",
       "      <td>0.0</td>\n",
       "      <td>0.0</td>\n",
       "      <td>0.0</td>\n",
       "      <td>0.0</td>\n",
       "      <td>0.0</td>\n",
       "      <td>0.0</td>\n",
       "      <td>0.0</td>\n",
       "      <td>0.0</td>\n",
       "      <td>0.0</td>\n",
       "      <td>...</td>\n",
       "      <td>0.000000</td>\n",
       "      <td>0.186813</td>\n",
       "      <td>0.266667</td>\n",
       "      <td>0.454545</td>\n",
       "      <td>1.0</td>\n",
       "      <td>0.000000</td>\n",
       "      <td>0.0</td>\n",
       "      <td>1.0</td>\n",
       "      <td>0.073309</td>\n",
       "      <td>0.000000</td>\n",
       "    </tr>\n",
       "    <tr>\n",
       "      <th>4</th>\n",
       "      <td>0.0</td>\n",
       "      <td>0.0</td>\n",
       "      <td>0.0</td>\n",
       "      <td>0.0</td>\n",
       "      <td>1.0</td>\n",
       "      <td>0.0</td>\n",
       "      <td>0.0</td>\n",
       "      <td>0.0</td>\n",
       "      <td>0.0</td>\n",
       "      <td>0.0</td>\n",
       "      <td>...</td>\n",
       "      <td>0.007273</td>\n",
       "      <td>0.945971</td>\n",
       "      <td>0.033333</td>\n",
       "      <td>0.181818</td>\n",
       "      <td>0.0</td>\n",
       "      <td>0.000118</td>\n",
       "      <td>1.0</td>\n",
       "      <td>1.0</td>\n",
       "      <td>0.015529</td>\n",
       "      <td>0.202067</td>\n",
       "    </tr>\n",
       "  </tbody>\n",
       "</table>\n",
       "<p>5 rows × 124 columns</p>\n",
       "</div>"
      ],
      "text/plain": [
       "   ohe__job_admin.  ohe__job_blue-collar  ohe__job_entrepreneur  \\\n",
       "0              0.0                   0.0                    0.0   \n",
       "1              0.0                   0.0                    0.0   \n",
       "2              0.0                   1.0                    0.0   \n",
       "3              1.0                   0.0                    0.0   \n",
       "4              0.0                   0.0                    0.0   \n",
       "\n",
       "   ohe__job_housemaid  ohe__job_management  ohe__job_retired  \\\n",
       "0                 0.0                  1.0               0.0   \n",
       "1                 0.0                  0.0               0.0   \n",
       "2                 0.0                  0.0               0.0   \n",
       "3                 0.0                  0.0               0.0   \n",
       "4                 0.0                  1.0               0.0   \n",
       "\n",
       "   ohe__job_self-employed  ohe__job_services  ohe__job_student  \\\n",
       "0                     0.0                0.0               0.0   \n",
       "1                     0.0                0.0               0.0   \n",
       "2                     0.0                0.0               0.0   \n",
       "3                     0.0                0.0               0.0   \n",
       "4                     0.0                0.0               0.0   \n",
       "\n",
       "   ohe__job_technician  ...  scaler__previous  \\\n",
       "0                  0.0  ...          0.000000   \n",
       "1                  0.0  ...          0.000000   \n",
       "2                  0.0  ...          0.000000   \n",
       "3                  0.0  ...          0.000000   \n",
       "4                  0.0  ...          0.007273   \n",
       "\n",
       "   scaler__days_since_last_contact  scaler__day  scaler__month  scaler__year  \\\n",
       "0                         0.369963     0.666667       0.909091           0.5   \n",
       "1                         0.301282     0.100000       0.090909           1.0   \n",
       "2                         0.141941     0.900000       0.545455           1.0   \n",
       "3                         0.186813     0.266667       0.454545           1.0   \n",
       "4                         0.945971     0.033333       0.181818           0.0   \n",
       "\n",
       "   scaler__interaction_campaign_previous  scaler__pdays_bool  \\\n",
       "0                               0.000000                 0.0   \n",
       "1                               0.000000                 0.0   \n",
       "2                               0.000000                 0.0   \n",
       "3                               0.000000                 0.0   \n",
       "4                               0.000118                 1.0   \n",
       "\n",
       "   scaler__balance_bool  scaler__pos_balance  scaler__pos_pdays  \n",
       "0                   1.0             0.000345           0.000000  \n",
       "1                   1.0             0.052603           0.000000  \n",
       "2                   1.0             0.004043           0.000000  \n",
       "3                   1.0             0.073309           0.000000  \n",
       "4                   1.0             0.015529           0.202067  \n",
       "\n",
       "[5 rows x 124 columns]"
      ]
     },
     "execution_count": 65,
     "metadata": {},
     "output_type": "execute_result"
    }
   ],
   "source": [
    "X_transformed = pre_pipeline.transform(x)\n",
    "\n",
    "X_transformed_df = pd.DataFrame(X_transformed, columns=pre_pipeline.get_feature_names_out())\n",
    "\n",
    "X_transformed_df.head()"
   ]
  },
  {
   "cell_type": "markdown",
   "id": "a3b7410f",
   "metadata": {
    "papermill": {
     "duration": 0.024819,
     "end_time": "2024-12-07T21:28:13.387607",
     "exception": false,
     "start_time": "2024-12-07T21:28:13.362788",
     "status": "completed"
    },
    "tags": []
   },
   "source": [
    "# Predicting the test Dataset"
   ]
  },
  {
   "cell_type": "code",
   "execution_count": 66,
   "id": "17de4e69",
   "metadata": {
    "execution": {
     "iopub.execute_input": "2024-12-07T21:28:13.437188Z",
     "iopub.status.busy": "2024-12-07T21:28:13.436805Z",
     "iopub.status.idle": "2024-12-07T21:28:13.469418Z",
     "shell.execute_reply": "2024-12-07T21:28:13.468664Z"
    },
    "papermill": {
     "duration": 0.060357,
     "end_time": "2024-12-07T21:28:13.471984",
     "exception": false,
     "start_time": "2024-12-07T21:28:13.411627",
     "status": "completed"
    },
    "tags": []
   },
   "outputs": [],
   "source": [
    "out=XGB.predict(X_transformed_df)"
   ]
  },
  {
   "cell_type": "code",
   "execution_count": 67,
   "id": "84d50e7f",
   "metadata": {
    "execution": {
     "iopub.execute_input": "2024-12-07T21:28:13.524786Z",
     "iopub.status.busy": "2024-12-07T21:28:13.524047Z",
     "iopub.status.idle": "2024-12-07T21:28:13.541276Z",
     "shell.execute_reply": "2024-12-07T21:28:13.540355Z"
    },
    "papermill": {
     "duration": 0.043988,
     "end_time": "2024-12-07T21:28:13.543035",
     "exception": false,
     "start_time": "2024-12-07T21:28:13.499047",
     "status": "completed"
    },
    "tags": []
   },
   "outputs": [
    {
     "data": {
      "text/plain": [
       "count     10000\n",
       "unique        2\n",
       "top          no\n",
       "freq       7496\n",
       "Name: out, dtype: object"
      ]
     },
     "execution_count": 67,
     "metadata": {},
     "output_type": "execute_result"
    }
   ],
   "source": [
    "test_data['out']=out\n",
    "test_data['out']=test_data['out'].map({1:'yes',0:'no'})\n",
    "test_data['out'].describe()"
   ]
  },
  {
   "cell_type": "code",
   "execution_count": 68,
   "id": "668817b0",
   "metadata": {
    "execution": {
     "iopub.execute_input": "2024-12-07T21:28:13.592573Z",
     "iopub.status.busy": "2024-12-07T21:28:13.591906Z",
     "iopub.status.idle": "2024-12-07T21:28:13.597838Z",
     "shell.execute_reply": "2024-12-07T21:28:13.596737Z"
    },
    "papermill": {
     "duration": 0.032781,
     "end_time": "2024-12-07T21:28:13.599780",
     "exception": false,
     "start_time": "2024-12-07T21:28:13.566999",
     "status": "completed"
    },
    "tags": []
   },
   "outputs": [],
   "source": [
    "submission = pd.DataFrame({\n",
    "    'id': range(0, len(out)),\n",
    "    'target': test_data['out']\n",
    "})"
   ]
  },
  {
   "cell_type": "markdown",
   "id": "1dea57fe",
   "metadata": {
    "papermill": {
     "duration": 0.024726,
     "end_time": "2024-12-07T21:28:13.648511",
     "exception": false,
     "start_time": "2024-12-07T21:28:13.623785",
     "status": "completed"
    },
    "tags": []
   },
   "source": [
    "## Submission  "
   ]
  },
  {
   "cell_type": "code",
   "execution_count": 69,
   "id": "ea9202c5",
   "metadata": {
    "execution": {
     "iopub.execute_input": "2024-12-07T21:28:13.699302Z",
     "iopub.status.busy": "2024-12-07T21:28:13.698943Z",
     "iopub.status.idle": "2024-12-07T21:28:13.717563Z",
     "shell.execute_reply": "2024-12-07T21:28:13.716501Z"
    },
    "papermill": {
     "duration": 0.04707,
     "end_time": "2024-12-07T21:28:13.719874",
     "exception": false,
     "start_time": "2024-12-07T21:28:13.672804",
     "status": "completed"
    },
    "tags": []
   },
   "outputs": [],
   "source": [
    "submission.to_csv('submission.csv',index=False)"
   ]
  }
 ],
 "metadata": {
  "kaggle": {
   "accelerator": "none",
   "dataSources": [
    {
     "databundleVersionId": 9578279,
     "sourceId": 85062,
     "sourceType": "competition"
    }
   ],
   "dockerImageVersionId": 30786,
   "isGpuEnabled": false,
   "isInternetEnabled": true,
   "language": "python",
   "sourceType": "notebook"
  },
  "kernelspec": {
   "display_name": "Python 3",
   "language": "python",
   "name": "python3"
  },
  "language_info": {
   "codemirror_mode": {
    "name": "ipython",
    "version": 3
   },
   "file_extension": ".py",
   "mimetype": "text/x-python",
   "name": "python",
   "nbconvert_exporter": "python",
   "pygments_lexer": "ipython3",
   "version": "3.10.14"
  },
  "papermill": {
   "default_parameters": {},
   "duration": 27493.891249,
   "end_time": "2024-12-07T21:28:16.467514",
   "environment_variables": {},
   "exception": null,
   "input_path": "__notebook__.ipynb",
   "output_path": "__notebook__.ipynb",
   "parameters": {},
   "start_time": "2024-12-07T13:50:02.576265",
   "version": "2.6.0"
  }
 },
 "nbformat": 4,
 "nbformat_minor": 5
}
